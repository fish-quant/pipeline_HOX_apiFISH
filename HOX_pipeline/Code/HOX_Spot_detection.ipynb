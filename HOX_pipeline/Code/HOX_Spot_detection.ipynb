{
 "cells": [
  {
   "cell_type": "markdown",
   "metadata": {},
   "source": [
    "Before running the spot detection notebook, run the first notebook, \"Read_files_create_batch.ipynb'.\n",
    "\n",
    "In this notebook we will detect the fish spots using an automatic method called UFISH and a semi manual one\n",
    "called BIGFISH.\n",
    "\n",
    "23/05/25     Jacques Bourg @ Florian Muller lab. Institut Pasteur.\n",
    "\n",
    "<img src=\"./HOX_pipeline.png\" alt=\"LNP pipeline\" width=\"1200\" height=\"477\">"
   ]
  },
  {
   "cell_type": "code",
   "execution_count": 13,
   "metadata": {},
   "outputs": [],
   "source": [
    "import os\n",
    "import sys\n",
    "import numpy as np\n",
    "from pathlib import Path\n",
    "import skimage.io as io\n",
    "import napari\n",
    "\n",
    "import ipywidgets as widgets\n",
    "from IPython.display import display"
   ]
  },
  {
   "cell_type": "code",
   "execution_count": 14,
   "metadata": {},
   "outputs": [
    {
     "name": "stdout",
     "output_type": "stream",
     "text": [
      "The autoreload extension is already loaded. To reload it, use:\n",
      "  %reload_ext autoreload\n"
     ]
    }
   ],
   "source": [
    "%load_ext autoreload\n",
    "%autoreload 2\n",
    "\n",
    "base_dir = Path(\"../../src\").resolve()\n",
    "sys.path.append(str(base_dir))\n",
    "sys.path.append(str(base_dir / \"utils\"))\n",
    "sys.path.append(str(base_dir / \"detection_fish\"))\n",
    "sys.path.append(str(base_dir / \"segmentation\"))\n",
    "\n",
    "from utils.parameters_tracking import Parameter_tracking as Track\n",
    "from utils.file_handling import FileProcessor\n",
    "from detection_fish.detect_fish_spots import DetectionPipeline\n",
    "from detection_fish.thresh_big_fish_napariV3 import SpotsThresholding \n",
    "from segmentation.refine_seg import Segmentation\n",
    "\n",
    "tk  = Track()\n",
    "det = DetectionPipeline()\n",
    "sg  = Segmentation()\n",
    "fp  = FileProcessor()"
   ]
  },
  {
   "cell_type": "code",
   "execution_count": 15,
   "metadata": {},
   "outputs": [
    {
     "data": {
      "application/vnd.jupyter.widget-view+json": {
       "model_id": "43037aa3ad50482d89f81518a1245503",
       "version_major": 2,
       "version_minor": 0
      },
      "text/plain": [
       "Dropdown(description='Select:', layout=Layout(min_width='150px', width='auto'), options=('2024-11-18_Helena-Ho…"
      ]
     },
     "metadata": {},
     "output_type": "display_data"
    }
   ],
   "source": [
    "var = str(Path('../Analysis'))\n",
    "batch_folders = os.listdir(var)\n",
    "dropdown = widgets.Dropdown(options=batch_folders, description='Select:', layout=widgets.Layout(width='auto', min_width='150px'))\n",
    "display(dropdown)"
   ]
  },
  {
   "cell_type": "code",
   "execution_count": 16,
   "metadata": {},
   "outputs": [
    {
     "name": "stdout",
     "output_type": "stream",
     "text": [
      "2024-11-18_Helena-Hox-9-10_spinning_2\n"
     ]
    }
   ],
   "source": [
    "n         = np.where(np.array(batch_folders) == dropdown.value)[0][0]\n",
    "file_path = str(Path(var) / Path(batch_folders[n]) / Path(batch_folders[n] +'.json'))\n",
    "constants = tk.load_json(file_path)\n",
    "batch_name= constants['BATCH_NAME']; print(batch_name)"
   ]
  },
  {
   "cell_type": "code",
   "execution_count": 17,
   "metadata": {},
   "outputs": [
    {
     "data": {
      "application/vnd.jupyter.widget-view+json": {
       "model_id": "a39618e8f8fb4721aabe9e804e34afb3",
       "version_major": 2,
       "version_minor": 0
      },
      "text/plain": [
       "Dropdown(description='Select:', layout=Layout(min_width='150px', width='auto'), options=('EXPERIMENT', 'CONTRO…"
      ]
     },
     "metadata": {},
     "output_type": "display_data"
    }
   ],
   "source": [
    "modalities = constants['MODALITIES']\n",
    "dropdown2 = widgets.Dropdown(options=modalities, description='Select:', layout=widgets.Layout(width='auto', min_width='150px'))\n",
    "display(dropdown2)"
   ]
  },
  {
   "cell_type": "code",
   "execution_count": 18,
   "metadata": {},
   "outputs": [
    {
     "name": "stdout",
     "output_type": "stream",
     "text": [
      "EXPERIMENT\n"
     ]
    }
   ],
   "source": [
    "n2       = np.where(np.array(modalities) == dropdown2.value)[0][0]\n",
    "modality = modalities[n2]; print(modality)"
   ]
  },
  {
   "cell_type": "code",
   "execution_count": 19,
   "metadata": {},
   "outputs": [
    {
     "data": {
      "application/vnd.jupyter.widget-view+json": {
       "model_id": "a05aae46f5b64dc9963d64b9daabbcb4",
       "version_major": 2,
       "version_minor": 0
      },
      "text/plain": [
       "Dropdown(description='Select:', layout=Layout(min_width='150px', width='auto'), options=('DAPI', 'HOXC8', 'HOX…"
      ]
     },
     "metadata": {},
     "output_type": "display_data"
    }
   ],
   "source": [
    "channel_cell = constants['CHANNELS'] # (Doesn't make sense to select DAPI)\n",
    "dropdown3    = widgets.Dropdown(options=channel_cell, description='Select:', layout=widgets.Layout(width='auto', min_width='150px')); display(dropdown3)"
   ]
  },
  {
   "cell_type": "code",
   "execution_count": 32,
   "metadata": {},
   "outputs": [
    {
     "name": "stdout",
     "output_type": "stream",
     "text": [
      "HOXA10\n"
     ]
    }
   ],
   "source": [
    "n3     = np.where(np.array(channel_cell) == dropdown3.value)[0][0]\n",
    "chan_c = channel_cell[n3]; print(chan_c)"
   ]
  },
  {
   "cell_type": "code",
   "execution_count": 33,
   "metadata": {},
   "outputs": [
    {
     "name": "stdout",
     "output_type": "stream",
     "text": [
      "['../Acquisition/2024-11-18_Helena-Hox-9-10_spinning_2/EXPERIMENT/HOXA10/HM40-J3DIFF-NT6h-HOXA10-620_HOXC8-520-1002-1_HOXA10.tif', '../Acquisition/2024-11-18_Helena-Hox-9-10_spinning_2/EXPERIMENT/HOXA10/HM40-J3DIFF-NT24h-HOXA10-620_HOXC8-520-1005-1_HOXA10.tif', '../Acquisition/2024-11-18_Helena-Hox-9-10_spinning_2/EXPERIMENT/HOXA10/HM40-J3DIFF-NT48h-HOXA10-620_HOXC8-520-1008-1_HOXA10.tif', '../Acquisition/2024-11-18_Helena-Hox-9-10_spinning_2/EXPERIMENT/HOXA10/HM40-J3DIFF-GDF6h-HOXA10-620_HOXC8-522-1_HOXA10.tif', '../Acquisition/2024-11-18_Helena-Hox-9-10_spinning_2/EXPERIMENT/HOXA10/HM40-J3DIFF-GDF24h-HOXA10-620_HOXC8-525-1_HOXA10.tif', '../Acquisition/2024-11-18_Helena-Hox-9-10_spinning_2/EXPERIMENT/HOXA10/HM40-J3DIFF-GDF48h-HOXA10-620_HOXC8-528-1_HOXA10.tif', '../Acquisition/2024-11-18_Helena-Hox-9-10_spinning_2/EXPERIMENT/HOXA10/HM40-J3DIFF-FGFGDF6h-HOXA10-620_HOXC8-531-1_HOXA10.tif', '../Acquisition/2024-11-18_Helena-Hox-9-10_spinning_2/EXPERIMENT/HOXA10/HM40-J3DIFF-FGFGDF24h-HOXA10-620_HOXC8-534-1_HOXA10.tif', '../Acquisition/2024-11-18_Helena-Hox-9-10_spinning_2/EXPERIMENT/HOXA10/HM40-J3DIFF-FGFGDF48h-HOXA10-620_HOXC8-537-1_HOXA10.tif']\n"
     ]
    }
   ],
   "source": [
    "batch_fish = constants[f'BATCH_{modality}_{chan_c}']; print(batch_fish);"
   ]
  },
  {
   "cell_type": "code",
   "execution_count": 34,
   "metadata": {},
   "outputs": [
    {
     "name": "stdout",
     "output_type": "stream",
     "text": [
      "../Analysis/2024-11-18_Helena-Hox-9-10_spinning_2/EXPERIMENT/HOXA10/spots\n",
      "../Analysis/2024-11-18_Helena-Hox-9-10_spinning_2/EXPERIMENT/HOXA10/spots/UFISH\n",
      "../Analysis/2024-11-18_Helena-Hox-9-10_spinning_2/EXPERIMENT/HOXA10/spots/BIGFISH\n"
     ]
    }
   ],
   "source": [
    "spots_folder = Path(f'../Analysis/{batch_name}/{modality}/{chan_c}/spots')\n",
    "if not spots_folder.exists():\n",
    "    spots_folder.mkdir(parents=True)\n",
    "print(spots_folder)\n",
    "\n",
    "spots_ufish_folder = Path(f'../Analysis/{batch_name}/{modality}/{chan_c}/spots/UFISH')\n",
    "if not spots_ufish_folder.exists():\n",
    "    spots_ufish_folder.mkdir(parents=True)\n",
    "print(spots_ufish_folder)\n",
    "\n",
    "spots_bigfish_folder = Path(f'../Analysis/{batch_name}/{modality}/{chan_c}/spots/BIGFISH')\n",
    "if not spots_bigfish_folder.exists():\n",
    "    spots_bigfish_folder.mkdir(parents=True)\n",
    "print(spots_bigfish_folder)"
   ]
  },
  {
   "cell_type": "code",
   "execution_count": 35,
   "metadata": {},
   "outputs": [
    {
     "name": "stdout",
     "output_type": "stream",
     "text": [
      "CompletedProcess(args=['bash', '/home/jacques/Documents/FISH/Data_analysis/pipeline_smfish_in_apifish/src/detection_fish/env_activate_ufish_v2.sh', '/home/jacques/Documents/FISH/Data_analysis/pipeline_smfish_in_apifish/HOX_pipeline/Acquisition/2024-11-18_Helena-Hox-9-10_spinning_2/EXPERIMENT/HOXA10/HM40-J3DIFF-NT6h-HOXA10-620_HOXC8-520-1002-1_HOXA10.tif', '/home/jacques/Documents/FISH/Data_analysis/pipeline_smfish_in_apifish/HOX_pipeline/Analysis/2024-11-18_Helena-Hox-9-10_spinning_2/detected_ufish.npy', '/home/jacques/Documents/FISH/Data_analysis/pipeline_smfish_in_apifish'], returncode=0, stdout='Python result: \\n', stderr=\"2025-06-04 09:32:59.380 | INFO     | ufish.api:init_model:70 - Initializing ufish model with kwargs: {}\\n2025-06-04 09:32:59.380 | INFO     | ufish.api:init_model:72 - Number of parameters: 162959\\n2025-06-04 09:32:59.539 | INFO     | ufish.api:init_model:78 - CUDA is available, using GPU.\\n2025-06-04 09:32:59.539 | INFO     | ufish.api:_load_pth_file:232 - Loading weights from /home/jacques/Documents/FISH/Data_analysis/pipeline_smfish_in_apifish/src/detection_fish/v1.0-alldata-ufish_c32.pth\\n/home/jacques/miniconda3/envs/ufish_env/lib/python3.10/site-packages/ufish/api.py:234: FutureWarning: You are using `torch.load` with `weights_only=False` (the current default value), which uses the default pickle module implicitly. It is possible to construct malicious pickle data which will execute arbitrary code during unpickling (See https://github.com/pytorch/pytorch/blob/main/SECURITY.md#untrusted-models for more details). In a future release, the default value for `weights_only` will be flipped to `True`. This limits the functions that could be executed during unpickling. Arbitrary objects will no longer be allowed to be loaded via this mode unless they are explicitly allowlisted by the user via `torch.serialization.add_safe_globals`. We recommend you start setting `weights_only=True` for any use case where you don't have full control of the loaded file. Please open an issue on GitHub for any issues related to this experimental feature.\\n  state_dict = torch.load(path, map_location=device)\\n2025-06-04 09:32:59.551 | INFO     | ufish.api:predict:417 - Axes not specified, infering from image shape.\\n2025-06-04 09:32:59.551 | INFO     | ufish.api:predict:419 - Infered axes: yx, image shape: (2048, 2048)\\n2025-06-04 09:32:59.585 | WARNING  | ufish.utils.img:scale_image:31 - Image has outlier values. \\n\")\n",
      "Execution time 3.99 seconds.\n",
      "CompletedProcess(args=['bash', '/home/jacques/Documents/FISH/Data_analysis/pipeline_smfish_in_apifish/src/detection_fish/env_activate_ufish_v2.sh', '/home/jacques/Documents/FISH/Data_analysis/pipeline_smfish_in_apifish/HOX_pipeline/Acquisition/2024-11-18_Helena-Hox-9-10_spinning_2/EXPERIMENT/HOXA10/HM40-J3DIFF-NT24h-HOXA10-620_HOXC8-520-1005-1_HOXA10.tif', '/home/jacques/Documents/FISH/Data_analysis/pipeline_smfish_in_apifish/HOX_pipeline/Analysis/2024-11-18_Helena-Hox-9-10_spinning_2/detected_ufish.npy', '/home/jacques/Documents/FISH/Data_analysis/pipeline_smfish_in_apifish'], returncode=0, stdout='Python result: \\n', stderr=\"2025-06-04 09:33:03.498 | INFO     | ufish.api:init_model:70 - Initializing ufish model with kwargs: {}\\n2025-06-04 09:33:03.498 | INFO     | ufish.api:init_model:72 - Number of parameters: 162959\\n2025-06-04 09:33:03.651 | INFO     | ufish.api:init_model:78 - CUDA is available, using GPU.\\n2025-06-04 09:33:03.651 | INFO     | ufish.api:_load_pth_file:232 - Loading weights from /home/jacques/Documents/FISH/Data_analysis/pipeline_smfish_in_apifish/src/detection_fish/v1.0-alldata-ufish_c32.pth\\n/home/jacques/miniconda3/envs/ufish_env/lib/python3.10/site-packages/ufish/api.py:234: FutureWarning: You are using `torch.load` with `weights_only=False` (the current default value), which uses the default pickle module implicitly. It is possible to construct malicious pickle data which will execute arbitrary code during unpickling (See https://github.com/pytorch/pytorch/blob/main/SECURITY.md#untrusted-models for more details). In a future release, the default value for `weights_only` will be flipped to `True`. This limits the functions that could be executed during unpickling. Arbitrary objects will no longer be allowed to be loaded via this mode unless they are explicitly allowlisted by the user via `torch.serialization.add_safe_globals`. We recommend you start setting `weights_only=True` for any use case where you don't have full control of the loaded file. Please open an issue on GitHub for any issues related to this experimental feature.\\n  state_dict = torch.load(path, map_location=device)\\n2025-06-04 09:33:03.664 | INFO     | ufish.api:predict:417 - Axes not specified, infering from image shape.\\n2025-06-04 09:33:03.664 | INFO     | ufish.api:predict:419 - Infered axes: yx, image shape: (2048, 2048)\\n2025-06-04 09:33:03.709 | WARNING  | ufish.utils.img:scale_image:31 - Image has outlier values. \\n\")\n",
      "Execution time 3.79 seconds.\n",
      "CompletedProcess(args=['bash', '/home/jacques/Documents/FISH/Data_analysis/pipeline_smfish_in_apifish/src/detection_fish/env_activate_ufish_v2.sh', '/home/jacques/Documents/FISH/Data_analysis/pipeline_smfish_in_apifish/HOX_pipeline/Acquisition/2024-11-18_Helena-Hox-9-10_spinning_2/EXPERIMENT/HOXA10/HM40-J3DIFF-NT48h-HOXA10-620_HOXC8-520-1008-1_HOXA10.tif', '/home/jacques/Documents/FISH/Data_analysis/pipeline_smfish_in_apifish/HOX_pipeline/Analysis/2024-11-18_Helena-Hox-9-10_spinning_2/detected_ufish.npy', '/home/jacques/Documents/FISH/Data_analysis/pipeline_smfish_in_apifish'], returncode=0, stdout='Python result: \\n', stderr=\"2025-06-04 09:33:07.695 | INFO     | ufish.api:init_model:70 - Initializing ufish model with kwargs: {}\\n2025-06-04 09:33:07.695 | INFO     | ufish.api:init_model:72 - Number of parameters: 162959\\n2025-06-04 09:33:07.856 | INFO     | ufish.api:init_model:78 - CUDA is available, using GPU.\\n2025-06-04 09:33:07.856 | INFO     | ufish.api:_load_pth_file:232 - Loading weights from /home/jacques/Documents/FISH/Data_analysis/pipeline_smfish_in_apifish/src/detection_fish/v1.0-alldata-ufish_c32.pth\\n/home/jacques/miniconda3/envs/ufish_env/lib/python3.10/site-packages/ufish/api.py:234: FutureWarning: You are using `torch.load` with `weights_only=False` (the current default value), which uses the default pickle module implicitly. It is possible to construct malicious pickle data which will execute arbitrary code during unpickling (See https://github.com/pytorch/pytorch/blob/main/SECURITY.md#untrusted-models for more details). In a future release, the default value for `weights_only` will be flipped to `True`. This limits the functions that could be executed during unpickling. Arbitrary objects will no longer be allowed to be loaded via this mode unless they are explicitly allowlisted by the user via `torch.serialization.add_safe_globals`. We recommend you start setting `weights_only=True` for any use case where you don't have full control of the loaded file. Please open an issue on GitHub for any issues related to this experimental feature.\\n  state_dict = torch.load(path, map_location=device)\\n2025-06-04 09:33:07.867 | INFO     | ufish.api:predict:417 - Axes not specified, infering from image shape.\\n2025-06-04 09:33:07.867 | INFO     | ufish.api:predict:419 - Infered axes: yx, image shape: (2048, 2048)\\n2025-06-04 09:33:07.911 | WARNING  | ufish.utils.img:scale_image:31 - Image has outlier values. \\n\")\n",
      "Execution time 3.95 seconds.\n",
      "CompletedProcess(args=['bash', '/home/jacques/Documents/FISH/Data_analysis/pipeline_smfish_in_apifish/src/detection_fish/env_activate_ufish_v2.sh', '/home/jacques/Documents/FISH/Data_analysis/pipeline_smfish_in_apifish/HOX_pipeline/Acquisition/2024-11-18_Helena-Hox-9-10_spinning_2/EXPERIMENT/HOXA10/HM40-J3DIFF-GDF6h-HOXA10-620_HOXC8-522-1_HOXA10.tif', '/home/jacques/Documents/FISH/Data_analysis/pipeline_smfish_in_apifish/HOX_pipeline/Analysis/2024-11-18_Helena-Hox-9-10_spinning_2/detected_ufish.npy', '/home/jacques/Documents/FISH/Data_analysis/pipeline_smfish_in_apifish'], returncode=0, stdout='Python result: \\n', stderr=\"2025-06-04 09:33:11.947 | INFO     | ufish.api:init_model:70 - Initializing ufish model with kwargs: {}\\n2025-06-04 09:33:11.947 | INFO     | ufish.api:init_model:72 - Number of parameters: 162959\\n2025-06-04 09:33:12.108 | INFO     | ufish.api:init_model:78 - CUDA is available, using GPU.\\n2025-06-04 09:33:12.108 | INFO     | ufish.api:_load_pth_file:232 - Loading weights from /home/jacques/Documents/FISH/Data_analysis/pipeline_smfish_in_apifish/src/detection_fish/v1.0-alldata-ufish_c32.pth\\n/home/jacques/miniconda3/envs/ufish_env/lib/python3.10/site-packages/ufish/api.py:234: FutureWarning: You are using `torch.load` with `weights_only=False` (the current default value), which uses the default pickle module implicitly. It is possible to construct malicious pickle data which will execute arbitrary code during unpickling (See https://github.com/pytorch/pytorch/blob/main/SECURITY.md#untrusted-models for more details). In a future release, the default value for `weights_only` will be flipped to `True`. This limits the functions that could be executed during unpickling. Arbitrary objects will no longer be allowed to be loaded via this mode unless they are explicitly allowlisted by the user via `torch.serialization.add_safe_globals`. We recommend you start setting `weights_only=True` for any use case where you don't have full control of the loaded file. Please open an issue on GitHub for any issues related to this experimental feature.\\n  state_dict = torch.load(path, map_location=device)\\n2025-06-04 09:33:12.121 | INFO     | ufish.api:predict:417 - Axes not specified, infering from image shape.\\n2025-06-04 09:33:12.121 | INFO     | ufish.api:predict:419 - Infered axes: yx, image shape: (2048, 2048)\\n2025-06-04 09:33:12.150 | WARNING  | ufish.utils.img:scale_image:31 - Image has outlier values. \\n\")\n",
      "Execution time 3.88 seconds.\n",
      "CompletedProcess(args=['bash', '/home/jacques/Documents/FISH/Data_analysis/pipeline_smfish_in_apifish/src/detection_fish/env_activate_ufish_v2.sh', '/home/jacques/Documents/FISH/Data_analysis/pipeline_smfish_in_apifish/HOX_pipeline/Acquisition/2024-11-18_Helena-Hox-9-10_spinning_2/EXPERIMENT/HOXA10/HM40-J3DIFF-GDF24h-HOXA10-620_HOXC8-525-1_HOXA10.tif', '/home/jacques/Documents/FISH/Data_analysis/pipeline_smfish_in_apifish/HOX_pipeline/Analysis/2024-11-18_Helena-Hox-9-10_spinning_2/detected_ufish.npy', '/home/jacques/Documents/FISH/Data_analysis/pipeline_smfish_in_apifish'], returncode=0, stdout='Python result: \\n', stderr=\"2025-06-04 09:33:16.030 | INFO     | ufish.api:init_model:70 - Initializing ufish model with kwargs: {}\\n2025-06-04 09:33:16.031 | INFO     | ufish.api:init_model:72 - Number of parameters: 162959\\n2025-06-04 09:33:16.192 | INFO     | ufish.api:init_model:78 - CUDA is available, using GPU.\\n2025-06-04 09:33:16.192 | INFO     | ufish.api:_load_pth_file:232 - Loading weights from /home/jacques/Documents/FISH/Data_analysis/pipeline_smfish_in_apifish/src/detection_fish/v1.0-alldata-ufish_c32.pth\\n/home/jacques/miniconda3/envs/ufish_env/lib/python3.10/site-packages/ufish/api.py:234: FutureWarning: You are using `torch.load` with `weights_only=False` (the current default value), which uses the default pickle module implicitly. It is possible to construct malicious pickle data which will execute arbitrary code during unpickling (See https://github.com/pytorch/pytorch/blob/main/SECURITY.md#untrusted-models for more details). In a future release, the default value for `weights_only` will be flipped to `True`. This limits the functions that could be executed during unpickling. Arbitrary objects will no longer be allowed to be loaded via this mode unless they are explicitly allowlisted by the user via `torch.serialization.add_safe_globals`. We recommend you start setting `weights_only=True` for any use case where you don't have full control of the loaded file. Please open an issue on GitHub for any issues related to this experimental feature.\\n  state_dict = torch.load(path, map_location=device)\\n2025-06-04 09:33:16.203 | INFO     | ufish.api:predict:417 - Axes not specified, infering from image shape.\\n2025-06-04 09:33:16.203 | INFO     | ufish.api:predict:419 - Infered axes: yx, image shape: (2048, 2048)\\n2025-06-04 09:33:16.250 | WARNING  | ufish.utils.img:scale_image:31 - Image has outlier values. \\n\")\n",
      "Execution time 3.91 seconds.\n",
      "CompletedProcess(args=['bash', '/home/jacques/Documents/FISH/Data_analysis/pipeline_smfish_in_apifish/src/detection_fish/env_activate_ufish_v2.sh', '/home/jacques/Documents/FISH/Data_analysis/pipeline_smfish_in_apifish/HOX_pipeline/Acquisition/2024-11-18_Helena-Hox-9-10_spinning_2/EXPERIMENT/HOXA10/HM40-J3DIFF-GDF48h-HOXA10-620_HOXC8-528-1_HOXA10.tif', '/home/jacques/Documents/FISH/Data_analysis/pipeline_smfish_in_apifish/HOX_pipeline/Analysis/2024-11-18_Helena-Hox-9-10_spinning_2/detected_ufish.npy', '/home/jacques/Documents/FISH/Data_analysis/pipeline_smfish_in_apifish'], returncode=0, stdout='Python result: \\n', stderr=\"2025-06-04 09:33:20.201 | INFO     | ufish.api:init_model:70 - Initializing ufish model with kwargs: {}\\n2025-06-04 09:33:20.201 | INFO     | ufish.api:init_model:72 - Number of parameters: 162959\\n2025-06-04 09:33:20.371 | INFO     | ufish.api:init_model:78 - CUDA is available, using GPU.\\n2025-06-04 09:33:20.371 | INFO     | ufish.api:_load_pth_file:232 - Loading weights from /home/jacques/Documents/FISH/Data_analysis/pipeline_smfish_in_apifish/src/detection_fish/v1.0-alldata-ufish_c32.pth\\n/home/jacques/miniconda3/envs/ufish_env/lib/python3.10/site-packages/ufish/api.py:234: FutureWarning: You are using `torch.load` with `weights_only=False` (the current default value), which uses the default pickle module implicitly. It is possible to construct malicious pickle data which will execute arbitrary code during unpickling (See https://github.com/pytorch/pytorch/blob/main/SECURITY.md#untrusted-models for more details). In a future release, the default value for `weights_only` will be flipped to `True`. This limits the functions that could be executed during unpickling. Arbitrary objects will no longer be allowed to be loaded via this mode unless they are explicitly allowlisted by the user via `torch.serialization.add_safe_globals`. We recommend you start setting `weights_only=True` for any use case where you don't have full control of the loaded file. Please open an issue on GitHub for any issues related to this experimental feature.\\n  state_dict = torch.load(path, map_location=device)\\n2025-06-04 09:33:20.383 | INFO     | ufish.api:predict:417 - Axes not specified, infering from image shape.\\n2025-06-04 09:33:20.383 | INFO     | ufish.api:predict:419 - Infered axes: yx, image shape: (2048, 2048)\\n2025-06-04 09:33:20.432 | WARNING  | ufish.utils.img:scale_image:31 - Image has outlier values. \\n\")\n",
      "Execution time 3.89 seconds.\n",
      "CompletedProcess(args=['bash', '/home/jacques/Documents/FISH/Data_analysis/pipeline_smfish_in_apifish/src/detection_fish/env_activate_ufish_v2.sh', '/home/jacques/Documents/FISH/Data_analysis/pipeline_smfish_in_apifish/HOX_pipeline/Acquisition/2024-11-18_Helena-Hox-9-10_spinning_2/EXPERIMENT/HOXA10/HM40-J3DIFF-FGFGDF6h-HOXA10-620_HOXC8-531-1_HOXA10.tif', '/home/jacques/Documents/FISH/Data_analysis/pipeline_smfish_in_apifish/HOX_pipeline/Analysis/2024-11-18_Helena-Hox-9-10_spinning_2/detected_ufish.npy', '/home/jacques/Documents/FISH/Data_analysis/pipeline_smfish_in_apifish'], returncode=0, stdout='Python result: \\n', stderr=\"2025-06-04 09:33:24.290 | INFO     | ufish.api:init_model:70 - Initializing ufish model with kwargs: {}\\n2025-06-04 09:33:24.290 | INFO     | ufish.api:init_model:72 - Number of parameters: 162959\\n2025-06-04 09:33:24.458 | INFO     | ufish.api:init_model:78 - CUDA is available, using GPU.\\n2025-06-04 09:33:24.458 | INFO     | ufish.api:_load_pth_file:232 - Loading weights from /home/jacques/Documents/FISH/Data_analysis/pipeline_smfish_in_apifish/src/detection_fish/v1.0-alldata-ufish_c32.pth\\n/home/jacques/miniconda3/envs/ufish_env/lib/python3.10/site-packages/ufish/api.py:234: FutureWarning: You are using `torch.load` with `weights_only=False` (the current default value), which uses the default pickle module implicitly. It is possible to construct malicious pickle data which will execute arbitrary code during unpickling (See https://github.com/pytorch/pytorch/blob/main/SECURITY.md#untrusted-models for more details). In a future release, the default value for `weights_only` will be flipped to `True`. This limits the functions that could be executed during unpickling. Arbitrary objects will no longer be allowed to be loaded via this mode unless they are explicitly allowlisted by the user via `torch.serialization.add_safe_globals`. We recommend you start setting `weights_only=True` for any use case where you don't have full control of the loaded file. Please open an issue on GitHub for any issues related to this experimental feature.\\n  state_dict = torch.load(path, map_location=device)\\n2025-06-04 09:33:24.470 | INFO     | ufish.api:predict:417 - Axes not specified, infering from image shape.\\n2025-06-04 09:33:24.470 | INFO     | ufish.api:predict:419 - Infered axes: yx, image shape: (2048, 2048)\\n2025-06-04 09:33:24.508 | WARNING  | ufish.utils.img:scale_image:31 - Image has outlier values. \\n\")\n",
      "Execution time 3.80 seconds.\n",
      "CompletedProcess(args=['bash', '/home/jacques/Documents/FISH/Data_analysis/pipeline_smfish_in_apifish/src/detection_fish/env_activate_ufish_v2.sh', '/home/jacques/Documents/FISH/Data_analysis/pipeline_smfish_in_apifish/HOX_pipeline/Acquisition/2024-11-18_Helena-Hox-9-10_spinning_2/EXPERIMENT/HOXA10/HM40-J3DIFF-FGFGDF24h-HOXA10-620_HOXC8-534-1_HOXA10.tif', '/home/jacques/Documents/FISH/Data_analysis/pipeline_smfish_in_apifish/HOX_pipeline/Analysis/2024-11-18_Helena-Hox-9-10_spinning_2/detected_ufish.npy', '/home/jacques/Documents/FISH/Data_analysis/pipeline_smfish_in_apifish'], returncode=0, stdout='Python result: \\n', stderr=\"2025-06-04 09:33:28.421 | INFO     | ufish.api:init_model:70 - Initializing ufish model with kwargs: {}\\n2025-06-04 09:33:28.421 | INFO     | ufish.api:init_model:72 - Number of parameters: 162959\\n2025-06-04 09:33:28.590 | INFO     | ufish.api:init_model:78 - CUDA is available, using GPU.\\n2025-06-04 09:33:28.590 | INFO     | ufish.api:_load_pth_file:232 - Loading weights from /home/jacques/Documents/FISH/Data_analysis/pipeline_smfish_in_apifish/src/detection_fish/v1.0-alldata-ufish_c32.pth\\n/home/jacques/miniconda3/envs/ufish_env/lib/python3.10/site-packages/ufish/api.py:234: FutureWarning: You are using `torch.load` with `weights_only=False` (the current default value), which uses the default pickle module implicitly. It is possible to construct malicious pickle data which will execute arbitrary code during unpickling (See https://github.com/pytorch/pytorch/blob/main/SECURITY.md#untrusted-models for more details). In a future release, the default value for `weights_only` will be flipped to `True`. This limits the functions that could be executed during unpickling. Arbitrary objects will no longer be allowed to be loaded via this mode unless they are explicitly allowlisted by the user via `torch.serialization.add_safe_globals`. We recommend you start setting `weights_only=True` for any use case where you don't have full control of the loaded file. Please open an issue on GitHub for any issues related to this experimental feature.\\n  state_dict = torch.load(path, map_location=device)\\n2025-06-04 09:33:28.602 | INFO     | ufish.api:predict:417 - Axes not specified, infering from image shape.\\n2025-06-04 09:33:28.603 | INFO     | ufish.api:predict:419 - Infered axes: yx, image shape: (2048, 2048)\\n2025-06-04 09:33:28.655 | WARNING  | ufish.utils.img:scale_image:31 - Image has outlier values. \\n\")\n",
      "Execution time 3.97 seconds.\n",
      "CompletedProcess(args=['bash', '/home/jacques/Documents/FISH/Data_analysis/pipeline_smfish_in_apifish/src/detection_fish/env_activate_ufish_v2.sh', '/home/jacques/Documents/FISH/Data_analysis/pipeline_smfish_in_apifish/HOX_pipeline/Acquisition/2024-11-18_Helena-Hox-9-10_spinning_2/EXPERIMENT/HOXA10/HM40-J3DIFF-FGFGDF48h-HOXA10-620_HOXC8-537-1_HOXA10.tif', '/home/jacques/Documents/FISH/Data_analysis/pipeline_smfish_in_apifish/HOX_pipeline/Analysis/2024-11-18_Helena-Hox-9-10_spinning_2/detected_ufish.npy', '/home/jacques/Documents/FISH/Data_analysis/pipeline_smfish_in_apifish'], returncode=0, stdout='Python result: \\n', stderr=\"2025-06-04 09:33:32.640 | INFO     | ufish.api:init_model:70 - Initializing ufish model with kwargs: {}\\n2025-06-04 09:33:32.640 | INFO     | ufish.api:init_model:72 - Number of parameters: 162959\\n2025-06-04 09:33:32.809 | INFO     | ufish.api:init_model:78 - CUDA is available, using GPU.\\n2025-06-04 09:33:32.809 | INFO     | ufish.api:_load_pth_file:232 - Loading weights from /home/jacques/Documents/FISH/Data_analysis/pipeline_smfish_in_apifish/src/detection_fish/v1.0-alldata-ufish_c32.pth\\n/home/jacques/miniconda3/envs/ufish_env/lib/python3.10/site-packages/ufish/api.py:234: FutureWarning: You are using `torch.load` with `weights_only=False` (the current default value), which uses the default pickle module implicitly. It is possible to construct malicious pickle data which will execute arbitrary code during unpickling (See https://github.com/pytorch/pytorch/blob/main/SECURITY.md#untrusted-models for more details). In a future release, the default value for `weights_only` will be flipped to `True`. This limits the functions that could be executed during unpickling. Arbitrary objects will no longer be allowed to be loaded via this mode unless they are explicitly allowlisted by the user via `torch.serialization.add_safe_globals`. We recommend you start setting `weights_only=True` for any use case where you don't have full control of the loaded file. Please open an issue on GitHub for any issues related to this experimental feature.\\n  state_dict = torch.load(path, map_location=device)\\n2025-06-04 09:33:32.822 | INFO     | ufish.api:predict:417 - Axes not specified, infering from image shape.\\n2025-06-04 09:33:32.822 | INFO     | ufish.api:predict:419 - Infered axes: yx, image shape: (2048, 2048)\\n\")\n",
      "Execution time 3.90 seconds.\n"
     ]
    }
   ],
   "source": [
    "#a) UFISH (without deconvolution)\n",
    "\n",
    "base_dir        = str(Path().resolve().parent.parent)\n",
    "dots_ufish_path = spots_ufish_folder / f\"dots_{modality}_{chan_c}_UFISH.npy\"\n",
    "viewer4         = napari.Viewer(title=\"UFISH on raw data\")\n",
    "dict_ufish_dots = {}\n",
    "dict_ufish_dots_local_copy = {}  # this dict contains the same information but the keys are different\n",
    "\n",
    "counter = 0\n",
    "for ind_l, file in enumerate(batch_fish):\n",
    "    file            = Path(file)\n",
    "    file_abs_path   = str(Path(batch_fish[ind_l]).resolve())\n",
    "    im_rna          = io.imread(batch_fish[ind_l])\n",
    "    target_dir      = str(Path().resolve().parent / Path(f'Analysis/{batch_name}/detected_ufish.npy'))\n",
    "    spots_uf_raw    = det.spot_ufish(file_abs_path, target_dir, base_dir)\n",
    "    \n",
    "    if im_rna.ndim == 3:\n",
    "        mip_im_rna = np.max(im_rna, axis=0)    \n",
    "    elif im_rna.ndim == 2:\n",
    "        mip_im_rna = im_rna\n",
    "    \n",
    "    if np.shape(spots_uf_raw)[1] == 3:\n",
    "        spots_uf_raw_2d = spots_uf_raw[:,1:]\n",
    "    elif np.shape(spots_uf_raw)[1] == 2:    \n",
    "        spots_uf_raw_2d = spots_uf_raw\n",
    "    \n",
    "    val = np.percentile(mip_im_rna, 99)    \n",
    "    viewer4.add_image(mip_im_rna, contrast_limits=(0, val), rgb=False, name=f\"{modality} {file.stem}\", opacity=0.8)\n",
    "    viewer4.add_points(spots_uf_raw_2d, name=f\"Spots {modality} {file.stem}\", size=4,  border_color='#FF0000', face_color=[0, 0, 0, 0]);\n",
    "\n",
    "    if counter != 0:\n",
    "        viewer4.layers[f\"{modality} {file.stem}\"].visible       = False\n",
    "        viewer4.layers[f\"Spots {modality} {file.stem}\"].visible = False \n",
    "\n",
    "    base_name = '_'.join(file.stem.split('_')[:-1])\n",
    "    dict_ufish_dots[base_name] = spots_uf_raw\n",
    "    dict_ufish_dots_local_copy[file.stem] = spots_uf_raw\n",
    "    counter += 1\n",
    "\n",
    "format_spots = 'spots_IDzyx'\n",
    "fp.save_spots_distributed_files(dots_ufish_path, format_spots, dict_ufish_dots, im_rna.ndim)"
   ]
  },
  {
   "cell_type": "markdown",
   "metadata": {},
   "source": [
    "Adjust the threshold by eye. Often there is some kind of inflexion point in the counts vs threshold curve at which the noise distribution and the signal distribution overlap.\n",
    "When one doesn't see this point look for a point in the noisy regime (left) which the derivative decreases in absolute value.  "
   ]
  },
  {
   "cell_type": "code",
   "execution_count": 36,
   "metadata": {},
   "outputs": [],
   "source": [
    "format_spots        = 'spots_IDzyx'\n",
    "dot_ufish_path      = spots_ufish_folder / f\"dots_{modality}_{chan_c}_UFISH.npy\"\n",
    "dict_ufish_dots     = fp.load_spots_distributed_files(dot_ufish_path, format=format_spots)\n",
    "\n",
    "voxel_size_nm       = (108, 108)   # (z,y,x) or (y,x)  this parameter is important, you can check it's value opening the original files in fiji (Image/show info), or in the microscope metadata\n",
    "object_radius_nm    = (432, 432)   # estimate this parameter by eye: number of pixels of spots diameter times the voxels size (respective Z, Y and X dimension)\n",
    "\n",
    "batch_path          = [Path(el) for el in batch_fish]\n",
    "dots_bigfish_path   = spots_bigfish_folder / f\"dots_{modality}_{chan_c}_BIGFISH.npy\"\n",
    "thresh_bigfish_path = spots_bigfish_folder / f\"thresh_{modality}_{chan_c}_BIGFISH.npy\""
   ]
  },
  {
   "cell_type": "code",
   "execution_count": null,
   "metadata": {},
   "outputs": [
    {
     "data": {
      "image/png": "[encoded data removed]",
      "text/plain": [
       "<Figure size 640x480 with 1 Axes>"
      ]
     },
     "metadata": {},
     "output_type": "display_data"
    },
    {
     "name": "stderr",
     "output_type": "stream",
     "text": [
      "/home/jacques/miniconda3/envs/base_env_apifish/lib/python3.9/site-packages/apifish/detection/spot_detection.py:586: RuntimeWarning: divide by zero encountered in log\n",
      "  count_spots = np.log([np.count_nonzero(value_spots > t)\n",
      "/home/jacques/miniconda3/envs/base_env_apifish/lib/python3.9/site-packages/apifish/detection/spot_detection.py:586: RuntimeWarning: divide by zero encountered in log\n",
      "  count_spots = np.log([np.count_nonzero(value_spots > t)\n"
     ]
    }
   ],
   "source": [
    "sth0 = SpotsThresholding(BATCH = batch_path, BATCH_NAME= batch_name, voxel_size_nm=voxel_size_nm, \n",
    "                         object_radius_nm=object_radius_nm, spots_other_method=dict_ufish_dots_local_copy, subtract_fish=False)\n",
    "sth0.run()"
   ]
  },
  {
   "cell_type": "markdown",
   "metadata": {},
   "source": [
    "After closing the app, pursue here."
   ]
  },
  {
   "cell_type": "code",
   "execution_count": 38,
   "metadata": {},
   "outputs": [],
   "source": [
    "# rename the keys in order to have as key only the base name\n",
    "dict_dots = {}\n",
    "for key, value in sth0.detected_spots.items():\n",
    "    dict_dots['_'.join(key.split('_')[:-1])] = value"
   ]
  },
  {
   "cell_type": "code",
   "execution_count": 39,
   "metadata": {},
   "outputs": [],
   "source": [
    "fp.save_spots_distributed_files(dots_bigfish_path, format_spots, dict_dots, im_rna.ndim)\n",
    "np.save(thresh_bigfish_path, sth0.dict_thresh_spot)"
   ]
  },
  {
   "cell_type": "code",
   "execution_count": 40,
   "metadata": {},
   "outputs": [],
   "source": [
    "exec(f\"DOTS_UFISH_{modality}_{chan_c}_PATH   = dots_ufish_path\", globals())\n",
    "exec(f\"DOTS_BIGFISH_{modality}_{chan_c}_PATH = dots_bigfish_path\", globals())\n",
    "exec(f\"THRESH_BIGFISH_{modality}_{chan_c}_PATH = thresh_bigfish_path\", globals())\n",
    "exec(f\"SPOTS_FOLDER_{modality}_{chan_c}_PATH = spots_folder\")\n",
    "exec(f\"SPOTS_FORMAT = format_spots\")\n",
    "\n",
    "exec(f\"VOXEL_SIZE_NM_BF_{modality}_{chan_c}_Z = voxel_size_nm[0]\", globals())\n",
    "exec(f\"VOXEL_SIZE_NM_BF_{modality}_{chan_c}_YX = voxel_size_nm[1]\", globals())\n",
    "exec(f\"OBJECT_RADIUS_NM_BF{modality}_{chan_c}_Z = object_radius_nm[0]\", globals())\n",
    "exec(f\"OBJECT_RADIUS_NM_BF{modality}_{chan_c}_YX = object_radius_nm[1]\", globals())"
   ]
  },
  {
   "cell_type": "code",
   "execution_count": 41,
   "metadata": {},
   "outputs": [],
   "source": [
    "constants2 = tk.collect_constants()\n",
    "tk.save_constants_and_commit_hash(constants2, batch_name, folder_path = Path(f\"../Analysis/{batch_name}\"))"
   ]
  },
  {
   "cell_type": "code",
   "execution_count": null,
   "metadata": {},
   "outputs": [],
   "source": []
  }
 ],
 "metadata": {
  "kernelspec": {
   "display_name": "base_env_apifish",
   "language": "python",
   "name": "python3"
  },
  "language_info": {
   "codemirror_mode": {
    "name": "ipython",
    "version": 3
   },
   "file_extension": ".py",
   "mimetype": "text/x-python",
   "name": "python",
   "nbconvert_exporter": "python",
   "pygments_lexer": "ipython3",
   "version": "3.9.0"
  }
 },
 "nbformat": 4,
 "nbformat_minor": 2
}
