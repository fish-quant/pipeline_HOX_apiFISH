{
 "cells": [
  {
   "cell_type": "markdown",
   "metadata": {},
   "source": [
    "Before running the spot detection notebook, run the first notebook, \"Read_files_create_batch.ipynb'.\n",
    "\n",
    "In this notebook we will detect the fish spots using an automatic method called UFISH.\n",
    "In the next notebook, we will detect the fish spots using a  semi-automatic method called BIGFISH.\n",
    "\n",
    "\n",
    "WARNING:  run this notebook in the ufish_env.\n",
    "\n",
    "\n",
    "23/05/25     Jacques Bourg @ Florian Muller lab. Institut Pasteur.\n",
    "\n",
    "<img src=\"./HOX_pipeline.png\" alt=\"HOX pipeline\" width=\"1200\" height=\"477\">"
   ]
  },
  {
   "cell_type": "code",
   "execution_count": 1,
   "metadata": {},
   "outputs": [],
   "source": [
    "import os\n",
    "import sys\n",
    "import numpy as np\n",
    "from pathlib import Path\n",
    "import skimage.io as io\n",
    "import napari\n",
    "\n",
    "import ipywidgets as widgets\n",
    "from IPython.display import display"
   ]
  },
  {
   "cell_type": "code",
   "execution_count": 2,
   "metadata": {},
   "outputs": [],
   "source": [
    "%load_ext autoreload\n",
    "%autoreload 2\n",
    "\n",
    "base_dir = Path(\"../../src\").resolve()\n",
    "sys.path.append(str(base_dir))\n",
    "sys.path.append(str(base_dir / \"utils\"))\n",
    "sys.path.append(str(base_dir / \"detection_fish\"))\n",
    "sys.path.append(str(base_dir / \"segmentation\"))\n",
    "\n",
    "from utils.parameters_tracking import Parameter_tracking as Track\n",
    "from utils.file_handling import FileProcessor\n",
    "from detection_fish.detect_fish_spots_ufish_env import det_spots_ufish\n",
    "\n",
    "tk  = Track()\n",
    "fp  = FileProcessor()"
   ]
  },
  {
   "cell_type": "code",
   "execution_count": 3,
   "metadata": {},
   "outputs": [
    {
     "data": {
      "application/vnd.jupyter.widget-view+json": {
       "model_id": "8d59d9576d31413581826fb08d2d0814",
       "version_major": 2,
       "version_minor": 0
      },
      "text/plain": [
       "Dropdown(description='Select:', layout=Layout(min_width='150px', width='auto'), options=('.gitkeep', 'test'), …"
      ]
     },
     "metadata": {},
     "output_type": "display_data"
    }
   ],
   "source": [
    "var = str(Path('../Analysis'))\n",
    "batch_folders = os.listdir(var)\n",
    "dropdown = widgets.Dropdown(options=batch_folders, description='Select:', layout=widgets.Layout(width='auto', min_width='150px'))\n",
    "display(dropdown)"
   ]
  },
  {
   "cell_type": "code",
   "execution_count": 4,
   "metadata": {},
   "outputs": [
    {
     "name": "stdout",
     "output_type": "stream",
     "text": [
      "test\n"
     ]
    }
   ],
   "source": [
    "n         = np.where(np.array(batch_folders) == dropdown.value)[0][0]\n",
    "file_path = str(Path(var) / Path(batch_folders[n]) / Path(batch_folders[n] +'.json'))\n",
    "constants = tk.load_json(file_path)\n",
    "batch_name= constants['BATCH_NAME']; print(batch_name)"
   ]
  },
  {
   "cell_type": "code",
   "execution_count": 5,
   "metadata": {},
   "outputs": [
    {
     "data": {
      "application/vnd.jupyter.widget-view+json": {
       "model_id": "5accd9d33d1641bd85d1ef08c9ac5af1",
       "version_major": 2,
       "version_minor": 0
      },
      "text/plain": [
       "Dropdown(description='Select:', layout=Layout(min_width='150px', width='auto'), options=('EXPERIMENT', 'CONTRO…"
      ]
     },
     "metadata": {},
     "output_type": "display_data"
    }
   ],
   "source": [
    "modalities = constants['MODALITIES']\n",
    "dropdown2 = widgets.Dropdown(options=modalities, description='Select:', layout=widgets.Layout(width='auto', min_width='150px'))\n",
    "display(dropdown2)"
   ]
  },
  {
   "cell_type": "code",
   "execution_count": 6,
   "metadata": {},
   "outputs": [
    {
     "name": "stdout",
     "output_type": "stream",
     "text": [
      "EXPERIMENT\n"
     ]
    }
   ],
   "source": [
    "n2       = np.where(np.array(modalities) == dropdown2.value)[0][0]\n",
    "modality = modalities[n2]; print(modality)"
   ]
  },
  {
   "cell_type": "code",
   "execution_count": 7,
   "metadata": {},
   "outputs": [
    {
     "data": {
      "application/vnd.jupyter.widget-view+json": {
       "model_id": "0cb7d04459a142a9831e2d2518db3204",
       "version_major": 2,
       "version_minor": 0
      },
      "text/plain": [
       "Dropdown(description='Select:', layout=Layout(min_width='150px', width='auto'), options=('DAPI', 'FISH0', 'FIS…"
      ]
     },
     "metadata": {},
     "output_type": "display_data"
    }
   ],
   "source": [
    "channel_cell = constants['CHANNELS'] # (Doesn't make sense to select DAPI)\n",
    "dropdown3    = widgets.Dropdown(options=channel_cell, description='Select:', layout=widgets.Layout(width='auto', min_width='150px')); display(dropdown3)"
   ]
  },
  {
   "cell_type": "code",
   "execution_count": 8,
   "metadata": {},
   "outputs": [
    {
     "name": "stdout",
     "output_type": "stream",
     "text": [
      "FISH0\n"
     ]
    }
   ],
   "source": [
    "n3     = np.where(np.array(channel_cell) == dropdown3.value)[0][0]\n",
    "chan_c = channel_cell[n3]; print(chan_c)"
   ]
  },
  {
   "cell_type": "code",
   "execution_count": 9,
   "metadata": {},
   "outputs": [
    {
     "name": "stdout",
     "output_type": "stream",
     "text": [
      "['../Acquisition/test/EXPERIMENT/FISH0/HM40-J3DIFF-NT6h-HOXA10-620_HOXC8-520-1002-1_FISH0.tif', '../Acquisition/test/EXPERIMENT/FISH0/HM40-J3DIFF-NT24h-HOXA10-620_HOXC8-520-1005-1_FISH0.tif', '../Acquisition/test/EXPERIMENT/FISH0/HM40-J3DIFF-NT48h-HOXA10-620_HOXC8-520-1008-1_FISH0.tif', '../Acquisition/test/EXPERIMENT/FISH0/HM40-J3DIFF-GDF6h-HOXA10-620_HOXC8-522-1_FISH0.tif', '../Acquisition/test/EXPERIMENT/FISH0/HM40-J3DIFF-GDF24h-HOXA10-620_HOXC8-525-1_FISH0.tif', '../Acquisition/test/EXPERIMENT/FISH0/HM40-J3DIFF-GDF48h-HOXA10-620_HOXC8-528-1_FISH0.tif', '../Acquisition/test/EXPERIMENT/FISH0/HM40-J3DIFF-FGFGDF6h-HOXA10-620_HOXC8-531-1_FISH0.tif', '../Acquisition/test/EXPERIMENT/FISH0/HM40-J3DIFF-FGFGDF24h-HOXA10-620_HOXC8-534-1_FISH0.tif', '../Acquisition/test/EXPERIMENT/FISH0/HM40-J3DIFF-FGFGDF48h-HOXA10-620_HOXC8-537-1_FISH0.tif']\n"
     ]
    }
   ],
   "source": [
    "batch_fish = constants[f'BATCH_{modality}_{chan_c}']; print(batch_fish);"
   ]
  },
  {
   "cell_type": "code",
   "execution_count": 10,
   "metadata": {},
   "outputs": [
    {
     "name": "stdout",
     "output_type": "stream",
     "text": [
      "../Analysis/test/EXPERIMENT/FISH0/spots\n",
      "../Analysis/test/EXPERIMENT/FISH0/spots/UFISH\n"
     ]
    }
   ],
   "source": [
    "spots_folder = Path(f'../Analysis/{batch_name}/{modality}/{chan_c}/spots')\n",
    "if not spots_folder.exists():\n",
    "    spots_folder.mkdir(parents=True)\n",
    "print(spots_folder)\n",
    "\n",
    "spots_ufish_folder = Path(f'../Analysis/{batch_name}/{modality}/{chan_c}/spots/UFISH')\n",
    "if not spots_ufish_folder.exists():\n",
    "    spots_ufish_folder.mkdir(parents=True)\n",
    "print(spots_ufish_folder)"
   ]
  },
  {
   "cell_type": "code",
   "execution_count": 11,
   "metadata": {},
   "outputs": [
    {
     "name": "stderr",
     "output_type": "stream",
     "text": [
      "\u001b[32m2025-06-16 08:34:01.622\u001b[0m | \u001b[1mINFO    \u001b[0m | \u001b[36mufish.api\u001b[0m:\u001b[36minit_model\u001b[0m:\u001b[36m70\u001b[0m - \u001b[1mInitializing ufish model with kwargs: {}\u001b[0m\n",
      "\u001b[32m2025-06-16 08:34:01.623\u001b[0m | \u001b[1mINFO    \u001b[0m | \u001b[36mufish.api\u001b[0m:\u001b[36minit_model\u001b[0m:\u001b[36m72\u001b[0m - \u001b[1mNumber of parameters: 162959\u001b[0m\n",
      "\u001b[32m2025-06-16 08:34:01.807\u001b[0m | \u001b[1mINFO    \u001b[0m | \u001b[36mufish.api\u001b[0m:\u001b[36minit_model\u001b[0m:\u001b[36m78\u001b[0m - \u001b[1mCUDA is available, using GPU.\u001b[0m\n",
      "\u001b[32m2025-06-16 08:34:01.808\u001b[0m | \u001b[1mINFO    \u001b[0m | \u001b[36mufish.api\u001b[0m:\u001b[36m_load_pth_file\u001b[0m:\u001b[36m232\u001b[0m - \u001b[1mLoading weights from /home/jacques/Documents/FISH/Data_analysis/pipeline_smfish_in_apifish/pipeline_HOX_apiFISH/src/detection_fish/v1.0-alldata-ufish_c32.pth\u001b[0m\n",
      "/home/jacques/miniconda3/envs/ufish_env/lib/python3.10/site-packages/ufish/api.py:234: FutureWarning: You are using `torch.load` with `weights_only=False` (the current default value), which uses the default pickle module implicitly. It is possible to construct malicious pickle data which will execute arbitrary code during unpickling (See https://github.com/pytorch/pytorch/blob/main/SECURITY.md#untrusted-models for more details). In a future release, the default value for `weights_only` will be flipped to `True`. This limits the functions that could be executed during unpickling. Arbitrary objects will no longer be allowed to be loaded via this mode unless they are explicitly allowlisted by the user via `torch.serialization.add_safe_globals`. We recommend you start setting `weights_only=True` for any use case where you don't have full control of the loaded file. Please open an issue on GitHub for any issues related to this experimental feature.\n",
      "  state_dict = torch.load(path, map_location=device)\n",
      "\u001b[32m2025-06-16 08:34:01.827\u001b[0m | \u001b[1mINFO    \u001b[0m | \u001b[36mufish.api\u001b[0m:\u001b[36mpredict\u001b[0m:\u001b[36m417\u001b[0m - \u001b[1mAxes not specified, infering from image shape.\u001b[0m\n",
      "\u001b[32m2025-06-16 08:34:01.828\u001b[0m | \u001b[1mINFO    \u001b[0m | \u001b[36mufish.api\u001b[0m:\u001b[36mpredict\u001b[0m:\u001b[36m419\u001b[0m - \u001b[1mInfered axes: yx, image shape: (2048, 2048)\u001b[0m\n",
      "\u001b[32m2025-06-16 08:34:03.551\u001b[0m | \u001b[1mINFO    \u001b[0m | \u001b[36mufish.api\u001b[0m:\u001b[36minit_model\u001b[0m:\u001b[36m70\u001b[0m - \u001b[1mInitializing ufish model with kwargs: {}\u001b[0m\n",
      "\u001b[32m2025-06-16 08:34:03.552\u001b[0m | \u001b[1mINFO    \u001b[0m | \u001b[36mufish.api\u001b[0m:\u001b[36minit_model\u001b[0m:\u001b[36m72\u001b[0m - \u001b[1mNumber of parameters: 162959\u001b[0m\n",
      "\u001b[32m2025-06-16 08:34:03.556\u001b[0m | \u001b[1mINFO    \u001b[0m | \u001b[36mufish.api\u001b[0m:\u001b[36minit_model\u001b[0m:\u001b[36m78\u001b[0m - \u001b[1mCUDA is available, using GPU.\u001b[0m\n",
      "\u001b[32m2025-06-16 08:34:03.557\u001b[0m | \u001b[1mINFO    \u001b[0m | \u001b[36mufish.api\u001b[0m:\u001b[36m_load_pth_file\u001b[0m:\u001b[36m232\u001b[0m - \u001b[1mLoading weights from /home/jacques/Documents/FISH/Data_analysis/pipeline_smfish_in_apifish/pipeline_HOX_apiFISH/src/detection_fish/v1.0-alldata-ufish_c32.pth\u001b[0m\n",
      "/home/jacques/miniconda3/envs/ufish_env/lib/python3.10/site-packages/ufish/api.py:234: FutureWarning: You are using `torch.load` with `weights_only=False` (the current default value), which uses the default pickle module implicitly. It is possible to construct malicious pickle data which will execute arbitrary code during unpickling (See https://github.com/pytorch/pytorch/blob/main/SECURITY.md#untrusted-models for more details). In a future release, the default value for `weights_only` will be flipped to `True`. This limits the functions that could be executed during unpickling. Arbitrary objects will no longer be allowed to be loaded via this mode unless they are explicitly allowlisted by the user via `torch.serialization.add_safe_globals`. We recommend you start setting `weights_only=True` for any use case where you don't have full control of the loaded file. Please open an issue on GitHub for any issues related to this experimental feature.\n",
      "  state_dict = torch.load(path, map_location=device)\n",
      "\u001b[32m2025-06-16 08:34:03.566\u001b[0m | \u001b[1mINFO    \u001b[0m | \u001b[36mufish.api\u001b[0m:\u001b[36mpredict\u001b[0m:\u001b[36m417\u001b[0m - \u001b[1mAxes not specified, infering from image shape.\u001b[0m\n",
      "\u001b[32m2025-06-16 08:34:03.567\u001b[0m | \u001b[1mINFO    \u001b[0m | \u001b[36mufish.api\u001b[0m:\u001b[36mpredict\u001b[0m:\u001b[36m419\u001b[0m - \u001b[1mInfered axes: yx, image shape: (2048, 2048)\u001b[0m\n",
      "\u001b[32m2025-06-16 08:34:04.434\u001b[0m | \u001b[1mINFO    \u001b[0m | \u001b[36mufish.api\u001b[0m:\u001b[36minit_model\u001b[0m:\u001b[36m70\u001b[0m - \u001b[1mInitializing ufish model with kwargs: {}\u001b[0m\n",
      "\u001b[32m2025-06-16 08:34:04.434\u001b[0m | \u001b[1mINFO    \u001b[0m | \u001b[36mufish.api\u001b[0m:\u001b[36minit_model\u001b[0m:\u001b[36m72\u001b[0m - \u001b[1mNumber of parameters: 162959\u001b[0m\n",
      "\u001b[32m2025-06-16 08:34:04.437\u001b[0m | \u001b[1mINFO    \u001b[0m | \u001b[36mufish.api\u001b[0m:\u001b[36minit_model\u001b[0m:\u001b[36m78\u001b[0m - \u001b[1mCUDA is available, using GPU.\u001b[0m\n",
      "\u001b[32m2025-06-16 08:34:04.438\u001b[0m | \u001b[1mINFO    \u001b[0m | \u001b[36mufish.api\u001b[0m:\u001b[36m_load_pth_file\u001b[0m:\u001b[36m232\u001b[0m - \u001b[1mLoading weights from /home/jacques/Documents/FISH/Data_analysis/pipeline_smfish_in_apifish/pipeline_HOX_apiFISH/src/detection_fish/v1.0-alldata-ufish_c32.pth\u001b[0m\n",
      "/home/jacques/miniconda3/envs/ufish_env/lib/python3.10/site-packages/ufish/api.py:234: FutureWarning: You are using `torch.load` with `weights_only=False` (the current default value), which uses the default pickle module implicitly. It is possible to construct malicious pickle data which will execute arbitrary code during unpickling (See https://github.com/pytorch/pytorch/blob/main/SECURITY.md#untrusted-models for more details). In a future release, the default value for `weights_only` will be flipped to `True`. This limits the functions that could be executed during unpickling. Arbitrary objects will no longer be allowed to be loaded via this mode unless they are explicitly allowlisted by the user via `torch.serialization.add_safe_globals`. We recommend you start setting `weights_only=True` for any use case where you don't have full control of the loaded file. Please open an issue on GitHub for any issues related to this experimental feature.\n",
      "  state_dict = torch.load(path, map_location=device)\n",
      "\u001b[32m2025-06-16 08:34:04.448\u001b[0m | \u001b[1mINFO    \u001b[0m | \u001b[36mufish.api\u001b[0m:\u001b[36mpredict\u001b[0m:\u001b[36m417\u001b[0m - \u001b[1mAxes not specified, infering from image shape.\u001b[0m\n",
      "\u001b[32m2025-06-16 08:34:04.448\u001b[0m | \u001b[1mINFO    \u001b[0m | \u001b[36mufish.api\u001b[0m:\u001b[36mpredict\u001b[0m:\u001b[36m419\u001b[0m - \u001b[1mInfered axes: yx, image shape: (2048, 2048)\u001b[0m\n",
      "\u001b[32m2025-06-16 08:34:05.314\u001b[0m | \u001b[1mINFO    \u001b[0m | \u001b[36mufish.api\u001b[0m:\u001b[36minit_model\u001b[0m:\u001b[36m70\u001b[0m - \u001b[1mInitializing ufish model with kwargs: {}\u001b[0m\n",
      "\u001b[32m2025-06-16 08:34:05.316\u001b[0m | \u001b[1mINFO    \u001b[0m | \u001b[36mufish.api\u001b[0m:\u001b[36minit_model\u001b[0m:\u001b[36m72\u001b[0m - \u001b[1mNumber of parameters: 162959\u001b[0m\n",
      "\u001b[32m2025-06-16 08:34:05.319\u001b[0m | \u001b[1mINFO    \u001b[0m | \u001b[36mufish.api\u001b[0m:\u001b[36minit_model\u001b[0m:\u001b[36m78\u001b[0m - \u001b[1mCUDA is available, using GPU.\u001b[0m\n",
      "\u001b[32m2025-06-16 08:34:05.319\u001b[0m | \u001b[1mINFO    \u001b[0m | \u001b[36mufish.api\u001b[0m:\u001b[36m_load_pth_file\u001b[0m:\u001b[36m232\u001b[0m - \u001b[1mLoading weights from /home/jacques/Documents/FISH/Data_analysis/pipeline_smfish_in_apifish/pipeline_HOX_apiFISH/src/detection_fish/v1.0-alldata-ufish_c32.pth\u001b[0m\n",
      "/home/jacques/miniconda3/envs/ufish_env/lib/python3.10/site-packages/ufish/api.py:234: FutureWarning: You are using `torch.load` with `weights_only=False` (the current default value), which uses the default pickle module implicitly. It is possible to construct malicious pickle data which will execute arbitrary code during unpickling (See https://github.com/pytorch/pytorch/blob/main/SECURITY.md#untrusted-models for more details). In a future release, the default value for `weights_only` will be flipped to `True`. This limits the functions that could be executed during unpickling. Arbitrary objects will no longer be allowed to be loaded via this mode unless they are explicitly allowlisted by the user via `torch.serialization.add_safe_globals`. We recommend you start setting `weights_only=True` for any use case where you don't have full control of the loaded file. Please open an issue on GitHub for any issues related to this experimental feature.\n",
      "  state_dict = torch.load(path, map_location=device)\n",
      "\u001b[32m2025-06-16 08:34:05.329\u001b[0m | \u001b[1mINFO    \u001b[0m | \u001b[36mufish.api\u001b[0m:\u001b[36mpredict\u001b[0m:\u001b[36m417\u001b[0m - \u001b[1mAxes not specified, infering from image shape.\u001b[0m\n",
      "\u001b[32m2025-06-16 08:34:05.330\u001b[0m | \u001b[1mINFO    \u001b[0m | \u001b[36mufish.api\u001b[0m:\u001b[36mpredict\u001b[0m:\u001b[36m419\u001b[0m - \u001b[1mInfered axes: yx, image shape: (2048, 2048)\u001b[0m\n",
      "\u001b[32m2025-06-16 08:34:06.337\u001b[0m | \u001b[1mINFO    \u001b[0m | \u001b[36mufish.api\u001b[0m:\u001b[36minit_model\u001b[0m:\u001b[36m70\u001b[0m - \u001b[1mInitializing ufish model with kwargs: {}\u001b[0m\n",
      "\u001b[32m2025-06-16 08:34:06.338\u001b[0m | \u001b[1mINFO    \u001b[0m | \u001b[36mufish.api\u001b[0m:\u001b[36minit_model\u001b[0m:\u001b[36m72\u001b[0m - \u001b[1mNumber of parameters: 162959\u001b[0m\n",
      "\u001b[32m2025-06-16 08:34:06.340\u001b[0m | \u001b[1mINFO    \u001b[0m | \u001b[36mufish.api\u001b[0m:\u001b[36minit_model\u001b[0m:\u001b[36m78\u001b[0m - \u001b[1mCUDA is available, using GPU.\u001b[0m\n",
      "\u001b[32m2025-06-16 08:34:06.340\u001b[0m | \u001b[1mINFO    \u001b[0m | \u001b[36mufish.api\u001b[0m:\u001b[36m_load_pth_file\u001b[0m:\u001b[36m232\u001b[0m - \u001b[1mLoading weights from /home/jacques/Documents/FISH/Data_analysis/pipeline_smfish_in_apifish/pipeline_HOX_apiFISH/src/detection_fish/v1.0-alldata-ufish_c32.pth\u001b[0m\n",
      "/home/jacques/miniconda3/envs/ufish_env/lib/python3.10/site-packages/ufish/api.py:234: FutureWarning: You are using `torch.load` with `weights_only=False` (the current default value), which uses the default pickle module implicitly. It is possible to construct malicious pickle data which will execute arbitrary code during unpickling (See https://github.com/pytorch/pytorch/blob/main/SECURITY.md#untrusted-models for more details). In a future release, the default value for `weights_only` will be flipped to `True`. This limits the functions that could be executed during unpickling. Arbitrary objects will no longer be allowed to be loaded via this mode unless they are explicitly allowlisted by the user via `torch.serialization.add_safe_globals`. We recommend you start setting `weights_only=True` for any use case where you don't have full control of the loaded file. Please open an issue on GitHub for any issues related to this experimental feature.\n",
      "  state_dict = torch.load(path, map_location=device)\n",
      "\u001b[32m2025-06-16 08:34:06.352\u001b[0m | \u001b[1mINFO    \u001b[0m | \u001b[36mufish.api\u001b[0m:\u001b[36mpredict\u001b[0m:\u001b[36m417\u001b[0m - \u001b[1mAxes not specified, infering from image shape.\u001b[0m\n",
      "\u001b[32m2025-06-16 08:34:06.353\u001b[0m | \u001b[1mINFO    \u001b[0m | \u001b[36mufish.api\u001b[0m:\u001b[36mpredict\u001b[0m:\u001b[36m419\u001b[0m - \u001b[1mInfered axes: yx, image shape: (2048, 2048)\u001b[0m\n",
      "\u001b[32m2025-06-16 08:34:07.225\u001b[0m | \u001b[1mINFO    \u001b[0m | \u001b[36mufish.api\u001b[0m:\u001b[36minit_model\u001b[0m:\u001b[36m70\u001b[0m - \u001b[1mInitializing ufish model with kwargs: {}\u001b[0m\n",
      "\u001b[32m2025-06-16 08:34:07.226\u001b[0m | \u001b[1mINFO    \u001b[0m | \u001b[36mufish.api\u001b[0m:\u001b[36minit_model\u001b[0m:\u001b[36m72\u001b[0m - \u001b[1mNumber of parameters: 162959\u001b[0m\n",
      "\u001b[32m2025-06-16 08:34:07.228\u001b[0m | \u001b[1mINFO    \u001b[0m | \u001b[36mufish.api\u001b[0m:\u001b[36minit_model\u001b[0m:\u001b[36m78\u001b[0m - \u001b[1mCUDA is available, using GPU.\u001b[0m\n",
      "\u001b[32m2025-06-16 08:34:07.229\u001b[0m | \u001b[1mINFO    \u001b[0m | \u001b[36mufish.api\u001b[0m:\u001b[36m_load_pth_file\u001b[0m:\u001b[36m232\u001b[0m - \u001b[1mLoading weights from /home/jacques/Documents/FISH/Data_analysis/pipeline_smfish_in_apifish/pipeline_HOX_apiFISH/src/detection_fish/v1.0-alldata-ufish_c32.pth\u001b[0m\n",
      "/home/jacques/miniconda3/envs/ufish_env/lib/python3.10/site-packages/ufish/api.py:234: FutureWarning: You are using `torch.load` with `weights_only=False` (the current default value), which uses the default pickle module implicitly. It is possible to construct malicious pickle data which will execute arbitrary code during unpickling (See https://github.com/pytorch/pytorch/blob/main/SECURITY.md#untrusted-models for more details). In a future release, the default value for `weights_only` will be flipped to `True`. This limits the functions that could be executed during unpickling. Arbitrary objects will no longer be allowed to be loaded via this mode unless they are explicitly allowlisted by the user via `torch.serialization.add_safe_globals`. We recommend you start setting `weights_only=True` for any use case where you don't have full control of the loaded file. Please open an issue on GitHub for any issues related to this experimental feature.\n",
      "  state_dict = torch.load(path, map_location=device)\n",
      "\u001b[32m2025-06-16 08:34:07.239\u001b[0m | \u001b[1mINFO    \u001b[0m | \u001b[36mufish.api\u001b[0m:\u001b[36mpredict\u001b[0m:\u001b[36m417\u001b[0m - \u001b[1mAxes not specified, infering from image shape.\u001b[0m\n",
      "\u001b[32m2025-06-16 08:34:07.240\u001b[0m | \u001b[1mINFO    \u001b[0m | \u001b[36mufish.api\u001b[0m:\u001b[36mpredict\u001b[0m:\u001b[36m419\u001b[0m - \u001b[1mInfered axes: yx, image shape: (2048, 2048)\u001b[0m\n",
      "\u001b[32m2025-06-16 08:34:08.078\u001b[0m | \u001b[1mINFO    \u001b[0m | \u001b[36mufish.api\u001b[0m:\u001b[36minit_model\u001b[0m:\u001b[36m70\u001b[0m - \u001b[1mInitializing ufish model with kwargs: {}\u001b[0m\n",
      "\u001b[32m2025-06-16 08:34:08.080\u001b[0m | \u001b[1mINFO    \u001b[0m | \u001b[36mufish.api\u001b[0m:\u001b[36minit_model\u001b[0m:\u001b[36m72\u001b[0m - \u001b[1mNumber of parameters: 162959\u001b[0m\n",
      "\u001b[32m2025-06-16 08:34:08.082\u001b[0m | \u001b[1mINFO    \u001b[0m | \u001b[36mufish.api\u001b[0m:\u001b[36minit_model\u001b[0m:\u001b[36m78\u001b[0m - \u001b[1mCUDA is available, using GPU.\u001b[0m\n",
      "\u001b[32m2025-06-16 08:34:08.083\u001b[0m | \u001b[1mINFO    \u001b[0m | \u001b[36mufish.api\u001b[0m:\u001b[36m_load_pth_file\u001b[0m:\u001b[36m232\u001b[0m - \u001b[1mLoading weights from /home/jacques/Documents/FISH/Data_analysis/pipeline_smfish_in_apifish/pipeline_HOX_apiFISH/src/detection_fish/v1.0-alldata-ufish_c32.pth\u001b[0m\n",
      "/home/jacques/miniconda3/envs/ufish_env/lib/python3.10/site-packages/ufish/api.py:234: FutureWarning: You are using `torch.load` with `weights_only=False` (the current default value), which uses the default pickle module implicitly. It is possible to construct malicious pickle data which will execute arbitrary code during unpickling (See https://github.com/pytorch/pytorch/blob/main/SECURITY.md#untrusted-models for more details). In a future release, the default value for `weights_only` will be flipped to `True`. This limits the functions that could be executed during unpickling. Arbitrary objects will no longer be allowed to be loaded via this mode unless they are explicitly allowlisted by the user via `torch.serialization.add_safe_globals`. We recommend you start setting `weights_only=True` for any use case where you don't have full control of the loaded file. Please open an issue on GitHub for any issues related to this experimental feature.\n",
      "  state_dict = torch.load(path, map_location=device)\n",
      "\u001b[32m2025-06-16 08:34:08.092\u001b[0m | \u001b[1mINFO    \u001b[0m | \u001b[36mufish.api\u001b[0m:\u001b[36mpredict\u001b[0m:\u001b[36m417\u001b[0m - \u001b[1mAxes not specified, infering from image shape.\u001b[0m\n",
      "\u001b[32m2025-06-16 08:34:08.092\u001b[0m | \u001b[1mINFO    \u001b[0m | \u001b[36mufish.api\u001b[0m:\u001b[36mpredict\u001b[0m:\u001b[36m419\u001b[0m - \u001b[1mInfered axes: yx, image shape: (2048, 2048)\u001b[0m\n",
      "\u001b[32m2025-06-16 08:34:08.955\u001b[0m | \u001b[1mINFO    \u001b[0m | \u001b[36mufish.api\u001b[0m:\u001b[36minit_model\u001b[0m:\u001b[36m70\u001b[0m - \u001b[1mInitializing ufish model with kwargs: {}\u001b[0m\n",
      "\u001b[32m2025-06-16 08:34:08.957\u001b[0m | \u001b[1mINFO    \u001b[0m | \u001b[36mufish.api\u001b[0m:\u001b[36minit_model\u001b[0m:\u001b[36m72\u001b[0m - \u001b[1mNumber of parameters: 162959\u001b[0m\n",
      "\u001b[32m2025-06-16 08:34:08.960\u001b[0m | \u001b[1mINFO    \u001b[0m | \u001b[36mufish.api\u001b[0m:\u001b[36minit_model\u001b[0m:\u001b[36m78\u001b[0m - \u001b[1mCUDA is available, using GPU.\u001b[0m\n",
      "\u001b[32m2025-06-16 08:34:08.960\u001b[0m | \u001b[1mINFO    \u001b[0m | \u001b[36mufish.api\u001b[0m:\u001b[36m_load_pth_file\u001b[0m:\u001b[36m232\u001b[0m - \u001b[1mLoading weights from /home/jacques/Documents/FISH/Data_analysis/pipeline_smfish_in_apifish/pipeline_HOX_apiFISH/src/detection_fish/v1.0-alldata-ufish_c32.pth\u001b[0m\n",
      "/home/jacques/miniconda3/envs/ufish_env/lib/python3.10/site-packages/ufish/api.py:234: FutureWarning: You are using `torch.load` with `weights_only=False` (the current default value), which uses the default pickle module implicitly. It is possible to construct malicious pickle data which will execute arbitrary code during unpickling (See https://github.com/pytorch/pytorch/blob/main/SECURITY.md#untrusted-models for more details). In a future release, the default value for `weights_only` will be flipped to `True`. This limits the functions that could be executed during unpickling. Arbitrary objects will no longer be allowed to be loaded via this mode unless they are explicitly allowlisted by the user via `torch.serialization.add_safe_globals`. We recommend you start setting `weights_only=True` for any use case where you don't have full control of the loaded file. Please open an issue on GitHub for any issues related to this experimental feature.\n",
      "  state_dict = torch.load(path, map_location=device)\n",
      "\u001b[32m2025-06-16 08:34:08.970\u001b[0m | \u001b[1mINFO    \u001b[0m | \u001b[36mufish.api\u001b[0m:\u001b[36mpredict\u001b[0m:\u001b[36m417\u001b[0m - \u001b[1mAxes not specified, infering from image shape.\u001b[0m\n",
      "\u001b[32m2025-06-16 08:34:08.971\u001b[0m | \u001b[1mINFO    \u001b[0m | \u001b[36mufish.api\u001b[0m:\u001b[36mpredict\u001b[0m:\u001b[36m419\u001b[0m - \u001b[1mInfered axes: yx, image shape: (2048, 2048)\u001b[0m\n",
      "\u001b[32m2025-06-16 08:34:10.013\u001b[0m | \u001b[1mINFO    \u001b[0m | \u001b[36mufish.api\u001b[0m:\u001b[36minit_model\u001b[0m:\u001b[36m70\u001b[0m - \u001b[1mInitializing ufish model with kwargs: {}\u001b[0m\n",
      "\u001b[32m2025-06-16 08:34:10.014\u001b[0m | \u001b[1mINFO    \u001b[0m | \u001b[36mufish.api\u001b[0m:\u001b[36minit_model\u001b[0m:\u001b[36m72\u001b[0m - \u001b[1mNumber of parameters: 162959\u001b[0m\n",
      "\u001b[32m2025-06-16 08:34:10.017\u001b[0m | \u001b[1mINFO    \u001b[0m | \u001b[36mufish.api\u001b[0m:\u001b[36minit_model\u001b[0m:\u001b[36m78\u001b[0m - \u001b[1mCUDA is available, using GPU.\u001b[0m\n",
      "\u001b[32m2025-06-16 08:34:10.017\u001b[0m | \u001b[1mINFO    \u001b[0m | \u001b[36mufish.api\u001b[0m:\u001b[36m_load_pth_file\u001b[0m:\u001b[36m232\u001b[0m - \u001b[1mLoading weights from /home/jacques/Documents/FISH/Data_analysis/pipeline_smfish_in_apifish/pipeline_HOX_apiFISH/src/detection_fish/v1.0-alldata-ufish_c32.pth\u001b[0m\n",
      "/home/jacques/miniconda3/envs/ufish_env/lib/python3.10/site-packages/ufish/api.py:234: FutureWarning: You are using `torch.load` with `weights_only=False` (the current default value), which uses the default pickle module implicitly. It is possible to construct malicious pickle data which will execute arbitrary code during unpickling (See https://github.com/pytorch/pytorch/blob/main/SECURITY.md#untrusted-models for more details). In a future release, the default value for `weights_only` will be flipped to `True`. This limits the functions that could be executed during unpickling. Arbitrary objects will no longer be allowed to be loaded via this mode unless they are explicitly allowlisted by the user via `torch.serialization.add_safe_globals`. We recommend you start setting `weights_only=True` for any use case where you don't have full control of the loaded file. Please open an issue on GitHub for any issues related to this experimental feature.\n",
      "  state_dict = torch.load(path, map_location=device)\n",
      "\u001b[32m2025-06-16 08:34:10.026\u001b[0m | \u001b[1mINFO    \u001b[0m | \u001b[36mufish.api\u001b[0m:\u001b[36mpredict\u001b[0m:\u001b[36m417\u001b[0m - \u001b[1mAxes not specified, infering from image shape.\u001b[0m\n",
      "\u001b[32m2025-06-16 08:34:10.026\u001b[0m | \u001b[1mINFO    \u001b[0m | \u001b[36mufish.api\u001b[0m:\u001b[36mpredict\u001b[0m:\u001b[36m419\u001b[0m - \u001b[1mInfered axes: yx, image shape: (2048, 2048)\u001b[0m\n"
     ]
    }
   ],
   "source": [
    "#a) UFISH (without deconvolution)\n",
    "\n",
    "base_dir        = str(Path().resolve().parent.parent)\n",
    "dots_ufish_path = spots_ufish_folder / f\"dots_{modality}_{chan_c}_UFISH.npy\"\n",
    "viewer4         = napari.Viewer(title=\"UFISH on raw data\")\n",
    "dict_ufish_dots = {}\n",
    "dict_ufish_dots_local_copy = {}  # this dict contains the same information but the keys are different\n",
    "\n",
    "counter = 0\n",
    "for ind_l, file in enumerate(batch_fish):\n",
    "    file            = Path(file)\n",
    "    file_abs_path   = str(Path(batch_fish[ind_l]).resolve())\n",
    "    im_rna          = io.imread(batch_fish[ind_l])\n",
    "    spots_uf_raw    = det_spots_ufish(file_abs_path)\n",
    "    \n",
    "    if im_rna.ndim == 3:\n",
    "        mip_im_rna = np.max(im_rna, axis=0)    \n",
    "    elif im_rna.ndim == 2:\n",
    "        mip_im_rna = im_rna\n",
    "    \n",
    "    if np.shape(spots_uf_raw)[1] == 3:\n",
    "        spots_uf_raw_2d = spots_uf_raw[:,1:]\n",
    "    elif np.shape(spots_uf_raw)[1] == 2:    \n",
    "        spots_uf_raw_2d = spots_uf_raw\n",
    "    \n",
    "    val = np.percentile(mip_im_rna, 99)    \n",
    "    viewer4.add_image(mip_im_rna, contrast_limits=(0, val), rgb=False, name=f\"{modality} {file.stem}\", opacity=0.8)\n",
    "    viewer4.add_points(spots_uf_raw_2d, name=f\"Spots {modality} {file.stem}\", size=4,  border_color='#FF0000', face_color=[0, 0, 0, 0]);\n",
    "\n",
    "    if counter != 0:\n",
    "        viewer4.layers[f\"{modality} {file.stem}\"].visible       = False\n",
    "        viewer4.layers[f\"Spots {modality} {file.stem}\"].visible = False \n",
    "\n",
    "    base_name = '_'.join(file.stem.split('_')[:-1])\n",
    "    dict_ufish_dots[base_name] = spots_uf_raw\n",
    "    dict_ufish_dots_local_copy[file.stem] = spots_uf_raw\n",
    "    counter += 1\n",
    "\n",
    "format_spots = 'spots_IDzyx'\n",
    "fp.save_spots_distributed_files(dots_ufish_path, format_spots, dict_ufish_dots, im_rna.ndim)"
   ]
  },
  {
   "cell_type": "code",
   "execution_count": 14,
   "metadata": {},
   "outputs": [],
   "source": [
    "exec(f\"DOTS_UFISH_{modality}_{chan_c}_PATH   = dots_ufish_path\", globals())\n",
    "exec(f\"SPOTS_FOLDER_{modality}_{chan_c}_PATH = spots_folder\")\n",
    "exec(f\"SPOTS_FORMAT = format_spots\")"
   ]
  },
  {
   "cell_type": "code",
   "execution_count": 15,
   "metadata": {},
   "outputs": [],
   "source": [
    "constants2 = tk.collect_constants()\n",
    "tk.save_constants_and_commit_hash(constants2, batch_name, folder_path = Path(f\"../Analysis/{batch_name}\"))"
   ]
  },
  {
   "cell_type": "code",
   "execution_count": null,
   "metadata": {},
   "outputs": [],
   "source": []
  },
  {
   "cell_type": "code",
   "execution_count": null,
   "metadata": {},
   "outputs": [],
   "source": []
  },
  {
   "cell_type": "code",
   "execution_count": null,
   "metadata": {},
   "outputs": [],
   "source": []
  }
 ],
 "metadata": {
  "kernelspec": {
   "display_name": "ufish_env",
   "language": "python",
   "name": "python3"
  },
  "language_info": {
   "codemirror_mode": {
    "name": "ipython",
    "version": 3
   },
   "file_extension": ".py",
   "mimetype": "text/x-python",
   "name": "python",
   "nbconvert_exporter": "python",
   "pygments_lexer": "ipython3",
   "version": "3.10.16"
  }
 },
 "nbformat": 4,
 "nbformat_minor": 2
}
