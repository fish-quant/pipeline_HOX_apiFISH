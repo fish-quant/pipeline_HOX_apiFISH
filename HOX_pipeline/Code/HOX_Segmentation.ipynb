{
 "cells": [
  {
   "cell_type": "markdown",
   "metadata": {},
   "source": [
    "SEGMENTATION\n",
    "\n",
    "At some point during the notebook, you will have to leve this notebook and use Cellpose, and then come back to this notebook.\n",
    "\n",
    "To learn how to use cell pose, check:\n",
    "\n",
    "https://www.youtube.com/watch?v=5qANHWoubZU   or  https://www.youtube.com/watch?v=wB7XYh4QRiI   (short version)\n",
    "\n",
    "\n",
    "Warning: in the first notebook \"Read_files_create_batch.ipynb\" we created and stored files in particular forders\n",
    " {batch_name}/{condition}/{channel}. Depending on what do you want to segment, go to each corresponding folder and run cellpose and retrain it.\n",
    " To run cellpose, just open a command line, open the conda environment (base_env) and just run \">>Cellpose\". Then drag and drop a file from the desired folder into cellpose.\n",
    " For instance, to train a model to get the cell bodies, if your experiment has cellmask on top of the DAPI channel, you can segment with cell pose using the DAPI folder (and the right diamenter parameter). Otherwise, you may try to use the FISH data. Cellpose will use the images present in the folder from where you dropped the first image, and it will create a folder called models. That is why it is a good practice to separate the images by channels. \n",
    "\n",
    "In Cellpose, read the instructions to retrain a model in: Models / Training instructions. Do not forget, once you resegment to press Ctrl  + S to save the masks.\n",
    "\n",
    "\n",
    "Very important: when you train a model on the cell body or on the nuclei, note down the diameter, this parameter will be useful in this notebook, and stored at the end of it.\n",
    "Also, when training two different models on a same dataset, both models will be saved in /models. One strategy in order to do not confuse them is to rename them with a more explicit name\n",
    "such as date_cyto3_nucleus to do not confuse them. The model is the file without extension. In this notebook, we will store the model name in the .json file, however you must be able to recognize it to use it.\n",
    "\n",
    "\n",
    "23/04/25     Jacques Bourg @ Florian Muller lab. Institut Pasteur.\n",
    "\n",
    "\n",
    "<img src=\"./HOX_pipeline.png\" alt=\"LNP pipeline\" width=\"1200\" height=\"477\">\n"
   ]
  },
  {
   "cell_type": "code",
   "execution_count": null,
   "metadata": {},
   "outputs": [],
   "source": [
    "import os\n",
    "import sys\n",
    "import numpy as np\n",
    "from pathlib import Path\n",
    "import skimage.io as io\n",
    "import napari\n",
    "\n",
    "import ipywidgets as widgets\n",
    "from IPython.display import display"
   ]
  },
  {
   "cell_type": "code",
   "execution_count": null,
   "metadata": {},
   "outputs": [],
   "source": [
    "%load_ext autoreload\n",
    "%autoreload 2\n",
    "\n",
    "base_dir = Path(\"../../src\").resolve()\n",
    "sys.path.append(str(base_dir))\n",
    "sys.path.append(str(base_dir / \"utils\"))\n",
    "sys.path.append(str(base_dir / \"segmentation\"))\n",
    "\n",
    "from utils.parameters_tracking import Parameter_tracking as Track\n",
    "from utils.file_handling import FileProcessor as Fp\n",
    "from utils.widgets import IntegerInputWidget as Iiw\n",
    "from segmentation.refine_seg import Segmentation\n",
    "\n",
    "fp  = Fp()\n",
    "tk  = Track()\n",
    "sg  = Segmentation()"
   ]
  },
  {
   "cell_type": "code",
   "execution_count": null,
   "metadata": {},
   "outputs": [],
   "source": [
    "var = str(Path('../Analysis'))\n",
    "batch_folders = os.listdir(var)\n",
    "dropdown = widgets.Dropdown(options=batch_folders, description='Select:', layout=widgets.Layout(width='auto', min_width='150px'))\n",
    "display(dropdown)"
   ]
  },
  {
   "cell_type": "code",
   "execution_count": null,
   "metadata": {},
   "outputs": [],
   "source": [
    "n         = np.where(np.array(batch_folders) == dropdown.value)[0][0]\n",
    "file_path = str(Path(var) / Path(batch_folders[n]) / Path(batch_folders[n] +'.json'))\n",
    "constants = tk.load_json(file_path)\n",
    "batch_name= constants['BATCH_NAME']; print(batch_name)"
   ]
  },
  {
   "cell_type": "code",
   "execution_count": null,
   "metadata": {},
   "outputs": [],
   "source": [
    "modalities = constants['MODALITIES']\n",
    "dropdown2 = widgets.Dropdown(options=modalities, description='Select:', layout=widgets.Layout(width='auto', min_width='150px'))\n",
    "display(dropdown2)"
   ]
  },
  {
   "cell_type": "code",
   "execution_count": null,
   "metadata": {},
   "outputs": [],
   "source": [
    "n2  = np.where(np.array(modalities) == dropdown2.value)[0][0] \n",
    "modality = modalities[n2]; print(modality)"
   ]
  },
  {
   "cell_type": "markdown",
   "metadata": {},
   "source": [
    "#### Choose the channel which was used to segment the nuclei"
   ]
  },
  {
   "cell_type": "code",
   "execution_count": null,
   "metadata": {},
   "outputs": [],
   "source": [
    "channel   = constants['CHANNELS']\n",
    "dropdown3 = widgets.Dropdown(options=channel, description='Select:', layout=widgets.Layout(width='auto', min_width='150px'))\n",
    "display(dropdown3)"
   ]
  },
  {
   "cell_type": "code",
   "execution_count": null,
   "metadata": {},
   "outputs": [],
   "source": [
    "n3   = np.where(np.array(channel) == dropdown3.value)[0][0]\n",
    "chan = channel[n3]; print(chan)"
   ]
  },
  {
   "cell_type": "markdown",
   "metadata": {},
   "source": [
    "Select nuclei"
   ]
  },
  {
   "cell_type": "code",
   "execution_count": null,
   "metadata": {},
   "outputs": [],
   "source": [
    "structs   = constants['STRUCTURES']\n",
    "dropdown4 = widgets.Dropdown(options=structs, description='Select:', layout=widgets.Layout(width='auto', min_width='150px'))\n",
    "display(dropdown4)"
   ]
  },
  {
   "cell_type": "code",
   "execution_count": null,
   "metadata": {},
   "outputs": [],
   "source": [
    "n4   = np.where(np.array(structs) == dropdown4.value)[0][0]\n",
    "struc = structs[n4]; print(struc)"
   ]
  },
  {
   "cell_type": "code",
   "execution_count": null,
   "metadata": {},
   "outputs": [],
   "source": [
    "# choose  model\n",
    "folder_models          = fp.select_folder(initialdir = str(Path(f'../Analysis/{batch_name}/{modality}/{chan}/{struc}/train_2D/')), title=\"Select the path to the cell pose models folder (ex  .../FISH/.../train2D/models) \")     \n",
    "batch_models           = os.listdir(folder_models)\n",
    "batch_models_filtered  = [el for el in batch_models if Path(el).suffix == '']\n",
    "dropdown_model         = widgets.Dropdown(options=batch_models_filtered, description='Select:', layout=widgets.Layout(width='auto', min_width='150px'))\n",
    "display(dropdown_model)"
   ]
  },
  {
   "cell_type": "code",
   "execution_count": null,
   "metadata": {},
   "outputs": [],
   "source": [
    "n4 = np.where((np.array(batch_models) == dropdown_model.value))[0][0]\n",
    "model= batch_models[n4]; print(model)"
   ]
  },
  {
   "cell_type": "markdown",
   "metadata": {},
   "source": [
    "### Segmentation of nuclei\n",
    "\n",
    "##### Define the diameter of the nuclei in pixels (medium diameter in pixels computed during training). Approx value: 150 (px)."
   ]
  },
  {
   "cell_type": "code",
   "execution_count": null,
   "metadata": {},
   "outputs": [],
   "source": [
    "iw = Iiw(title='Diameter (px)')\n",
    "iw.display()"
   ]
  },
  {
   "cell_type": "code",
   "execution_count": null,
   "metadata": {},
   "outputs": [],
   "source": [
    "diam_deblur = iw.input.value; print('Diameter (pixels):', diam_deblur)"
   ]
  },
  {
   "cell_type": "code",
   "execution_count": null,
   "metadata": {},
   "outputs": [],
   "source": [
    "batch_mod_chan_mip = constants[f'BATCH_{modality}_{chan}_{struc}_MIP']\n",
    "mask_folder_path   = Path(f\"../Analysis/{batch_name}/{modality}/{chan}/{struc}/masks\")\n",
    "if not mask_folder_path.exists():\n",
    "    mask_folder_path.mkdir(parents=True)\n",
    "\n",
    "GPU_CP               = True\n",
    "pretrained_model_path= str(Path(folder_models) / model)\n",
    "\n",
    "mask_list_path       = mask_folder_path / Path(f\"{batch_name}_masks_{modality}_{chan}_{struc}.npy\")\n",
    "mask_contours_path   = mask_folder_path / Path(f\"{batch_name}_contours_{modality}_{chan}_{struc}.npy\")\n",
    "\n",
    "viewer1         = napari.Viewer(title=\"Cell pose segmentation\")\n",
    "dict_mask_nuclei= {}\n",
    "dict_contours   = {}\n",
    "\n",
    "counter = 0\n",
    "for ind, file in enumerate(batch_mod_chan_mip):\n",
    "    file = Path(file)\n",
    "    im   = io.imread(file)\n",
    "\n",
    "    cell_db     = sg.deblur_cellpose(im, diameter=diam_deblur, gpu=GPU_CP)\n",
    "    masks       = sg.segment_with_custom_model(cell_db, pretrained_model_path, gpu=GPU_CP)\n",
    "    countours   = sg.find_all_contours(masks)\n",
    "    \n",
    "    value_max   = np.percentile(im, 99)\n",
    "    viewer1.add_image(im, rgb=False, name=f\" {str(file.stem)}\", contrast_limits=(0, value_max))\n",
    "    viewer1.add_shapes(countours, name=f\"Contours {str(file.stem)}\", shape_type='polygon',\n",
    "                                                edge_color='red', face_color='transparent', opacity=1)\n",
    "    \n",
    "    base_name   = '_'.join(Path(file).stem.split('_')[:-3])\n",
    "    dict_mask_nuclei[base_name] = masks\n",
    "    dict_contours[base_name]    = countours\n",
    "\n",
    "    if counter != 0:\n",
    "        viewer1.layers[f\" {str(file.stem)}\"].visible         = False\n",
    "        viewer1.layers[f\"Contours {str(file.stem)}\"].visible = False \n",
    "    counter += 1\n",
    "      \n",
    "fp.save_masks_distributed_files(mask_list_path, dict_mask_nuclei)\n",
    "np.save(mask_contours_path, dict_contours)"
   ]
  },
  {
   "cell_type": "markdown",
   "metadata": {},
   "source": [
    "##### turn important lower case variables into uppercase for tracking, create those variables names with this content: useful for experiment tracking"
   ]
  },
  {
   "cell_type": "code",
   "execution_count": null,
   "metadata": {},
   "outputs": [],
   "source": [
    "exec(f\"MASK_{modality}_{chan}_{struc}_CONTOURS_PATH = mask_contours_path\", globals())\n",
    "exec(f\"MASK_{modality}_{chan}_{struc}_LIST_PATH = mask_list_path\", globals())\n",
    "exec(f\"DIAMETER_CELLPOSE_{modality}_{chan}_{struc} = diam_deblur\", globals())\n",
    "exec(f\"MODEL_PATH_{modality}_{chan}_{struc} = pretrained_model_path\", globals())\n",
    "exec(f\"MODEL_NAME_{modality}_{chan}_{struc} = '{model}' \", globals())"
   ]
  },
  {
   "cell_type": "markdown",
   "metadata": {},
   "source": [
    "#####  Imputation of cell cytoplasm: we dilate the nuclei masks of a certain distance, stopping when the labels overlap.\n",
    "#####  Check the size of the crown around the cells:  vary the distance parameter"
   ]
  },
  {
   "cell_type": "code",
   "execution_count": null,
   "metadata": {},
   "outputs": [],
   "source": [
    "chan = 'DAPI'\n",
    "cell_path = Path(f\"../Analysis/{batch_name}/{modality}/{chan}/CELL\")\n",
    "if not cell_path.exists():\n",
    "    cell_path.mkdir(parents=True)\n",
    "        \n",
    "mask_cell_folder_path   = Path(f\"../Analysis/{batch_name}/{modality}/{chan}/CELL/masks\")\n",
    "if not mask_cell_folder_path.exists():\n",
    "    mask_cell_folder_path.mkdir(parents=True)\n",
    "\n",
    "mask_cell_list_path     = mask_cell_folder_path / Path(f\"{batch_name}_masks_{modality}_{chan}_{struc}.npy\")"
   ]
  },
  {
   "cell_type": "code",
   "execution_count": null,
   "metadata": {},
   "outputs": [],
   "source": [
    "distance_dilation = 5 \n",
    "dict_mask_cells   = {}\n",
    "\n",
    "viewer           = napari.Viewer(title=\"Putative cell body\")\n",
    "for ind, file in enumerate(batch_mod_chan_mip):\n",
    "    file         = Path(file)\n",
    "    im_dapi      = io.imread(file)\n",
    "    base_name    = '_'.join(Path(file).stem.split('_')[:-3])\n",
    "    \n",
    "    masks_nuclei = dict_mask_nuclei[base_name]\n",
    "    masks_cells  = sg.dilate_labels(masks_nuclei, distance=distance_dilation)\n",
    "    dict_mask_cells[base_name] = masks_cells\n",
    "\n",
    "    value_max    = np.percentile(im_dapi, 99)\n",
    "    viewer.add_image(im_dapi, rgb=False, name=f\" {str(file.stem)}\", contrast_limits=(0, value_max))\n",
    "    viewer.add_labels(masks_nuclei, name=f\" Nuclei {str(file.stem)}\", blending= 'additive')\n",
    "    viewer.add_labels(masks_cells,  name=f\" Cells {str(file.stem)}\", blending= 'additive')\n",
    "  \n",
    "fp.save_masks_distributed_files(mask_cell_list_path, dict_mask_cells)"
   ]
  },
  {
   "cell_type": "code",
   "execution_count": null,
   "metadata": {},
   "outputs": [],
   "source": [
    "exec(f\"MASK_{modality}_DAPI_CELL_LIST_PATH    = mask_cell_list_path\", globals())\n",
    "exec(f\"DISTANCE_DILATION_{modality}_DAPI_CELL = distance_dilation\",   globals())"
   ]
  },
  {
   "cell_type": "markdown",
   "metadata": {},
   "source": [
    "Save parameters"
   ]
  },
  {
   "cell_type": "code",
   "execution_count": null,
   "metadata": {},
   "outputs": [],
   "source": [
    "constants2 = tk.collect_constants()\n",
    "tk.save_constants_and_commit_hash(constants2, batch_name, folder_path = Path(f\"../Analysis/{batch_name}\"))"
   ]
  },
  {
   "cell_type": "code",
   "execution_count": null,
   "metadata": {},
   "outputs": [],
   "source": []
  }
 ],
 "metadata": {
  "kernelspec": {
   "display_name": "base_env_apifish",
   "language": "python",
   "name": "base_env_apifish"
  },
  "language_info": {
   "codemirror_mode": {
    "name": "ipython",
    "version": 3
   },
   "file_extension": ".py",
   "mimetype": "text/x-python",
   "name": "python",
   "nbconvert_exporter": "python",
   "pygments_lexer": "ipython3",
   "version": "3.9.0"
  }
 },
 "nbformat": 4,
 "nbformat_minor": 2
}
