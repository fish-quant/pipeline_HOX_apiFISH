{
 "cells": [
  {
   "cell_type": "markdown",
   "metadata": {},
   "source": [
    "This notebook is about single gene spatial statistics, it allows to characterize, one gene at a time the distribution of \n",
    "rna's in the cells. \n",
    "\n",
    "\n",
    "23/04/25     Jacques Bourg @ Florian Muller lab. Institut Pasteur.\n",
    "\n",
    "<img src=\"./HOX_pipeline.png\" alt=\"LNP pipeline\" width=\"1200\" height=\"477\">"
   ]
  },
  {
   "cell_type": "code",
   "execution_count": 1,
   "metadata": {},
   "outputs": [],
   "source": [
    "import sys\n",
    "import os\n",
    "import numpy as np\n",
    "import napari\n",
    "from skimage import io\n",
    "from pathlib import Path\n",
    "import ipywidgets as widgets\n",
    "from IPython.display import display\n",
    "import matplotlib.pyplot as plt"
   ]
  },
  {
   "cell_type": "code",
   "execution_count": 2,
   "metadata": {},
   "outputs": [],
   "source": [
    "%load_ext autoreload\n",
    "%autoreload 2\n",
    "\n",
    "base_dir = Path(\"../../src\").resolve()\n",
    "sys.path.append(str(base_dir))\n",
    "sys.path.append(str(base_dir / \"utils\"))\n",
    "sys.path.append(str(base_dir / \"segmentation\"))\n",
    "sys.path.append(str(base_dir / \"synthesis\"))\n",
    "\n",
    "from segmentation.refine_seg import Segmentation\n",
    "from synthesis.synthesize import Synthesis\n",
    "from utils.plots import Plots\n",
    "from utils.parameters_tracking import Parameter_tracking as Track\n",
    "from utils.file_handling import FileProcessor\n",
    "\n",
    "sg  = Segmentation()\n",
    "pts = Plots()\n",
    "tk  = Track()\n",
    "fp  = FileProcessor()\n",
    "st  = Synthesis()"
   ]
  },
  {
   "cell_type": "code",
   "execution_count": null,
   "metadata": {},
   "outputs": [],
   "source": [
    "var = str(Path('../Analysis'))\n",
    "batch_folders = os.listdir(var)\n",
    "dropdown = widgets.Dropdown(options=batch_folders, description='Select:', layout=widgets.Layout(width='auto', min_width='150px'))\n",
    "display(dropdown)"
   ]
  },
  {
   "cell_type": "code",
   "execution_count": null,
   "metadata": {},
   "outputs": [],
   "source": [
    "n         = np.where(np.array(batch_folders) == dropdown.value)[0][0]\n",
    "file_path = str(Path(var) / Path(batch_folders[n]) / Path(batch_folders[n] +'.json'))\n",
    "constants = tk.load_json(file_path)\n",
    "batch_name= constants['BATCH_NAME']; print(batch_name)"
   ]
  },
  {
   "cell_type": "code",
   "execution_count": null,
   "metadata": {},
   "outputs": [],
   "source": [
    "modalities = constants['MODALITIES']\n",
    "dropdown2 = widgets.Dropdown(options=modalities, description='Select:', layout=widgets.Layout(width='auto', min_width='150px'))\n",
    "display(dropdown2)"
   ]
  },
  {
   "cell_type": "code",
   "execution_count": null,
   "metadata": {},
   "outputs": [],
   "source": [
    "n2       = np.where(np.array(modalities) == dropdown2.value)[0][0] \n",
    "modality = modalities[n2]; print(modality)"
   ]
  },
  {
   "cell_type": "markdown",
   "metadata": {},
   "source": [
    "Select channels used to detect dots (corresponding to a particular gene or simply called FISH). DAPI do not makes sense."
   ]
  },
  {
   "cell_type": "code",
   "execution_count": null,
   "metadata": {},
   "outputs": [],
   "source": [
    "channels_cell = constants['CHANNELS'] #  (could also be FISH_0, FISH_1, ... or even different genes names), DAPI doesn't make sense\n",
    "dropdown3 = widgets.Dropdown(options=channels_cell, description='Select:', layout=widgets.Layout(width='auto', min_width='150px'))\n",
    "display(dropdown3)"
   ]
  },
  {
   "cell_type": "code",
   "execution_count": null,
   "metadata": {},
   "outputs": [],
   "source": [
    "n3     = np.where(np.array(channels_cell) == dropdown3.value)[0][0]\n",
    "chan_f = channels_cell[n3]; print(chan_f)\n",
    "chan_n = constants[\"CHANNELS_NUM\"][n3]\n",
    "color  = constants[\"COLORS\"][n3]; print(color)               "
   ]
  },
  {
   "cell_type": "markdown",
   "metadata": {},
   "source": [
    "Select nuclei"
   ]
  },
  {
   "cell_type": "code",
   "execution_count": null,
   "metadata": {},
   "outputs": [],
   "source": [
    "structs   = constants['STRUCTURES'] \n",
    "dropdown6 = widgets.Dropdown(options=structs, description='Select:', layout=widgets.Layout(width='auto', min_width='150px'))\n",
    "display(dropdown6)"
   ]
  },
  {
   "cell_type": "code",
   "execution_count": null,
   "metadata": {},
   "outputs": [],
   "source": [
    "n6   = np.where(np.array(structs) == dropdown6.value)[0][0]\n",
    "struc_nuc = structs[n6]; print(struc_nuc)"
   ]
  },
  {
   "cell_type": "markdown",
   "metadata": {},
   "source": [
    "Select the channel used to detect the nuclei"
   ]
  },
  {
   "cell_type": "code",
   "execution_count": null,
   "metadata": {},
   "outputs": [],
   "source": [
    "channels_nuc = constants['CHANNELS'] #   choose DAPI, FISH doesn't make sense\n",
    "dropdown_n = widgets.Dropdown(options=channels_nuc, description='Select:', layout=widgets.Layout(width='auto', min_width='150px'))\n",
    "display(dropdown_n)"
   ]
  },
  {
   "cell_type": "code",
   "execution_count": null,
   "metadata": {},
   "outputs": [],
   "source": [
    "n_nuc    = np.where(np.array(channels_nuc) == dropdown_n.value)[0][0]\n",
    "chan_nuc = channels_nuc[n_nuc]; print(chan_nuc)"
   ]
  },
  {
   "cell_type": "markdown",
   "metadata": {},
   "source": [
    "Select the cell"
   ]
  },
  {
   "cell_type": "code",
   "execution_count": null,
   "metadata": {},
   "outputs": [],
   "source": [
    "structs   = constants['STRUCTURES'] \n",
    "dropdown7 = widgets.Dropdown(options=structs, description='Select:', layout=widgets.Layout(width='auto', min_width='150px'))\n",
    "display(dropdown7)"
   ]
  },
  {
   "cell_type": "code",
   "execution_count": null,
   "metadata": {},
   "outputs": [],
   "source": [
    "n7         = np.where(np.array(structs) == dropdown7.value)[0][0]\n",
    "struc_cell = structs[n7]; print(struc_cell)"
   ]
  },
  {
   "cell_type": "code",
   "execution_count": null,
   "metadata": {},
   "outputs": [],
   "source": [
    "detection_methods = ['UFISH','BIGFISH']\n",
    "dropdown8         = widgets.Dropdown(options=detection_methods, description='Select:', layout=widgets.Layout(width='auto', min_width='150px'))\n",
    "display(dropdown8)"
   ]
  },
  {
   "cell_type": "code",
   "execution_count": null,
   "metadata": {},
   "outputs": [],
   "source": [
    "n8     = np.where(np.array(detection_methods) == dropdown8.value)[0][0]\n",
    "meth   = detection_methods[n8]; print(meth)"
   ]
  },
  {
   "cell_type": "markdown",
   "metadata": {},
   "source": [
    "#### A\n",
    "batch processing, to do the figures once the next cells were executed, jump directly to B."
   ]
  },
  {
   "cell_type": "code",
   "execution_count": null,
   "metadata": {},
   "outputs": [],
   "source": [
    "mask_nuc_path        = constants[f'MASK_{modality}_DAPI_{struc_nuc}_CLEANED_LIST_PATH']         \n",
    "mask_cell_path       = constants[f'MASK_{modality}_DAPI_{struc_cell}_CLEANED_LIST_PATH']   \n",
    "\n",
    "dict_mask_nuc_m      = fp.load_masks_distributed_files(mask_nuc_path)                                \n",
    "dict_mask_cells_m    = fp.load_masks_distributed_files(mask_cell_path)    \n",
    "\n",
    "file_add_mask_stats  = constants[f\"MASK_{modality}_{struc_cell}_STATS_{meth}_{chan_f}_LIST_PATH\"]\n",
    "dic_masks_cell_stats = fp.load_pd_distributed_files(file_add_mask_stats)\n",
    "\n",
    "dots_path            = constants[f'DOTS_{meth}_{modality}_{chan_f}_PATH']\n",
    "dict_dots            = fp.load_spots_distributed_files(dots_path, constants['SPOTS_FORMAT'])\n",
    "\n",
    "batch_fish_mip       = constants[f'BATCH_{modality}_DAPI_NUCLEI_MIP']"
   ]
  },
  {
   "cell_type": "code",
   "execution_count": null,
   "metadata": {},
   "outputs": [],
   "source": [
    "im_dim = 3 if 'Z' in dict_dots[list(dict_dots.keys())[0]] else 2\n",
    "\n",
    "dic_count_spots       = {}\n",
    "dic_spots_in_cells    = {}\n",
    "dic_spots_in_nuclei   = {}\n",
    "   \n",
    "for ind, file_base_name in enumerate(list(dict_mask_nuc_m.keys())):\n",
    "    mask_cell     = dict_mask_cells_m[file_base_name]\n",
    "    mask_nuc      = dict_mask_nuc_m[file_base_name]\n",
    "    df_spots      = dict_dots[file_base_name]\n",
    "    image_2D      = io.imread(batch_fish_mip[ind])\n",
    "\n",
    "    df_stat_cells             = dic_masks_cell_stats[file_base_name]\n",
    "    df_stat_cells, df_spots   = sg.count_spots_in_masks_df(mask_cell, df_stat_cells, df_spots)\n",
    "    df_stat_cells, df_spots   = sg.spots_in_nuclei_df(mask_nuc, df_stat_cells, df_spots)\n",
    "    df_stat_cells             = st.spatial_statistics(mask_cell, mask_nuc, df_stat_cells, df_spots, image_2D)\n",
    "\n",
    "    dict_dots[file_base_name] = df_spots\n",
    "    dic_masks_cell_stats[file_base_name] = df_stat_cells\n",
    "\n",
    "fp.save_spots_distributed_files(dots_path, constants['SPOTS_FORMAT'], dict_dots, im_dim)\n",
    "fp.save_masks_stats_distributed_files_modif(file_add_mask_stats,  dic_masks_cell_stats)"
   ]
  },
  {
   "cell_type": "markdown",
   "metadata": {},
   "source": [
    "#### B\n",
    "    Figures"
   ]
  },
  {
   "cell_type": "code",
   "execution_count": null,
   "metadata": {},
   "outputs": [],
   "source": [
    "file_add_mask_stats  = constants[f\"MASK_{modality}_{struc_cell}_STATS_{meth}_{chan_f}_LIST_PATH\"]\n",
    "dic_masks_cell_stats = fp.load_pd_distributed_files(file_add_mask_stats)\n",
    "\n",
    "dots_path            = constants[f'DOTS_{meth}_{modality}_{chan_f}_PATH']\n",
    "dict_dots            = fp.load_spots_distributed_files(dots_path, constants['SPOTS_FORMAT'])"
   ]
  },
  {
   "cell_type": "markdown",
   "metadata": {},
   "source": [
    "#### Manual step      (WARNING: Manual input required)\n",
    "Organize your batch in rows and columns: rows can be conditions, and columns time or rows can be repetitions and columns conditions\n",
    "store as (line, column) for each element of the batch. Put None in case you don't want to display it. \n",
    "For instance if your batch files is ['file_control0', 'file_control1', 'file_control2', 'file_rep1_c1', 'file_rep2_c1', 'file_rep1_c2', 'file_rep2_c2'] and you want to organize your \n",
    "display as:\n",
    "\n",
    "|          | Concentration 1 | Concentration 2 |\n",
    "|----------|----------|----------|\n",
    "| **Rep 1**| R1, C1   | R1, C2   | \n",
    "| **Rep 2**| R2, C1   | R2, C2   |\n",
    "\n",
    "\n",
    "Then, insert the coordinates, in the following way,  do for a batch of experiments like:\n",
    "\n",
    "batch      = [`Exp to discard`, `Exp to discard`, `Exp to discard`, `R1,C1`, `R2,C1`,`R1,C2`,  `R2,C2` ]\n",
    "\n",
    "batch_plot = [`None` &nbsp;&nbsp;&nbsp;&nbsp;&nbsp;&nbsp;&nbsp;&nbsp;&nbsp;&nbsp;&nbsp;,  `None`&nbsp;&nbsp;&nbsp;&nbsp;&nbsp;&nbsp;&nbsp;&nbsp;&nbsp;&nbsp;&nbsp;,  `None `&nbsp;&nbsp;&nbsp;&nbsp;&nbsp;&nbsp;&nbsp;&nbsp;&nbsp;&nbsp;&nbsp;,`(0,0) `,`(1,0) `,`(0,1) `,`(1,1)`]"
   ]
  },
  {
   "cell_type": "code",
   "execution_count": null,
   "metadata": {},
   "outputs": [],
   "source": [
    "# batch_plot = [None, None, None, (0,0), (1,0), (2,0), (0,1), (1,1), (0,2), (1,2)] # None to omit a plot.\n",
    "\n",
    "batch_fish = constants[f'BATCH_{modality}_{chan_f}']\n",
    "\n",
    "leg_x = ['6h', '24h', '48h']\n",
    "leg_y = ['NT', 'GDF', 'FGF-GDF']\n",
    "name  = f'{modality}_{chan_f}_{meth}'\n",
    "\n",
    "lines = len(leg_y)\n",
    "cols  = len(leg_x)\n",
    "\n",
    "print([Path(el).stem for el in batch_fish])\n",
    "batch_plot         = [(0,0), (0,1), (0,2), (1,0), (1, 1), (1,2), (2,0), (2,1), (2,2)]             # batch_pot has the same dimension as batch.\n",
    "batch_subselection = [1 if el is not None else 0 for el in batch_plot]          # given the choice made before, we will only plot those files."
   ]
  },
  {
   "cell_type": "code",
   "execution_count": null,
   "metadata": {},
   "outputs": [],
   "source": [
    "folder_path_figures = Path(f\"../Analysis/{batch_name}/Figures\") # create folder for figures (all figures will be stored there)\n",
    "if not folder_path_figures.exists():\n",
    "    folder_path_figures.mkdir(parents=True)"
   ]
  },
  {
   "cell_type": "code",
   "execution_count": null,
   "metadata": {},
   "outputs": [],
   "source": [
    "fig, axes = plt.subplots(3, 3, figsize=(5, 5))\n",
    "for ind, file_name in enumerate(batch_fish):\n",
    "    if batch_subselection[ind]:\n",
    "        file_base    = '_'.join(Path(file_name).stem.split('_')[:-1])\n",
    "        ind_l, ind_c = batch_plot[ind] \n",
    "        pts.plot_hist_num_dots_nuclei(dic_masks_cell_stats[file_base]['counts'].to_numpy(), fig, axes, ind_l, ind_c,\n",
    "                                    leg_x, leg_y, title='', color=color, bins= 30,\n",
    "                                    struct='cell', shape=(3,3))\n",
    "    \n",
    "    \n",
    "fig.tight_layout()\n",
    "fig.savefig(Path(f\"../Analysis/{batch_name}/Figures/{batch_name}_num_spots_per_cell_{name}.png\"), bbox_inches=\"tight\")   "
   ]
  },
  {
   "cell_type": "code",
   "execution_count": null,
   "metadata": {},
   "outputs": [],
   "source": [
    "fig, axes = plt.subplots(3, 3, figsize=(5, 5))\n",
    "for ind, file_name in enumerate(batch_fish):\n",
    "    if batch_subselection[ind]:\n",
    "        file_base    = '_'.join(Path(file_name).stem.split('_')[:-1])\n",
    "        ind_l, ind_c = batch_plot[ind]\n",
    "        temp = dict_dots[file_base]['in_cell'].to_numpy()\n",
    "        temp = temp[~np.isnan(temp)]\n",
    "        pts.plot_subcellular_localization(temp, fig, axes, \n",
    "                                          ind_l, ind_c, leg_x, leg_y, color= color, title='',\n",
    "                                          struct = '   number of rna outside or inside the cells' ,shape=(3,3))\n",
    "    \n",
    "fig.tight_layout()\n",
    "fig.savefig(Path(f\"../Analysis/{batch_name}/Figures/{batch_name}_spots_in_cells_{name}.png\"), bbox_inches=\"tight\")   "
   ]
  },
  {
   "cell_type": "code",
   "execution_count": null,
   "metadata": {},
   "outputs": [],
   "source": [
    "fig, axes = plt.subplots(3, 3, figsize=(5, 5))\n",
    "for ind, file_name in enumerate(batch_fish):\n",
    "    if batch_subselection[ind]:\n",
    "        file_base    = '_'.join(Path(file_name).stem.split('_')[:-1])\n",
    "        ind_l, ind_c = batch_plot[ind]\n",
    "        temp = dict_dots[file_base]['in_nuclei'].to_numpy()\n",
    "        temp = temp[~np.isnan(temp)]\n",
    "        pts.plot_subcellular_localization(temp, fig, axes, \n",
    "                                          ind_l, ind_c, leg_x, leg_y, color= color, title='',\n",
    "                                          struct = ' #rna, subcellular distribution',shape=(3,3))    \n",
    "\n",
    "   \n",
    "fig.tight_layout()\n",
    "fig.savefig(Path(f\"../Analysis/{batch_name}/Figures/{batch_name}_subcellular_dist_{name}.png\"), bbox_inches=\"tight\")  "
   ]
  },
  {
   "cell_type": "code",
   "execution_count": null,
   "metadata": {},
   "outputs": [],
   "source": [
    "names_short = ['PI', 'DI', 'PDI']\n",
    "y_max = 2\n",
    "\n",
    "fig_ind, ax = plt.subplots(3,3,figsize=(9,6))\n",
    "for ind, file_name in enumerate(batch_fish):\n",
    "    if batch_subselection[ind]:\n",
    "        file_base    = '_'.join(Path(file_name).stem.split('_')[:-1])\n",
    "        ind_l, ind_c = batch_plot[ind]\n",
    "\n",
    "        temp = dic_masks_cell_stats[file_base]['pol_ind'].to_numpy()\n",
    "        pi   = temp[~ np.isnan(temp)]\n",
    "        temp = dic_masks_cell_stats[file_base]['disp_ind'].to_numpy()\n",
    "        di   = temp[~ np.isnan(temp)]\n",
    "        temp = dic_masks_cell_stats[file_base]['per_dist_ind'].to_numpy()\n",
    "        pdi  = temp[~ np.isnan(temp)]\n",
    "        \n",
    "        indexes = []\n",
    "        indexes.append(pi)\n",
    "        indexes.append(di)\n",
    "        indexes.append(pdi)\n",
    "\n",
    "        violinplot = ax[ind_l,ind_c].violinplot(indexes, showmedians=True, showextrema=False)\n",
    "\n",
    "        for i, group in enumerate(indexes):\n",
    "            x_coords = np.ones_like(group) * (i + 1) + np.random.normal(0, 0.01, size=len(group))\n",
    "            for ind in range(len(x_coords)):\n",
    "                ax[ind_l,ind_c].plot(x_coords[ind], group[ind], color=color, marker='.', markersize = 1)\n",
    "\n",
    "            ax[ind_l,ind_c].set_xticks(np.arange(1, len(indexes)+1 ))\n",
    "            ax[ind_l,ind_c].set_xticklabels(names_short, rotation=60)\n",
    "            ax[ind_l,ind_c].set_ylim([0, y_max])\n",
    "            ax[ind_l,ind_c].set_xlabel(leg_x[ind_c])\n",
    "\n",
    "    \n",
    "fig_ind.tight_layout()\n",
    "fig_ind.savefig(Path(f\"../Analysis/{batch_name}/Figures/{batch_name}_spatial_dist_indexes_{name}.png\"), bbox_inches=\"tight\")"
   ]
  },
  {
   "cell_type": "markdown",
   "metadata": {},
   "source": [
    "#### Visual QC"
   ]
  },
  {
   "cell_type": "code",
   "execution_count": null,
   "metadata": {},
   "outputs": [],
   "source": [
    "mask_nuc_path     = constants[f'MASK_{modality}_DAPI_{struc_nuc}_CLEANED_LIST_PATH']         \n",
    "mask_cell_path    = constants[f'MASK_{modality}_DAPI_{struc_cell}_CLEANED_LIST_PATH']\n",
    "\n",
    "dict_mask_nuc_m   = fp.load_masks_distributed_files(mask_nuc_path)\n",
    "dict_mask_cells_m = fp.load_masks_distributed_files(mask_cell_path)\n",
    "\n",
    "dots_path         = constants[f'DOTS_{meth}_{modality}_{chan_f}_PATH']\n",
    "dict_dots         = fp.load_spots_distributed_files(dots_path, constants['SPOTS_FORMAT'])"
   ]
  },
  {
   "cell_type": "markdown",
   "metadata": {},
   "source": [
    "SELECT DAPI, to get the MIP"
   ]
  },
  {
   "cell_type": "code",
   "execution_count": null,
   "metadata": {},
   "outputs": [],
   "source": [
    "channels_cell = constants['CHANNELS'] \n",
    "dropdown10    = widgets.Dropdown(options=channels_cell, description='Select:', layout=widgets.Layout(width='auto', min_width='150px'))\n",
    "display(dropdown10)"
   ]
  },
  {
   "cell_type": "code",
   "execution_count": null,
   "metadata": {},
   "outputs": [],
   "source": [
    "n10            = np.where(np.array(channels_cell) == dropdown10.value)[0][0]\n",
    "chan_d         = channels_cell[n10]; print(chan_d)\n",
    "batch_dapi_mip = constants[f'BATCH_{modality}_{chan_d}_{struc_nuc}_MIP']\n",
    "batch_fish     = constants[f'BATCH_{modality}_{chan_f}']"
   ]
  },
  {
   "cell_type": "code",
   "execution_count": null,
   "metadata": {},
   "outputs": [],
   "source": [
    "viewer_sl  = napari.Viewer(title=\"Subcellular location\")\n",
    "counter    = 0\n",
    "for ind, file_name in enumerate(batch_fish):\n",
    "    if batch_subselection[ind]:\n",
    "        file_base    = '_'.join(Path(file_name).stem.split('_')[:-1])\n",
    "    \n",
    "        im_nuc       = io.imread(batch_dapi_mip[ind])\n",
    "        \n",
    "        viewer_sl.add_image(im_nuc, rgb=False, name=f\"DAPI {file_base}\")\n",
    "        cell_layer = viewer_sl.add_labels(dict_mask_cells_m[file_base], name=f\"Cells {file_base}\", opacity=.2, blending='translucent')\n",
    "        nuc_layer  = viewer_sl.add_labels(dict_mask_nuc_m[file_base], name=f\"Nuclei {file_base}\", opacity=.4, blending='translucent')\n",
    "        \n",
    "        spots_2d  = dict_dots[file_base].loc[dict_dots[file_base]['in_mask'], ['Y', 'X']].to_numpy()\n",
    "        \n",
    "        viewer_sl.add_points(spots_2d, name=f\"Spots {file_base}\", size=12, face_color=color);\n",
    "\n",
    "        if counter != 0:\n",
    "            viewer_sl.layers[f\"DAPI {file_base}\"].visible    = False\n",
    "            viewer_sl.layers[f\"Cells {file_base}\"].visible   = False\n",
    "            viewer_sl.layers[f\"Nuclei {file_base}\"].visible  = False\n",
    "            viewer_sl.layers[f\"Spots {file_base}\"].visible   = False \n",
    "        counter +=1"
   ]
  },
  {
   "cell_type": "code",
   "execution_count": null,
   "metadata": {},
   "outputs": [],
   "source": []
  }
 ],
 "metadata": {
  "kernelspec": {
   "display_name": "base_env_apifish",
   "language": "python",
   "name": "base_env_apifish"
  },
  "language_info": {
   "codemirror_mode": {
    "name": "ipython",
    "version": 3
   },
   "file_extension": ".py",
   "mimetype": "text/x-python",
   "name": "python",
   "nbconvert_exporter": "python",
   "pygments_lexer": "ipython3",
   "version": "3.10.16"
  }
 },
 "nbformat": 4,
 "nbformat_minor": 2
}
