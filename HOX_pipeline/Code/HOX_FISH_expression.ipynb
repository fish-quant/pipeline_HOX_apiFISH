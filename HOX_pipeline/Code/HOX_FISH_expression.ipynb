{
 "cells": [
  {
   "cell_type": "markdown",
   "metadata": {},
   "source": [
    "This notebook is about determining a region around which we will taking account of the FISH, we don't want to detect them in regions that are very far away from the cell bodies.\n",
    "\n",
    "- We proceed by applying a morphological dilation of a certain extent around the nuclei.\n",
    "\n",
    "\n",
    "23/05/25     Jacques Bourg @ Florian Muller lab. Institut Pasteur.\n",
    "<img src=\"./HOX_pipeline.png\" alt=\"LNP pipeline\" width=\"1200\" height=\"477\">"
   ]
  },
  {
   "cell_type": "code",
   "execution_count": null,
   "metadata": {},
   "outputs": [],
   "source": [
    "import os\n",
    "import sys\n",
    "import numpy as np\n",
    "from pathlib import Path\n",
    "import skimage.io as io\n",
    "import napari\n",
    "\n",
    "import ipywidgets as widgets\n",
    "from IPython.display import display"
   ]
  },
  {
   "cell_type": "code",
   "execution_count": null,
   "metadata": {},
   "outputs": [],
   "source": [
    "%load_ext autoreload\n",
    "%autoreload 2\n",
    "\n",
    "base_dir = Path(\"../../src\").resolve()\n",
    "sys.path.append(str(base_dir))\n",
    "sys.path.append(str(base_dir / \"utils\"))\n",
    "sys.path.append(str(base_dir / \"detection_fish\"))\n",
    "sys.path.append(str(base_dir / \"segmentation\"))\n",
    "\n",
    "from utils.parameters_tracking import Parameter_tracking as Track\n",
    "from utils.file_handling import FileProcessor\n",
    "from segmentation.refine_seg import Segmentation\n",
    "\n",
    "tk  = Track()\n",
    "sg  = Segmentation()\n",
    "fp  = FileProcessor()"
   ]
  },
  {
   "cell_type": "code",
   "execution_count": null,
   "metadata": {},
   "outputs": [],
   "source": [
    "var = str(Path('../Analysis'))\n",
    "batch_folders = os.listdir(var)\n",
    "dropdown = widgets.Dropdown(options=batch_folders, description='Select:', layout=widgets.Layout(width='auto', min_width='150px'))\n",
    "display(dropdown)"
   ]
  },
  {
   "cell_type": "code",
   "execution_count": null,
   "metadata": {},
   "outputs": [],
   "source": [
    "n         = np.where(np.array(batch_folders) == dropdown.value)[0][0]\n",
    "file_path = str(Path(var) / Path(batch_folders[n]) / Path(batch_folders[n] +'.json'))\n",
    "constants = tk.load_json(file_path)\n",
    "batch_name= constants['BATCH_NAME']; print(batch_name)"
   ]
  },
  {
   "cell_type": "code",
   "execution_count": null,
   "metadata": {},
   "outputs": [],
   "source": [
    "modalities = constants['MODALITIES']\n",
    "dropdown2 = widgets.Dropdown(options=modalities, description='Select:', layout=widgets.Layout(width='auto', min_width='150px'))\n",
    "display(dropdown2)"
   ]
  },
  {
   "cell_type": "code",
   "execution_count": null,
   "metadata": {},
   "outputs": [],
   "source": [
    "n2  = np.where(np.array(modalities) == dropdown2.value)[0][0]\n",
    "modality = modalities[n2]\n",
    "print(modality)"
   ]
  },
  {
   "cell_type": "code",
   "execution_count": null,
   "metadata": {},
   "outputs": [],
   "source": [
    "batch_mip                     = constants[f'BATCH_{modality}_DAPI_NUCLEI_MIP']\n",
    "\n",
    "mask_cells_cleaned_list_path  = constants[f\"MASK_{modality}_DAPI_CELL_CLEANED_LIST_PATH\"]\n",
    "dict_mask_cells_clean         = fp.load_masks_distributed_files(mask_cells_cleaned_list_path)\n",
    "\n",
    "mask_cells_list_path          = constants[f\"MASK_{modality}_DAPI_CELL_LIST_PATH\"]\n",
    "dict_mask_cells               = fp.load_masks_distributed_files(mask_cells_list_path)\n",
    "\n",
    "dict_mask_cells_to_rem_path   = constants[f\"MASK_{modality}_DAPI_NUCLEI_REMOVED_LABELS_LIST_PATH\"]\n",
    "dict_mask_cells_to_rem        = np.load(dict_mask_cells_to_rem_path,allow_pickle=True)[()]"
   ]
  },
  {
   "cell_type": "code",
   "execution_count": null,
   "metadata": {},
   "outputs": [],
   "source": [
    "fish_area_folder    = Path(f\"../Analysis/{batch_name}/{modality}/DAPI/fish_area\")    \n",
    "if not fish_area_folder.exists():\n",
    "    fish_area_folder.mkdir(parents=True)\n",
    "mask_fish_area_path = Path(f\"../Analysis/{batch_name}/{modality}/DAPI/fish_area/{batch_name}_masks_fish_area.npy\")"
   ]
  },
  {
   "cell_type": "markdown",
   "metadata": {},
   "source": [
    "#### AUTOMATIC DILATION (dilating cell masks)"
   ]
  },
  {
   "cell_type": "code",
   "execution_count": null,
   "metadata": {},
   "outputs": [],
   "source": [
    "distance_dilation_fish_area = 40     # dilate the cells ROI by this quantity (in pixels)\n",
    " \n",
    "dict_mask_fish  = {}\n",
    "viewer6  = napari.Viewer(title=\"FISH AREA\")\n",
    "counter  = 0\n",
    "for ind, file in enumerate(batch_mip):\n",
    "    file            = Path(file)\n",
    "    file_name       = str(file.stem)\n",
    "    im              = io.imread(file)\n",
    "    basename        = '_'.join(Path(file).stem.split('_')[:-3])  # the dict key of disk_mask_fish should be the basename (independent of which channel was used to compute the fish area) \n",
    "    \n",
    "    masks_cells_c   = dict_mask_cells_clean[basename]                                                                 \n",
    "    masks_b         = (masks_cells_c>0)*1  # bin masks\n",
    "    masks_fish      = sg.dilate_labels(masks_b, distance=distance_dilation_fish_area)\n",
    "    mask_fish_clean = sg.remove_labels_from_fishmask(masks_fish, dict_mask_cells[basename], dict_mask_cells_to_rem[basename])      # remove from the fish area, the roi of the cells that we discarded before \n",
    "\n",
    "    val             = np.percentile(im, 99)\n",
    "    viewer6.add_image(im, rgb=False, name=f\"MIP  {file_name}\", contrast_limits=[0, val])\n",
    "    fish_layer   = viewer6.add_labels(masks_fish, name=f\"FISH AREA {file_name}\", opacity=.3, blending='translucent')\n",
    "    fish_layer_c = viewer6.add_labels(mask_fish_clean, name=f\"FISH AREA CLEAN {file_name}\", opacity=.3, blending='translucent')\n",
    "\n",
    "    if counter != 0:\n",
    "        viewer6.layers[f\"MIP  {file_name}\"].visible             = False\n",
    "        viewer6.layers[f\"FISH AREA {file_name}\"].visible        = False \n",
    "        viewer6.layers[f\"FISH AREA CLEAN {file_name}\"].visible  = False \n",
    "\n",
    "    counter +=1\n",
    "    dict_mask_fish[basename] = mask_fish_clean\n",
    " \n",
    "fp.save_masks_distributed_files(mask_fish_area_path, dict_mask_fish)"
   ]
  },
  {
   "cell_type": "markdown",
   "metadata": {},
   "source": [
    "##### turn important lower case variables into uppercase for tracking, create those variables names with this content: useful for experiment tracking"
   ]
  },
  {
   "cell_type": "code",
   "execution_count": null,
   "metadata": {},
   "outputs": [],
   "source": [
    "exec(f\"MASK_{modality}_FISH_AREA_PATH = mask_fish_area_path\", globals())\n",
    "exec(f\"DISTANCE_DILATION_{modality}_FISH_AREA = distance_dilation_fish_area\", globals())"
   ]
  },
  {
   "cell_type": "code",
   "execution_count": null,
   "metadata": {},
   "outputs": [],
   "source": [
    "constants2 = tk.collect_constants()\n",
    "tk.save_constants_and_commit_hash(constants2, batch_name, folder_path = Path(f\"../Analysis/{batch_name}\"))"
   ]
  },
  {
   "cell_type": "code",
   "execution_count": null,
   "metadata": {},
   "outputs": [],
   "source": []
  }
 ],
 "metadata": {
  "kernelspec": {
   "display_name": "base_env_apifish",
   "language": "python",
   "name": "python3"
  },
  "language_info": {
   "codemirror_mode": {
    "name": "ipython",
    "version": 3
   },
   "file_extension": ".py",
   "mimetype": "text/x-python",
   "name": "python",
   "nbconvert_exporter": "python",
   "pygments_lexer": "ipython3",
   "version": "3.9.0"
  }
 },
 "nbformat": 4,
 "nbformat_minor": 2
}
