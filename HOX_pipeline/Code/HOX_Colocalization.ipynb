{
 "cells": [
  {
   "cell_type": "markdown",
   "metadata": {},
   "source": [
    "In here we characterize the colocalization of two genes in two different forms: \n",
    "    \n",
    "    *   A boolean variable is equal to True when two genes are expressed in the same cell.\n",
    "    *   At a given distance, two genes colocalize if their distance is smaller than the threshold.  We plot the rate as a function of the distance. \n",
    "    \n",
    "    \n",
    "23/04/25     Jacques Bourg @ Florian Muller lab. Institut Pasteur.\n",
    "\n",
    "<img src=\"./HOX_pipeline.png\" alt=\"LNP pipeline\" width=\"1200\" height=\"477\">"
   ]
  },
  {
   "cell_type": "code",
   "execution_count": 1,
   "metadata": {},
   "outputs": [],
   "source": [
    "import os\n",
    "import sys\n",
    "import numpy as np\n",
    "from pathlib import Path\n",
    "import matplotlib.pyplot as plt\n",
    "import skimage.io as io\n",
    "import napari\n",
    "\n",
    "import ipywidgets as widgets\n",
    "from IPython.display import display"
   ]
  },
  {
   "cell_type": "code",
   "execution_count": 2,
   "metadata": {},
   "outputs": [],
   "source": [
    "%load_ext autoreload\n",
    "%autoreload 2\n",
    "\n",
    "base_dir = Path(\"../../src\").resolve()\n",
    "sys.path.append(str(base_dir))\n",
    "sys.path.append(str(base_dir / \"utils\"))\n",
    "sys.path.append(str(base_dir / \"detection_fish\"))\n",
    "sys.path.append(str(base_dir / \"segmentation\"))\n",
    "sys.path.append(str(base_dir / \"synthesis\"))\n",
    "\n",
    "from utils.parameters_tracking import Parameter_tracking as Track\n",
    "from utils.plots import Plots\n",
    "from utils.file_handling import FileProcessor\n",
    "from segmentation.refine_seg import Segmentation\n",
    "from synthesis.synthesize import Synthesis\n",
    "\n",
    "tk  = Track()\n",
    "sg  = Segmentation()\n",
    "pt  = Plots()\n",
    "st  = Synthesis()\n",
    "fp  = FileProcessor()"
   ]
  },
  {
   "cell_type": "code",
   "execution_count": 3,
   "metadata": {},
   "outputs": [
    {
     "data": {
      "application/vnd.jupyter.widget-view+json": {
       "model_id": "13035ebe1c4b457288be9e3c3de073a1",
       "version_major": 2,
       "version_minor": 0
      },
      "text/plain": [
       "Dropdown(description='Select:', layout=Layout(min_width='150px', width='auto'), options=('2024-11-18_Helena-Ho…"
      ]
     },
     "metadata": {},
     "output_type": "display_data"
    }
   ],
   "source": [
    "var = str(Path('../Analysis'))\n",
    "batch_folders = os.listdir(var)\n",
    "dropdown = widgets.Dropdown(options=batch_folders, description='Select:', layout=widgets.Layout(width='auto', min_width='150px')); display(dropdown)"
   ]
  },
  {
   "cell_type": "code",
   "execution_count": 4,
   "metadata": {},
   "outputs": [],
   "source": [
    "n         = np.where(np.array(batch_folders) == dropdown.value)[0][0]\n",
    "file_path = str(Path(var) / Path(batch_folders[n]) / Path(batch_folders[n] +'.json'))\n",
    "constants = tk.load_json(file_path)\n",
    "batch_name= constants['BATCH_NAME']"
   ]
  },
  {
   "cell_type": "code",
   "execution_count": 5,
   "metadata": {},
   "outputs": [
    {
     "data": {
      "application/vnd.jupyter.widget-view+json": {
       "model_id": "5cea4d20e4894eb3b0c1b3335a8e40ec",
       "version_major": 2,
       "version_minor": 0
      },
      "text/plain": [
       "Dropdown(description='Select:', layout=Layout(min_width='150px', width='auto'), options=('EXPERIMENT', 'CONTRO…"
      ]
     },
     "metadata": {},
     "output_type": "display_data"
    }
   ],
   "source": [
    "modalities = constants['MODALITIES']\n",
    "dropdown2 = widgets.Dropdown(options=modalities, description='Select:', layout=widgets.Layout(width='auto', min_width='150px'))\n",
    "display(dropdown2)"
   ]
  },
  {
   "cell_type": "code",
   "execution_count": 6,
   "metadata": {},
   "outputs": [
    {
     "name": "stdout",
     "output_type": "stream",
     "text": [
      "EXPERIMENT\n"
     ]
    }
   ],
   "source": [
    "n2       = np.where(np.array(modalities) == dropdown2.value)[0][0]\n",
    "modality = modalities[n2]; print(modality)"
   ]
  },
  {
   "cell_type": "code",
   "execution_count": 7,
   "metadata": {},
   "outputs": [
    {
     "data": {
      "application/vnd.jupyter.widget-view+json": {
       "model_id": "6b4158e43b3e4363b2f86e4d5e1e1851",
       "version_major": 2,
       "version_minor": 0
      },
      "text/plain": [
       "Dropdown(description='Select:', layout=Layout(min_width='150px', width='auto'), options=('UFISH', 'BIGFISH'), …"
      ]
     },
     "metadata": {},
     "output_type": "display_data"
    }
   ],
   "source": [
    "detection_methods = ['UFISH','BIGFISH']\n",
    "dropdown8         = widgets.Dropdown(options=detection_methods, description='Select:', layout=widgets.Layout(width='auto', min_width='150px'))\n",
    "display(dropdown8)"
   ]
  },
  {
   "cell_type": "code",
   "execution_count": 8,
   "metadata": {},
   "outputs": [
    {
     "name": "stdout",
     "output_type": "stream",
     "text": [
      "UFISH\n"
     ]
    }
   ],
   "source": [
    "n8    = np.where(np.array(detection_methods) == dropdown8.value)[0][0]\n",
    "meth  = detection_methods[n8]; print(meth)"
   ]
  },
  {
   "cell_type": "markdown",
   "metadata": {},
   "source": [
    "Select the first gene:"
   ]
  },
  {
   "cell_type": "code",
   "execution_count": 9,
   "metadata": {},
   "outputs": [
    {
     "data": {
      "application/vnd.jupyter.widget-view+json": {
       "model_id": "89760370fc3e410ea294dbb83b0c85b3",
       "version_major": 2,
       "version_minor": 0
      },
      "text/plain": [
       "Dropdown(description='Select:', layout=Layout(min_width='150px', width='auto'), options=('DAPI', 'HOXC8', 'HOX…"
      ]
     },
     "metadata": {},
     "output_type": "display_data"
    }
   ],
   "source": [
    "channels_cell = constants['CHANNELS'] # DAPI doesn't make sense\n",
    "dropdown3     = widgets.Dropdown(options=channels_cell, description='Select:', layout=widgets.Layout(width='auto', min_width='150px')); display(dropdown3)"
   ]
  },
  {
   "cell_type": "code",
   "execution_count": 10,
   "metadata": {},
   "outputs": [
    {
     "name": "stdout",
     "output_type": "stream",
     "text": [
      "HOXC8\n",
      "green\n"
     ]
    }
   ],
   "source": [
    "n3           = np.where(np.array(channels_cell) == dropdown3.value)[0][0]\n",
    "chan_g1      = channels_cell[n3]; print(chan_g1)\n",
    "\n",
    "col_channels = constants['COLORS']  # associated color to this channel\n",
    "color_g1     = col_channels[n3]; print(color_g1)"
   ]
  },
  {
   "cell_type": "markdown",
   "metadata": {},
   "source": [
    "Select the second gene:"
   ]
  },
  {
   "cell_type": "code",
   "execution_count": 11,
   "metadata": {},
   "outputs": [
    {
     "data": {
      "application/vnd.jupyter.widget-view+json": {
       "model_id": "22a29095a0954ded8334ee5024acf46c",
       "version_major": 2,
       "version_minor": 0
      },
      "text/plain": [
       "Dropdown(description='Select:', layout=Layout(min_width='150px', width='auto'), options=('DAPI', 'HOXC8', 'HOX…"
      ]
     },
     "metadata": {},
     "output_type": "display_data"
    }
   ],
   "source": [
    "channels_cell = constants['CHANNELS'] # DAPI doesn't make sense\n",
    "dropdown4 = widgets.Dropdown(options=channels_cell, description='Select:', layout=widgets.Layout(width='auto', min_width='150px'));\n",
    "display(dropdown4)"
   ]
  },
  {
   "cell_type": "code",
   "execution_count": 12,
   "metadata": {},
   "outputs": [
    {
     "name": "stdout",
     "output_type": "stream",
     "text": [
      "HOXA10\n",
      "red\n"
     ]
    }
   ],
   "source": [
    "n4      = np.where(np.array(channels_cell) == dropdown4.value)[0][0]\n",
    "chan_g2 = channels_cell[n4]; print(chan_g2)\n",
    "\n",
    "col_channels = constants['COLORS']  # associated color to this channel\n",
    "color_g2 = col_channels[n4]; print(color_g2)"
   ]
  },
  {
   "cell_type": "code",
   "execution_count": 13,
   "metadata": {},
   "outputs": [],
   "source": [
    "dots_path     = constants[f'DOTS_{meth}_{modality}_{chan_g1}_PATH']\n",
    "dict_dots_g1  = fp.load_spots_distributed_files(dots_path, constants['SPOTS_FORMAT'])\n",
    "\n",
    "dots_path     = constants[f'DOTS_{meth}_{modality}_{chan_g2}_PATH']\n",
    "dict_dots_g2  = fp.load_spots_distributed_files(dots_path, constants['SPOTS_FORMAT'])"
   ]
  },
  {
   "cell_type": "code",
   "execution_count": 14,
   "metadata": {},
   "outputs": [],
   "source": [
    "struc_cell              = 'CELL'\n",
    "file_add_mask_stats_g1  = constants[f\"MASK_{modality}_{struc_cell}_STATS_{meth}_{chan_g1}_LIST_PATH\"]\n",
    "dic_masks_cell_stats_g1 = fp.load_pd_distributed_files(file_add_mask_stats_g1)\n",
    "\n",
    "file_add_mask_stats_g2  = constants[f\"MASK_{modality}_{struc_cell}_STATS_{meth}_{chan_g2}_LIST_PATH\"]\n",
    "dic_masks_cell_stats_g2 = fp.load_pd_distributed_files(file_add_mask_stats_g2)\n",
    "\n",
    "mask_cell_path          = constants[f'MASK_{modality}_DAPI_{struc_cell}_CLEANED_LIST_PATH']\n",
    "dict_mask_cells_m       = fp.load_masks_distributed_files(mask_cell_path)"
   ]
  },
  {
   "cell_type": "code",
   "execution_count": 15,
   "metadata": {},
   "outputs": [],
   "source": [
    "name_gene1 = chan_g1\n",
    "name_gene2 = chan_g2\n",
    "\n",
    "list_keys = list(np.load(constants[f'MASK_{modality}_DAPI_NUCLEI_CLEANED_LIST_PATH'], allow_pickle=True)[()].keys())\n",
    "\n",
    "for base_file_name in list_keys:\n",
    "    df_stats = st.binary_colocalization(dict_dots_g1[base_file_name], dict_dots_g2[base_file_name], name_gene1, name_gene2, dic_masks_cell_stats_g1[base_file_name])\n",
    "    dic_masks_cell_stats_g1[base_file_name] = df_stats\n",
    "\n",
    "    df_stats = st.binary_colocalization(dict_dots_g1[base_file_name], dict_dots_g2[base_file_name], name_gene1, name_gene2, dic_masks_cell_stats_g2[base_file_name])\n",
    "    dic_masks_cell_stats_g2[base_file_name] = df_stats\n",
    "\n",
    "fp.save_masks_stats_distributed_files_modif(file_add_mask_stats_g1, dic_masks_cell_stats_g1)\n",
    "fp.save_masks_stats_distributed_files_modif(file_add_mask_stats_g2, dic_masks_cell_stats_g2)"
   ]
  },
  {
   "cell_type": "markdown",
   "metadata": {},
   "source": [
    "#### Manual step      (WARNING: Manual input required)\n",
    "Organize your batch in rows and columns: rows can be conditions, and columns time or rows can be repetitions and columns conditions\n",
    "store as (line, column) for each element of the batch. Put None in case you don't want to display it. \n",
    "For instance if your batch files is ['file_control0', 'file_control1', 'file_control2', 'file_rep1_c1', 'file_rep2_c1', 'file_rep1_c2', 'file_rep2_c2'] and you want to organize your \n",
    "display as:\n",
    "\n",
    "|          | Concentration 1 | Concentration 2 |\n",
    "|----------|----------|----------|\n",
    "| **Rep 1**| R1, C1   | R1, C2   | \n",
    "| **Rep 2**| R2, C1   | R2, C2   |\n",
    "\n",
    "\n",
    "Then, insert the coordinates, in the following way,  do for a batch of experiments like:\n",
    "\n",
    "batch      = [`Exp to discard`, `Exp to discard`, `Exp to discard`, `R1,C1`, `R2,C1`,`R1,C2`,  `R2,C2` ]\n",
    "\n",
    "batch_plot = [`None` &nbsp;&nbsp;&nbsp;&nbsp;&nbsp;&nbsp;&nbsp;&nbsp;&nbsp;&nbsp;&nbsp;,  `None`&nbsp;&nbsp;&nbsp;&nbsp;&nbsp;&nbsp;&nbsp;&nbsp;&nbsp;&nbsp;&nbsp;,  `None `&nbsp;&nbsp;&nbsp;&nbsp;&nbsp;&nbsp;&nbsp;&nbsp;&nbsp;&nbsp;&nbsp;,`(0,0) `,`(1,0) `,`(0,1) `,`(1,1)`]"
   ]
  },
  {
   "cell_type": "code",
   "execution_count": 16,
   "metadata": {},
   "outputs": [],
   "source": [
    "batch_fish_g1 = constants[f'BATCH_{modality}_{chan_g1}']     # constants[f'BATCH_{modality}_{chan_g1}']\n",
    "\n",
    "leg_x = ['6h', '24h', '48h']\n",
    "leg_y = ['NT', 'GDF', 'FGF-GDF']\n",
    "\n",
    "lines = len(leg_y)\n",
    "cols  = len(leg_x)\n",
    "\n",
    "batch_plot         = [(0,0), (0,1), (0,2), (1,0), (1, 1), (1,2), (2,0), (2,1), (2,2)]             # batch_pot has the same dimension as batch.\n",
    "batch_subselection = [1 if el is not None else 0 for el in batch_plot]          # given the choice made before, we will only plot those files."
   ]
  },
  {
   "cell_type": "code",
   "execution_count": 17,
   "metadata": {},
   "outputs": [
    {
     "data": {
      "image/png": "[encoded data removed]",
      "text/plain": [
       "<Figure size 500x500 with 9 Axes>"
      ]
     },
     "metadata": {},
     "output_type": "display_data"
    }
   ],
   "source": [
    "name_coloc  = 'coloc' + '_' + name_gene1 + '_' + name_gene2\n",
    "name  = f'{modality}_{meth}_{name_gene1}_{name_gene2}'\n",
    "\n",
    "file_add_mask_stats_g2  = constants[f\"MASK_{modality}_{struc_cell}_STATS_{meth}_{chan_g2}_LIST_PATH\"]\n",
    "dic_masks_cell_stats_g2 = fp.load_pd_distributed_files(file_add_mask_stats_g2)\n",
    "\n",
    "\n",
    "fig, axes = plt.subplots(3, 3, figsize=(5, 5))\n",
    "for ind, file_name in enumerate(batch_fish_g1):\n",
    "    if batch_subselection[ind]:\n",
    "        file_base    = '_'.join(Path(file_name).stem.split('_')[:-1])\n",
    "        ind_l, ind_c = batch_plot[ind] \n",
    "        \n",
    "        count_ones  = np.sum(dic_masks_cell_stats_g2[file_base][name_coloc].values*1 == 1)\n",
    "        count_zeros = np.sum(dic_masks_cell_stats_g2[file_base][name_coloc].values*1 == 0)\n",
    "        \n",
    "        axes[ind_l, ind_c].bar([0, 1], [count_zeros, count_ones], tick_label=['False', 'True'])\n",
    "        axes[ind_l, ind_c].set_xlabel(leg_x[ind_c])\n",
    "        axes[ind_l, ind_c].set_ylabel(leg_y[ind_l])\n",
    "        if ind_l == 0 and ind_c ==0:\n",
    "            axes[ind_l, ind_c].set_title(f'{name_coloc}')\n",
    " \n",
    "fig.tight_layout()\n",
    "fig.savefig(Path(f\"../Analysis/{batch_name}/Figures/{batch_name}_bin_coloc_{name}.png\"), bbox_inches=\"tight\")  "
   ]
  },
  {
   "cell_type": "code",
   "execution_count": 21,
   "metadata": {},
   "outputs": [
    {
     "data": {
      "image/png": "[encoded data removed]",
      "text/plain": [
       "<Figure size 500x500 with 9 Axes>"
      ]
     },
     "metadata": {},
     "output_type": "display_data"
    }
   ],
   "source": [
    "d_inter   = np.arange(1, 30)                    # colocalization distances\n",
    "\n",
    "fig, axes = plt.subplots(3, 3, figsize=(5, 5))\n",
    "for ind, file_name in enumerate(batch_fish_g1):\n",
    "    if batch_subselection[ind]:\n",
    "        file_base    = '_'.join(Path(file_name).stem.split('_')[:-1])\n",
    "        ind_l, ind_c = batch_plot[ind]\n",
    "        \n",
    "        df1 = dict_dots_g1[file_base]\n",
    "        spots_filt_g1 = df1[df1['in_mask'] == True][['Y','X']].to_numpy()\n",
    "\n",
    "        df2 = dict_dots_g2[file_base]\n",
    "        spots_filt_g2 = df2[df2['in_mask'] == True][['Y','X']].to_numpy()\n",
    "        \n",
    "        coloc_f_z_g1 = np.zeros_like(d_inter)\n",
    "        coloc_f_z_g2 = np.zeros_like(d_inter)\n",
    "\n",
    "        for ind, d in enumerate(d_inter):    \n",
    "            list_gene1_only, list_gene2_only, list_gene1_gene2 = st.colocalization_analysis(spots_filt_g1, spots_filt_g2, thresh_dist=d)\n",
    "            coloc_f_z_g1[ind] = 100*len(list_gene1_gene2)/(len(list_gene1_only) + len(list_gene1_gene2))\n",
    "            coloc_f_z_g2[ind] = 100*len(list_gene1_gene2)/(len(list_gene2_only) + len(list_gene1_gene2))\n",
    "\n",
    "        axes[ind_l, ind_c].plot(d_inter, coloc_f_z_g1, color= color_g1)\n",
    "        axes[ind_l, ind_c].plot(d_inter, coloc_f_z_g2, color= color_g2)\n",
    "\n",
    "        axes[ind_l, ind_c].set_xlabel(leg_x[ind_c])\n",
    "        axes[ind_l, ind_c].set_ylabel(leg_y[ind_l])\n",
    "        if ind_l == 0 and ind_c ==0:\n",
    "            axes[ind_l, ind_c].set_title(f' % coloc f(d), d in pixels {name_gene1}  {name_gene2}')\n",
    "            \n",
    "fig.tight_layout()\n",
    "fig.savefig(Path(f\"../Analysis/{batch_name}/Figures/{batch_name}_coloc_f_d_{name}.png\"), bbox_inches=\"tight\")         "
   ]
  },
  {
   "cell_type": "code",
   "execution_count": 28,
   "metadata": {},
   "outputs": [],
   "source": [
    "# QC"
   ]
  },
  {
   "cell_type": "code",
   "execution_count": 22,
   "metadata": {},
   "outputs": [],
   "source": [
    "mask_cell_path       = constants[f'MASK_{modality}_DAPI_{struc_cell}_CLEANED_LIST_PATH']   \n",
    "\n",
    "dict_mask_cells_m    = fp.load_masks_distributed_files(mask_cell_path)  \n",
    "\n",
    "view_coloc = napari.Viewer()\n",
    "counter    = 0\n",
    "\n",
    "for ind, file_name in enumerate(batch_fish_g1):\n",
    "    if batch_subselection[ind]:\n",
    "        file_base    = '_'.join(Path(file_name).stem.split('_')[:-1])\n",
    "        ind_l, ind_c = batch_plot[ind]\n",
    "        \n",
    "        df1 = dict_dots_g1[file_base]\n",
    "        spots_filt_g1 = df1[df1['in_mask'] == True][['Y','X']].to_numpy()\n",
    "\n",
    "        df2 = dict_dots_g2[file_base]\n",
    "        spots_filt_g2 = df2[df2['in_mask'] == True][['Y','X']].to_numpy()\n",
    "\n",
    "        cell_layer = view_coloc.add_labels(dict_mask_cells_m[file_base], name=f\"Cells {file_base}\", opacity=.2, blending='translucent')\n",
    "         \n",
    "        view_coloc.add_points(spots_filt_g1, name=f\"Spots gene {chan_g1} {file_base}\", size=12, face_color=color_g1);\n",
    "        view_coloc.add_points(spots_filt_g2, name=f\"Spots gene {chan_g2} {file_base}\", size=12, face_color=color_g2);\n",
    "\n",
    "        if counter !=0:\n",
    "            view_coloc.layers[f\"Cells {file_base}\"].visible                = False\n",
    "            view_coloc.layers[f\"Spots gene {chan_g1} {file_base}\"].visible = False\n",
    "            view_coloc.layers[f\"Spots gene {chan_g2} {file_base}\"].visible = False    \n",
    "        counter = counter + 1"
   ]
  },
  {
   "cell_type": "code",
   "execution_count": null,
   "metadata": {},
   "outputs": [],
   "source": []
  }
 ],
 "metadata": {
  "kernelspec": {
   "display_name": "base_env_apifish",
   "language": "python",
   "name": "python3"
  },
  "language_info": {
   "codemirror_mode": {
    "name": "ipython",
    "version": 3
   },
   "file_extension": ".py",
   "mimetype": "text/x-python",
   "name": "python",
   "nbconvert_exporter": "python",
   "pygments_lexer": "ipython3",
   "version": "3.9.0"
  }
 },
 "nbformat": 4,
 "nbformat_minor": 2
}
