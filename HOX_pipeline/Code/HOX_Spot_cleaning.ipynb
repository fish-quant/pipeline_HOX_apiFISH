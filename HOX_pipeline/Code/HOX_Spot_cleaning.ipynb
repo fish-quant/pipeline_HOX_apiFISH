{
 "cells": [
  {
   "cell_type": "markdown",
   "metadata": {},
   "source": [
    "Code to clean the spots: retain only the spots which are on the \"fish area\", ie in a neighboorhood of the cells. \n",
    "If you have two genes, run this notebook twice.\n",
    "\n",
    "23/04/25     Jacques Bourg @ Florian Muller lab. Institut Pasteur.\n",
    "\n",
    "<img src=\"./HOX_pipeline.png\" alt=\"LNP pipeline\" width=\"1200\" height=\"483\">"
   ]
  },
  {
   "cell_type": "code",
   "execution_count": null,
   "metadata": {},
   "outputs": [],
   "source": [
    "import os\n",
    "import sys\n",
    "import numpy as np\n",
    "from pathlib import Path\n",
    "import skimage.io as io\n",
    "import napari\n",
    "import ipywidgets as widgets\n",
    "from IPython.display import display"
   ]
  },
  {
   "cell_type": "code",
   "execution_count": null,
   "metadata": {},
   "outputs": [],
   "source": [
    "%load_ext autoreload\n",
    "%autoreload 2\n",
    "\n",
    "base_dir = Path(\"../../src\").resolve()\n",
    "sys.path.append(str(base_dir))\n",
    "sys.path.append(str(base_dir / \"utils\"))\n",
    "sys.path.append(str(base_dir / \"segmentation\"))\n",
    "\n",
    "from utils.parameters_tracking import Parameter_tracking as Track\n",
    "from utils.file_handling import FileProcessor\n",
    "from segmentation.refine_seg import Segmentation\n",
    "\n",
    "tk  = Track()\n",
    "sg  = Segmentation()\n",
    "fp  = FileProcessor()"
   ]
  },
  {
   "cell_type": "code",
   "execution_count": null,
   "metadata": {},
   "outputs": [],
   "source": [
    "var = str(Path('../Analysis'))\n",
    "batch_folders = os.listdir(var)\n",
    "dropdown = widgets.Dropdown(options=batch_folders, description='Select:', layout=widgets.Layout(width='auto', min_width='150px'))\n",
    "display(dropdown)"
   ]
  },
  {
   "cell_type": "code",
   "execution_count": null,
   "metadata": {},
   "outputs": [],
   "source": [
    "n         = np.where(np.array(batch_folders) == dropdown.value)[0][0] \n",
    "file_path = str(Path(var) / Path(batch_folders[n]) / Path(batch_folders[n] +'.json'))\n",
    "constants = tk.load_json(file_path)\n",
    "batch_name= constants['BATCH_NAME']; print(batch_name)"
   ]
  },
  {
   "cell_type": "code",
   "execution_count": null,
   "metadata": {},
   "outputs": [],
   "source": [
    "modalities = constants['MODALITIES']\n",
    "dropdown2 = widgets.Dropdown(options=modalities, description='Select:', layout=widgets.Layout(width='auto', min_width='150px'))\n",
    "display(dropdown2)"
   ]
  },
  {
   "cell_type": "code",
   "execution_count": null,
   "metadata": {},
   "outputs": [],
   "source": [
    "n2  = np.where(np.array(modalities) == dropdown2.value)[0][0] \n",
    "modality = modalities[n2]; print(modality)"
   ]
  },
  {
   "cell_type": "code",
   "execution_count": null,
   "metadata": {},
   "outputs": [],
   "source": [
    "channel_cell = constants['CHANNELS'] # DAPI doesn't make sense\n",
    "dropdown3 = widgets.Dropdown(options=channel_cell, description='Select:', layout=widgets.Layout(width='auto', min_width='150px'))\n",
    "display(dropdown3)"
   ]
  },
  {
   "cell_type": "code",
   "execution_count": null,
   "metadata": {},
   "outputs": [],
   "source": [
    "n3     = np.where(np.array(channel_cell) == dropdown3.value)[0][0]\n",
    "chan_c = channel_cell[n3]; print(chan_c)"
   ]
  },
  {
   "cell_type": "code",
   "execution_count": null,
   "metadata": {},
   "outputs": [],
   "source": [
    "methods = ['UFISH','BIGFISH']  \n",
    "dropdown4 = widgets.Dropdown(options=methods, description='Select:', layout=widgets.Layout(width='auto', min_width='150px'))\n",
    "display(dropdown4)"
   ]
  },
  {
   "cell_type": "code",
   "execution_count": null,
   "metadata": {},
   "outputs": [],
   "source": [
    "n4   = np.where(np.array(methods) == dropdown4.value)[0][0]\n",
    "meth = methods[n4]; print(meth)"
   ]
  },
  {
   "cell_type": "code",
   "execution_count": null,
   "metadata": {},
   "outputs": [],
   "source": [
    "batch_mod_fish_mip   = constants[f'BATCH_{modality}_DAPI_NUCLEI_MIP']\n",
    "mask_fish_area_path  = constants[f'MASK_{modality}_FISH_AREA_PATH']\n",
    "spots_folder         = constants[f'SPOTS_FOLDER_{modality}_{chan_c}_PATH']\n",
    "dots_path            = constants[f'DOTS_{meth}_{modality}_{chan_c}_PATH']"
   ]
  },
  {
   "cell_type": "code",
   "execution_count": null,
   "metadata": {},
   "outputs": [],
   "source": [
    "spots_dict     = fp.load_spots_distributed_files(dots_path, constants['SPOTS_FORMAT'])\n",
    "fish_area_dict = fp.load_masks_distributed_files(mask_fish_area_path)"
   ]
  },
  {
   "cell_type": "code",
   "execution_count": null,
   "metadata": {},
   "outputs": [],
   "source": [
    "viewer8  = napari.Viewer(title=\"FISH Spots cleaning\")\n",
    "counter  = 0\n",
    "\n",
    "for ind, file in enumerate(batch_mod_fish_mip):\n",
    "\n",
    "    file                  = Path(file)\n",
    "    file_name             = str(file.stem)\n",
    "    base_name             = '_'.join(Path(file).stem.split('_')[:-3])\n",
    "    \n",
    "    df_spots              = spots_dict[base_name]\n",
    "    mask_fish             = fish_area_dict[base_name]\n",
    "     \n",
    "    df_spots              = sg.add_column_in_mask_fish(df_spots, mask_fish)\n",
    "    spots_dict[base_name] = df_spots \n",
    "\n",
    "    spots_raw_2d          = df_spots[['Y','X']].to_numpy()\n",
    "    spots_clean_2d        = df_spots[df_spots['in_mask'] == 1][['Y', 'X']].to_numpy()\n",
    "        \n",
    "    im                    = io.imread(file)    \n",
    "    viewer8.add_image(im, contrast_limits=[0, np.percentile(im, 99)], rgb=False, name=f\"FISH {file_name}\", opacity=0.8)\n",
    "    viewer8.add_labels(mask_fish, name=f\"FISH AREA {file_name}\", opacity=.3, blending='translucent')\n",
    "    viewer8.add_points(spots_raw_2d, name=f\"Spots  {file_name}\", size=4, face_color='red')\n",
    "    viewer8.add_points(spots_clean_2d, name=f\"Spots cleaned{file_name}\", size=7, border_color='#00FF00', face_color=[0, 0, 0, 0])\n",
    " \n",
    "    if counter != 0:\n",
    "        viewer8.layers[f\"FISH {file_name}\"].visible   = False\n",
    "        viewer8.layers[f\"FISH AREA {file_name}\"].visible = False\n",
    "        viewer8.layers[f\"Spots  {file_name}\"].visible = False \n",
    "        viewer8.layers[f\"Spots cleaned{file_name}\"].visible = False \n",
    "    \n",
    "    counter = counter + 1\n",
    " \n",
    "fp.save_spots_distributed_files(dots_path, constants['SPOTS_FORMAT'], spots_dict, im.ndim)"
   ]
  },
  {
   "cell_type": "markdown",
   "metadata": {},
   "source": [
    "##### Save parameters"
   ]
  },
  {
   "cell_type": "code",
   "execution_count": null,
   "metadata": {},
   "outputs": [],
   "source": [
    "constants2 = tk.collect_constants()\n",
    "tk.save_constants_and_commit_hash(constants2, batch_name, folder_path = Path(f\"../Analysis/{batch_name}\"))"
   ]
  },
  {
   "cell_type": "code",
   "execution_count": null,
   "metadata": {},
   "outputs": [],
   "source": []
  }
 ],
 "metadata": {
  "kernelspec": {
   "display_name": "base_env_apifish",
   "language": "python",
   "name": "python3"
  },
  "language_info": {
   "codemirror_mode": {
    "name": "ipython",
    "version": 3
   },
   "file_extension": ".py",
   "mimetype": "text/x-python",
   "name": "python",
   "nbconvert_exporter": "python",
   "pygments_lexer": "ipython3",
   "version": "3.9.0"
  }
 },
 "nbformat": 4,
 "nbformat_minor": 2
}
