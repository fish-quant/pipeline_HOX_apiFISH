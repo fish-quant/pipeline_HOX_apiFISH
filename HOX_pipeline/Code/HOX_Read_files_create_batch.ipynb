{
 "cells": [
  {
   "cell_type": "markdown",
   "metadata": {},
   "source": [
    "This is the first notebook of the pipeline. The project is structured around three folders: Acquisition, Analysis and Code. \n",
    "Acquisition stores all the data, Analysis the results (and the intermediary results) and Code, the present notebooks. \n",
    "Both in Acquisition and Analysis we create one folder per experiment type (called batch). Inside each batch folder, we will keep a similar folder structure.\n",
    "\n",
    "Create a batch name, a name that will encompass a hole set of experiments (which can have for instance different repetitions or / concentrations / time points).\n",
    "Each batch will be stored in separate folder inside the analysis folder in which all the results will be stored.\n",
    "\n",
    "Inside each batch, it it also possible to differentiate experiments by condition (for instance experiments vs control). \n",
    "\n",
    "\n",
    "23/05/25     Jacques Bourg @ Florian Muller lab. Institut Pasteur.\n",
    "\n",
    "\n",
    "<img src=\"./HOX_pipeline.png\" alt=\"LNP pipeline\" width=\"1200\" height=\"477\">"
   ]
  },
  {
   "cell_type": "code",
   "execution_count": 2,
   "metadata": {},
   "outputs": [],
   "source": [
    "import sys\n",
    "from pathlib import Path\n",
    "import skimage.io as io\n",
    "\n",
    "import ipywidgets as widgets\n",
    "from IPython.display import display"
   ]
  },
  {
   "cell_type": "code",
   "execution_count": 8,
   "metadata": {},
   "outputs": [
    {
     "name": "stdout",
     "output_type": "stream",
     "text": [
      "The autoreload extension is already loaded. To reload it, use:\n",
      "  %reload_ext autoreload\n"
     ]
    }
   ],
   "source": [
    "%load_ext autoreload\n",
    "%autoreload 2\n",
    "\n",
    "base_dir = Path(\"../../src\").resolve()\n",
    "sys.path.append(str(base_dir))\n",
    "sys.path.append(str(base_dir / \"utils\"))\n",
    "\n",
    "from utils.parameters_tracking import Parameter_tracking as Track\n",
    "from utils.widgets import StringListWidget as Slw\n",
    "from utils.file_handling import FileProcessor as Fp\n",
    "\n",
    "fp  = Fp()\n",
    "tk  = Track()"
   ]
  },
  {
   "cell_type": "code",
   "execution_count": 5,
   "metadata": {},
   "outputs": [
    {
     "data": {
      "application/vnd.jupyter.widget-view+json": {
       "model_id": "3dc8fd1ceea042888473e8cc87404cba",
       "version_major": 2,
       "version_minor": 0
      },
      "text/plain": [
       "Text(value='', placeholder='Batch name to input')"
      ]
     },
     "metadata": {},
     "output_type": "display_data"
    }
   ],
   "source": [
    "text_input = widgets.Text(value='',placeholder='Batch name to input', description='', disabled=False)\n",
    "display(text_input)"
   ]
  },
  {
   "cell_type": "code",
   "execution_count": 6,
   "metadata": {},
   "outputs": [
    {
     "name": "stdout",
     "output_type": "stream",
     "text": [
      "2024-11-18_Helena-Hox-9-10_spinning_2\n"
     ]
    }
   ],
   "source": [
    "batch_name = text_input.value; print(batch_name)"
   ]
  },
  {
   "cell_type": "code",
   "execution_count": 7,
   "metadata": {},
   "outputs": [],
   "source": [
    "folder_path_batch = Path(f\"../Analysis/{batch_name}\")\n",
    "if not folder_path_batch.exists():\n",
    "    folder_path_batch.mkdir(parents=True)\n",
    "    \n",
    "folder_path_batch = Path(f\"../Acquisition/{batch_name}\")\n",
    "if not folder_path_batch.exists():\n",
    "    folder_path_batch.mkdir(parents=True)"
   ]
  },
  {
   "cell_type": "markdown",
   "metadata": {},
   "source": [
    "This line defines types of experiments/conditions that will take place in this batch: EXPERIMENT, CONTROL. We will create a single folder for each condition.\n",
    "Set the names in capitals ! "
   ]
  },
  {
   "cell_type": "code",
   "execution_count": 9,
   "metadata": {},
   "outputs": [
    {
     "data": {
      "application/vnd.jupyter.widget-view+json": {
       "model_id": "62959f49bab047f68c70edf516af65aa",
       "version_major": 2,
       "version_minor": 0
      },
      "text/plain": [
       "Text(value='', description='Input:', placeholder='Type something')"
      ]
     },
     "metadata": {},
     "output_type": "display_data"
    },
    {
     "data": {
      "application/vnd.jupyter.widget-view+json": {
       "model_id": "768de65f781940fcb0fe41704d5603ea",
       "version_major": 2,
       "version_minor": 0
      },
      "text/plain": [
       "Button(description='Add to list', style=ButtonStyle(), tooltip='Click to add the input to the list')"
      ]
     },
     "metadata": {},
     "output_type": "display_data"
    },
    {
     "data": {
      "application/vnd.jupyter.widget-view+json": {
       "model_id": "6fec07db69494daeb378ca7a011fa34d",
       "version_major": 2,
       "version_minor": 0
      },
      "text/plain": [
       "Button(description='Delete list', style=ButtonStyle(), tooltip='Click to delete the list')"
      ]
     },
     "metadata": {},
     "output_type": "display_data"
    },
    {
     "data": {
      "application/vnd.jupyter.widget-view+json": {
       "model_id": "f33a0500756844c985816292ebfe1cec",
       "version_major": 2,
       "version_minor": 0
      },
      "text/plain": [
       "Output()"
      ]
     },
     "metadata": {},
     "output_type": "display_data"
    }
   ],
   "source": [
    "mods = Slw(); mods.display()"
   ]
  },
  {
   "cell_type": "code",
   "execution_count": 10,
   "metadata": {},
   "outputs": [
    {
     "name": "stdout",
     "output_type": "stream",
     "text": [
      "['EXPERIMENT', 'CONTROL']\n"
     ]
    }
   ],
   "source": [
    "modalities = mods.string_list; print(modalities)"
   ]
  },
  {
   "cell_type": "code",
   "execution_count": 11,
   "metadata": {},
   "outputs": [],
   "source": [
    "for mod in modalities:\n",
    "    folder_path_modality = Path(f\"../Analysis/{batch_name}/{mod}\")\n",
    "    if not folder_path_modality.exists():\n",
    "        folder_path_modality.mkdir(parents=True)\n",
    " \n",
    "for mod in modalities:\n",
    "    folder_path_modality = Path(f\"../Acquisition/{batch_name}/{mod}\")\n",
    "    if not folder_path_modality.exists():\n",
    "        folder_path_modality.mkdir(parents=True)"
   ]
  },
  {
   "cell_type": "markdown",
   "metadata": {},
   "source": [
    "Now, lets defines the types of channels that appear in this experiment, for instance: DAPI and FISH (if there are several fish call them FISH_1, FISH_2 or some other name).\n",
    "Set the names in capitals !"
   ]
  },
  {
   "cell_type": "code",
   "execution_count": 12,
   "metadata": {},
   "outputs": [
    {
     "data": {
      "application/vnd.jupyter.widget-view+json": {
       "model_id": "8bd447dff3e04247aa553540621c6e06",
       "version_major": 2,
       "version_minor": 0
      },
      "text/plain": [
       "Text(value='', description='Input:', placeholder='Type something')"
      ]
     },
     "metadata": {},
     "output_type": "display_data"
    },
    {
     "data": {
      "application/vnd.jupyter.widget-view+json": {
       "model_id": "eede8081f647486aad843b8d47a2a8aa",
       "version_major": 2,
       "version_minor": 0
      },
      "text/plain": [
       "Button(description='Add to list', style=ButtonStyle(), tooltip='Click to add the input to the list')"
      ]
     },
     "metadata": {},
     "output_type": "display_data"
    },
    {
     "data": {
      "application/vnd.jupyter.widget-view+json": {
       "model_id": "b045b622854c4318a0b4a90aa7c24a2e",
       "version_major": 2,
       "version_minor": 0
      },
      "text/plain": [
       "Button(description='Delete list', style=ButtonStyle(), tooltip='Click to delete the list')"
      ]
     },
     "metadata": {},
     "output_type": "display_data"
    },
    {
     "data": {
      "application/vnd.jupyter.widget-view+json": {
       "model_id": "73992279988c4dfc966eec4aa5ef0575",
       "version_major": 2,
       "version_minor": 0
      },
      "text/plain": [
       "Output()"
      ]
     },
     "metadata": {},
     "output_type": "display_data"
    }
   ],
   "source": [
    "chans = Slw(); chans.display()"
   ]
  },
  {
   "cell_type": "code",
   "execution_count": 13,
   "metadata": {},
   "outputs": [
    {
     "name": "stdout",
     "output_type": "stream",
     "text": [
      "['DAPI', 'HOXC8', 'HOXA10']\n"
     ]
    }
   ],
   "source": [
    "channels = chans.string_list; print(channels)"
   ]
  },
  {
   "cell_type": "markdown",
   "metadata": {},
   "source": [
    "Associate a color with each channel, ni the same order (write in lowercase or in hex), this will be useful when plotting the results. For instance DAPI is usually set to blue."
   ]
  },
  {
   "cell_type": "code",
   "execution_count": 14,
   "metadata": {},
   "outputs": [
    {
     "data": {
      "application/vnd.jupyter.widget-view+json": {
       "model_id": "3238fcfe05ca406b8b9da4d6f371d238",
       "version_major": 2,
       "version_minor": 0
      },
      "text/plain": [
       "Text(value='', description='Input:', placeholder='Type something')"
      ]
     },
     "metadata": {},
     "output_type": "display_data"
    },
    {
     "data": {
      "application/vnd.jupyter.widget-view+json": {
       "model_id": "635374b7ac484e8a84fe4409b123e9eb",
       "version_major": 2,
       "version_minor": 0
      },
      "text/plain": [
       "Button(description='Add to list', style=ButtonStyle(), tooltip='Click to add the input to the list')"
      ]
     },
     "metadata": {},
     "output_type": "display_data"
    },
    {
     "data": {
      "application/vnd.jupyter.widget-view+json": {
       "model_id": "d865ef33d1094179b1682b4382fe0398",
       "version_major": 2,
       "version_minor": 0
      },
      "text/plain": [
       "Button(description='Delete list', style=ButtonStyle(), tooltip='Click to delete the list')"
      ]
     },
     "metadata": {},
     "output_type": "display_data"
    },
    {
     "data": {
      "application/vnd.jupyter.widget-view+json": {
       "model_id": "2e0e3b01e49a4b7c892e87d7ece8a0e8",
       "version_major": 2,
       "version_minor": 0
      },
      "text/plain": [
       "Output()"
      ]
     },
     "metadata": {},
     "output_type": "display_data"
    }
   ],
   "source": [
    "cols = Slw(); cols.display()"
   ]
  },
  {
   "cell_type": "code",
   "execution_count": 15,
   "metadata": {},
   "outputs": [
    {
     "name": "stdout",
     "output_type": "stream",
     "text": [
      "['blue', 'green', 'red']\n"
     ]
    }
   ],
   "source": [
    "colors = cols.string_list; print(colors)"
   ]
  },
  {
   "cell_type": "markdown",
   "metadata": {},
   "source": [
    "Enter the structures we are going to segment (usually NUCLEI and CELL in uppercase)."
   ]
  },
  {
   "cell_type": "code",
   "execution_count": 16,
   "metadata": {},
   "outputs": [
    {
     "data": {
      "application/vnd.jupyter.widget-view+json": {
       "model_id": "eeb8482d9a3e430e80efb61616ac793b",
       "version_major": 2,
       "version_minor": 0
      },
      "text/plain": [
       "Text(value='', description='Input:', placeholder='Type something')"
      ]
     },
     "metadata": {},
     "output_type": "display_data"
    },
    {
     "data": {
      "application/vnd.jupyter.widget-view+json": {
       "model_id": "f5b7f569e17a4cdbad2ce74ae855f8ce",
       "version_major": 2,
       "version_minor": 0
      },
      "text/plain": [
       "Button(description='Add to list', style=ButtonStyle(), tooltip='Click to add the input to the list')"
      ]
     },
     "metadata": {},
     "output_type": "display_data"
    },
    {
     "data": {
      "application/vnd.jupyter.widget-view+json": {
       "model_id": "ffeb4ced600a4c7387cac9da97a9b601",
       "version_major": 2,
       "version_minor": 0
      },
      "text/plain": [
       "Button(description='Delete list', style=ButtonStyle(), tooltip='Click to delete the list')"
      ]
     },
     "metadata": {},
     "output_type": "display_data"
    },
    {
     "data": {
      "application/vnd.jupyter.widget-view+json": {
       "model_id": "548b2c3de4744937a5bc2f687cb2066e",
       "version_major": 2,
       "version_minor": 0
      },
      "text/plain": [
       "Output()"
      ]
     },
     "metadata": {},
     "output_type": "display_data"
    }
   ],
   "source": [
    "structs = Slw(); structs.display()"
   ]
  },
  {
   "cell_type": "code",
   "execution_count": 17,
   "metadata": {},
   "outputs": [
    {
     "name": "stdout",
     "output_type": "stream",
     "text": [
      "['NUCLEI', 'CELL']\n"
     ]
    }
   ],
   "source": [
    "strucs = structs.string_list; print(strucs)"
   ]
  },
  {
   "cell_type": "markdown",
   "metadata": {},
   "source": [
    "Create a folder for each channel inside each condition"
   ]
  },
  {
   "cell_type": "code",
   "execution_count": 18,
   "metadata": {},
   "outputs": [],
   "source": [
    "for mod in modalities:\n",
    "    for chan in channels:\n",
    "        folder_path_mods_chans = Path(f\"../Analysis/{batch_name}/{mod}/{chan}\")\n",
    "        if not folder_path_mods_chans.exists():\n",
    "            folder_path_mods_chans.mkdir(parents=True)\n",
    "            \n",
    "for mod in modalities:\n",
    "    for chan in channels:\n",
    "        folder_path_mods_chans = Path(f\"../Acquisition/{batch_name}/{mod}/{chan}\")\n",
    "        if not folder_path_mods_chans.exists():\n",
    "            folder_path_mods_chans.mkdir(parents=True)"
   ]
  },
  {
   "cell_type": "code",
   "execution_count": 19,
   "metadata": {},
   "outputs": [],
   "source": [
    "DAPI_CHANNEL   = 2   \n",
    "GENE_0_CHANNEL = 0   \n",
    "GENE_1_CHANNEL = 1\n",
    "\n",
    "channels_num = [DAPI_CHANNEL, GENE_0_CHANNEL, GENE_1_CHANNEL]"
   ]
  },
  {
   "cell_type": "code",
   "execution_count": 20,
   "metadata": {},
   "outputs": [
    {
     "name": "stderr",
     "output_type": "stream",
     "text": [
      "/tmp/ipykernel_477766/4063281243.py:21: UserWarning: ../Acquisition/2024-11-18_Helena-Hox-9-10_spinning_2/EXPERIMENT/DAPI/HM40-J3DIFF-NT6h-HOXA10-620_HOXC8-520-1002-1_DAPI.tif is a low contrast image\n",
      "  io.imsave(file_path, im_c)\n",
      "/tmp/ipykernel_477766/4063281243.py:21: UserWarning: ../Acquisition/2024-11-18_Helena-Hox-9-10_spinning_2/EXPERIMENT/DAPI/HM40-J3DIFF-NT24h-HOXA10-620_HOXC8-520-1005-1_DAPI.tif is a low contrast image\n",
      "  io.imsave(file_path, im_c)\n",
      "/tmp/ipykernel_477766/4063281243.py:21: UserWarning: ../Acquisition/2024-11-18_Helena-Hox-9-10_spinning_2/EXPERIMENT/DAPI/HM40-J3DIFF-NT48h-HOXA10-620_HOXC8-520-1008-1_DAPI.tif is a low contrast image\n",
      "  io.imsave(file_path, im_c)\n",
      "/tmp/ipykernel_477766/4063281243.py:21: UserWarning: ../Acquisition/2024-11-18_Helena-Hox-9-10_spinning_2/EXPERIMENT/DAPI/HM40-J3DIFF-GDF6h-HOXA10-620_HOXC8-522-1_DAPI.tif is a low contrast image\n",
      "  io.imsave(file_path, im_c)\n",
      "/tmp/ipykernel_477766/4063281243.py:21: UserWarning: ../Acquisition/2024-11-18_Helena-Hox-9-10_spinning_2/EXPERIMENT/DAPI/HM40-J3DIFF-GDF24h-HOXA10-620_HOXC8-525-1_DAPI.tif is a low contrast image\n",
      "  io.imsave(file_path, im_c)\n",
      "/tmp/ipykernel_477766/4063281243.py:21: UserWarning: ../Acquisition/2024-11-18_Helena-Hox-9-10_spinning_2/EXPERIMENT/DAPI/HM40-J3DIFF-GDF48h-HOXA10-620_HOXC8-528-1_DAPI.tif is a low contrast image\n",
      "  io.imsave(file_path, im_c)\n",
      "/tmp/ipykernel_477766/4063281243.py:21: UserWarning: ../Acquisition/2024-11-18_Helena-Hox-9-10_spinning_2/EXPERIMENT/DAPI/HM40-J3DIFF-FGFGDF6h-HOXA10-620_HOXC8-531-1_DAPI.tif is a low contrast image\n",
      "  io.imsave(file_path, im_c)\n",
      "/tmp/ipykernel_477766/4063281243.py:21: UserWarning: ../Acquisition/2024-11-18_Helena-Hox-9-10_spinning_2/EXPERIMENT/DAPI/HM40-J3DIFF-FGFGDF24h-HOXA10-620_HOXC8-534-1_DAPI.tif is a low contrast image\n",
      "  io.imsave(file_path, im_c)\n",
      "/tmp/ipykernel_477766/4063281243.py:21: UserWarning: ../Acquisition/2024-11-18_Helena-Hox-9-10_spinning_2/EXPERIMENT/DAPI/HM40-J3DIFF-FGFGDF48h-HOXA10-620_HOXC8-537-1_DAPI.tif is a low contrast image\n",
      "  io.imsave(file_path, im_c)\n",
      "/tmp/ipykernel_477766/4063281243.py:21: UserWarning: ../Acquisition/2024-11-18_Helena-Hox-9-10_spinning_2/EXPERIMENT/HOXC8/HM40-J3DIFF-NT6h-HOXA10-620_HOXC8-520-1002-1_HOXC8.tif is a low contrast image\n",
      "  io.imsave(file_path, im_c)\n",
      "/tmp/ipykernel_477766/4063281243.py:21: UserWarning: ../Acquisition/2024-11-18_Helena-Hox-9-10_spinning_2/EXPERIMENT/HOXC8/HM40-J3DIFF-NT24h-HOXA10-620_HOXC8-520-1005-1_HOXC8.tif is a low contrast image\n",
      "  io.imsave(file_path, im_c)\n",
      "/tmp/ipykernel_477766/4063281243.py:21: UserWarning: ../Acquisition/2024-11-18_Helena-Hox-9-10_spinning_2/EXPERIMENT/HOXC8/HM40-J3DIFF-NT48h-HOXA10-620_HOXC8-520-1008-1_HOXC8.tif is a low contrast image\n",
      "  io.imsave(file_path, im_c)\n",
      "/tmp/ipykernel_477766/4063281243.py:21: UserWarning: ../Acquisition/2024-11-18_Helena-Hox-9-10_spinning_2/EXPERIMENT/HOXC8/HM40-J3DIFF-GDF6h-HOXA10-620_HOXC8-522-1_HOXC8.tif is a low contrast image\n",
      "  io.imsave(file_path, im_c)\n",
      "/tmp/ipykernel_477766/4063281243.py:21: UserWarning: ../Acquisition/2024-11-18_Helena-Hox-9-10_spinning_2/EXPERIMENT/HOXC8/HM40-J3DIFF-GDF24h-HOXA10-620_HOXC8-525-1_HOXC8.tif is a low contrast image\n",
      "  io.imsave(file_path, im_c)\n",
      "/tmp/ipykernel_477766/4063281243.py:21: UserWarning: ../Acquisition/2024-11-18_Helena-Hox-9-10_spinning_2/EXPERIMENT/HOXC8/HM40-J3DIFF-FGFGDF6h-HOXA10-620_HOXC8-531-1_HOXC8.tif is a low contrast image\n",
      "  io.imsave(file_path, im_c)\n",
      "/tmp/ipykernel_477766/4063281243.py:21: UserWarning: ../Acquisition/2024-11-18_Helena-Hox-9-10_spinning_2/EXPERIMENT/HOXC8/HM40-J3DIFF-FGFGDF48h-HOXA10-620_HOXC8-537-1_HOXC8.tif is a low contrast image\n",
      "  io.imsave(file_path, im_c)\n",
      "/tmp/ipykernel_477766/4063281243.py:21: UserWarning: ../Acquisition/2024-11-18_Helena-Hox-9-10_spinning_2/EXPERIMENT/HOXA10/HM40-J3DIFF-NT6h-HOXA10-620_HOXC8-520-1002-1_HOXA10.tif is a low contrast image\n",
      "  io.imsave(file_path, im_c)\n",
      "/tmp/ipykernel_477766/4063281243.py:21: UserWarning: ../Acquisition/2024-11-18_Helena-Hox-9-10_spinning_2/EXPERIMENT/HOXA10/HM40-J3DIFF-NT24h-HOXA10-620_HOXC8-520-1005-1_HOXA10.tif is a low contrast image\n",
      "  io.imsave(file_path, im_c)\n",
      "/tmp/ipykernel_477766/4063281243.py:21: UserWarning: ../Acquisition/2024-11-18_Helena-Hox-9-10_spinning_2/EXPERIMENT/HOXA10/HM40-J3DIFF-NT48h-HOXA10-620_HOXC8-520-1008-1_HOXA10.tif is a low contrast image\n",
      "  io.imsave(file_path, im_c)\n",
      "/tmp/ipykernel_477766/4063281243.py:21: UserWarning: ../Acquisition/2024-11-18_Helena-Hox-9-10_spinning_2/EXPERIMENT/HOXA10/HM40-J3DIFF-GDF6h-HOXA10-620_HOXC8-522-1_HOXA10.tif is a low contrast image\n",
      "  io.imsave(file_path, im_c)\n",
      "/tmp/ipykernel_477766/4063281243.py:21: UserWarning: ../Acquisition/2024-11-18_Helena-Hox-9-10_spinning_2/EXPERIMENT/HOXA10/HM40-J3DIFF-GDF24h-HOXA10-620_HOXC8-525-1_HOXA10.tif is a low contrast image\n",
      "  io.imsave(file_path, im_c)\n",
      "/tmp/ipykernel_477766/4063281243.py:21: UserWarning: ../Acquisition/2024-11-18_Helena-Hox-9-10_spinning_2/EXPERIMENT/HOXA10/HM40-J3DIFF-GDF48h-HOXA10-620_HOXC8-528-1_HOXA10.tif is a low contrast image\n",
      "  io.imsave(file_path, im_c)\n",
      "/tmp/ipykernel_477766/4063281243.py:21: UserWarning: ../Acquisition/2024-11-18_Helena-Hox-9-10_spinning_2/EXPERIMENT/HOXA10/HM40-J3DIFF-FGFGDF6h-HOXA10-620_HOXC8-531-1_HOXA10.tif is a low contrast image\n",
      "  io.imsave(file_path, im_c)\n",
      "/tmp/ipykernel_477766/4063281243.py:21: UserWarning: ../Acquisition/2024-11-18_Helena-Hox-9-10_spinning_2/EXPERIMENT/HOXA10/HM40-J3DIFF-FGFGDF24h-HOXA10-620_HOXC8-534-1_HOXA10.tif is a low contrast image\n",
      "  io.imsave(file_path, im_c)\n",
      "/tmp/ipykernel_477766/4063281243.py:21: UserWarning: ../Acquisition/2024-11-18_Helena-Hox-9-10_spinning_2/EXPERIMENT/HOXA10/HM40-J3DIFF-FGFGDF48h-HOXA10-620_HOXC8-537-1_HOXA10.tif is a low contrast image\n",
      "  io.imsave(file_path, im_c)\n"
     ]
    }
   ],
   "source": [
    "modality     = 'EXPERIMENT'\n",
    "\n",
    "list_files   = [Path('/home/jacques/Documents/FISH/Data_analysis/pipeline_smfish/2024-11-18_Helena-Hox-9-10_spinning/Acquisition/03_2025/transfer_9458852_files_415095e1/1Z-FISH-CONTROL-HM40-HM17/WTC11 NT/NT6h/HM40-J3DIFF-NT6h-HOXA10-620_HOXC8-520-1002-1.tif'),\n",
    "                Path('/home/jacques/Documents/FISH/Data_analysis/pipeline_smfish/2024-11-18_Helena-Hox-9-10_spinning/Acquisition/03_2025/transfer_9458852_files_415095e1/1Z-FISH-CONTROL-HM40-HM17/WTC11 NT/NT24h/HM40-J3DIFF-NT24h-HOXA10-620_HOXC8-520-1005-1.tif'),\n",
    "                Path('/home/jacques/Documents/FISH/Data_analysis/pipeline_smfish/2024-11-18_Helena-Hox-9-10_spinning/Acquisition/03_2025/transfer_9458852_files_415095e1/1Z-FISH-CONTROL-HM40-HM17/WTC11 NT/NT48h/HM40-J3DIFF-NT48h-HOXA10-620_HOXC8-520-1008-1.tif'),\n",
    "                Path('/home/jacques/Documents/FISH/Data_analysis/pipeline_smfish/2024-11-18_Helena-Hox-9-10_spinning/Acquisition/03_2025/transfer_9458852_files_415095e1/1Z-FISH-CONTROL-HM40-HM17/WTC11 GDF/GDF6h/HM40-J3DIFF-GDF6h-HOXA10-620_HOXC8-522-1.tif'),\n",
    "                Path('/home/jacques/Documents/FISH/Data_analysis/pipeline_smfish/2024-11-18_Helena-Hox-9-10_spinning/Acquisition/03_2025/transfer_9458852_files_415095e1/1Z-FISH-CONTROL-HM40-HM17/WTC11 GDF/GDF24h/HM40-J3DIFF-GDF24h-HOXA10-620_HOXC8-525-1.tif'),\n",
    "                Path('/home/jacques/Documents/FISH/Data_analysis/pipeline_smfish/2024-11-18_Helena-Hox-9-10_spinning/Acquisition/03_2025/transfer_9458852_files_415095e1/1Z-FISH-CONTROL-HM40-HM17/WTC11 GDF/GDF48h/HM40-J3DIFF-GDF48h-HOXA10-620_HOXC8-528-1.tif'),\n",
    "                Path('/home/jacques/Documents/FISH/Data_analysis/pipeline_smfish/2024-11-18_Helena-Hox-9-10_spinning/Acquisition/03_2025/transfer_9458852_files_415095e1/1Z-FISH-CONTROL-HM40-HM17/WTC11 FGF GDF/FGFGDF6h/HM40-J3DIFF-FGFGDF6h-HOXA10-620_HOXC8-531-1.tif'),\n",
    "                Path('/home/jacques/Documents/FISH/Data_analysis/pipeline_smfish/2024-11-18_Helena-Hox-9-10_spinning/Acquisition/03_2025/transfer_9458852_files_415095e1/1Z-FISH-CONTROL-HM40-HM17/WTC11 FGF GDF/FGFGDF24h/HM40-J3DIFF-FGFGDF24h-HOXA10-620_HOXC8-534-1.tif'),\n",
    "                Path('/home/jacques/Documents/FISH/Data_analysis/pipeline_smfish/2024-11-18_Helena-Hox-9-10_spinning/Acquisition/03_2025/transfer_9458852_files_415095e1/1Z-FISH-CONTROL-HM40-HM17/WTC11 FGF GDF/FGFGDF48h/HM40-J3DIFF-FGFGDF48h-HOXA10-620_HOXC8-537-1.tif'),\n",
    "                ]\n",
    "\n",
    "for ind, chan in enumerate(channels_num):\n",
    "    folder_dirs = []\n",
    "    for ind_image, f_name in enumerate(list_files):                      # This cell separates the files in channels and stores them in the corresponding condition / channel folder\n",
    "        im        = io.imread(f_name)\n",
    "        im_c      = im[...,chan]                                         # careful ! this line often changes according to the file format \n",
    "        short_name= Path(f_name).stem\n",
    "        file_path = str(Path(f\"../Acquisition/{batch_name}/{modality}\")/ Path(channels[ind]) / Path(short_name + f'_{channels[ind]}.tif'))\n",
    "        io.imsave(file_path, im_c)\n",
    "        folder_dirs.append(file_path)  \n",
    "    exec(f\"BATCH_{modality}_{channels[ind]} = folder_dirs\", globals())"
   ]
  },
  {
   "cell_type": "code",
   "execution_count": 22,
   "metadata": {},
   "outputs": [
    {
     "name": "stderr",
     "output_type": "stream",
     "text": [
      "/tmp/ipykernel_477766/1133171386.py:19: UserWarning: ../Acquisition/2024-11-18_Helena-Hox-9-10_spinning_2/CONTROL/DAPI/HM40-2DiPSC-HOXA10-620_HOXC8-522-1_DAPI.tif is a low contrast image\n",
      "  io.imsave(file_path, im_c)\n",
      "/tmp/ipykernel_477766/1133171386.py:19: UserWarning: ../Acquisition/2024-11-18_Helena-Hox-9-10_spinning_2/CONTROL/DAPI/HM40-2DiPSC-HOXA10-620_HOXC8-523-1_DAPI.tif is a low contrast image\n",
      "  io.imsave(file_path, im_c)\n",
      "/tmp/ipykernel_477766/1133171386.py:19: UserWarning: ../Acquisition/2024-11-18_Helena-Hox-9-10_spinning_2/CONTROL/DAPI/HM40-2DiPSC-HOXA10-620_HOXC8-524-1_DAPI.tif is a low contrast image\n",
      "  io.imsave(file_path, im_c)\n",
      "/tmp/ipykernel_477766/1133171386.py:19: UserWarning: ../Acquisition/2024-11-18_Helena-Hox-9-10_spinning_2/CONTROL/DAPI/HM40-3DiPSC-HOXA10-620_HOXC8-520-1004-1_DAPI.tif is a low contrast image\n",
      "  io.imsave(file_path, im_c)\n",
      "/tmp/ipykernel_477766/1133171386.py:19: UserWarning: ../Acquisition/2024-11-18_Helena-Hox-9-10_spinning_2/CONTROL/DAPI/HM40-3DiPSC-HOXA10-620_HOXC8-520-1005-1_DAPI.tif is a low contrast image\n",
      "  io.imsave(file_path, im_c)\n",
      "/tmp/ipykernel_477766/1133171386.py:19: UserWarning: ../Acquisition/2024-11-18_Helena-Hox-9-10_spinning_2/CONTROL/DAPI/HM40-3DiPSC-HOXA10-620_HOXC8-520-1007-1_DAPI.tif is a low contrast image\n",
      "  io.imsave(file_path, im_c)\n",
      "/tmp/ipykernel_477766/1133171386.py:19: UserWarning: ../Acquisition/2024-11-18_Helena-Hox-9-10_spinning_2/CONTROL/HOXC8/HM40-2DiPSC-HOXA10-620_HOXC8-522-1_HOXC8.tif is a low contrast image\n",
      "  io.imsave(file_path, im_c)\n",
      "/tmp/ipykernel_477766/1133171386.py:19: UserWarning: ../Acquisition/2024-11-18_Helena-Hox-9-10_spinning_2/CONTROL/HOXC8/HM40-2DiPSC-HOXA10-620_HOXC8-523-1_HOXC8.tif is a low contrast image\n",
      "  io.imsave(file_path, im_c)\n",
      "/tmp/ipykernel_477766/1133171386.py:19: UserWarning: ../Acquisition/2024-11-18_Helena-Hox-9-10_spinning_2/CONTROL/HOXC8/HM40-2DiPSC-HOXA10-620_HOXC8-524-1_HOXC8.tif is a low contrast image\n",
      "  io.imsave(file_path, im_c)\n",
      "/tmp/ipykernel_477766/1133171386.py:19: UserWarning: ../Acquisition/2024-11-18_Helena-Hox-9-10_spinning_2/CONTROL/HOXC8/HM40-3DiPSC-HOXA10-620_HOXC8-520-1004-1_HOXC8.tif is a low contrast image\n",
      "  io.imsave(file_path, im_c)\n",
      "/tmp/ipykernel_477766/1133171386.py:19: UserWarning: ../Acquisition/2024-11-18_Helena-Hox-9-10_spinning_2/CONTROL/HOXC8/HM40-3DiPSC-HOXA10-620_HOXC8-520-1005-1_HOXC8.tif is a low contrast image\n",
      "  io.imsave(file_path, im_c)\n",
      "/tmp/ipykernel_477766/1133171386.py:19: UserWarning: ../Acquisition/2024-11-18_Helena-Hox-9-10_spinning_2/CONTROL/HOXC8/HM40-3DiPSC-HOXA10-620_HOXC8-520-1007-1_HOXC8.tif is a low contrast image\n",
      "  io.imsave(file_path, im_c)\n",
      "/tmp/ipykernel_477766/1133171386.py:19: UserWarning: ../Acquisition/2024-11-18_Helena-Hox-9-10_spinning_2/CONTROL/HOXA10/HM40-2DiPSC-HOXA10-620_HOXC8-522-1_HOXA10.tif is a low contrast image\n",
      "  io.imsave(file_path, im_c)\n",
      "/tmp/ipykernel_477766/1133171386.py:19: UserWarning: ../Acquisition/2024-11-18_Helena-Hox-9-10_spinning_2/CONTROL/HOXA10/HM40-2DiPSC-HOXA10-620_HOXC8-523-1_HOXA10.tif is a low contrast image\n",
      "  io.imsave(file_path, im_c)\n",
      "/tmp/ipykernel_477766/1133171386.py:19: UserWarning: ../Acquisition/2024-11-18_Helena-Hox-9-10_spinning_2/CONTROL/HOXA10/HM40-2DiPSC-HOXA10-620_HOXC8-524-1_HOXA10.tif is a low contrast image\n",
      "  io.imsave(file_path, im_c)\n",
      "/tmp/ipykernel_477766/1133171386.py:19: UserWarning: ../Acquisition/2024-11-18_Helena-Hox-9-10_spinning_2/CONTROL/HOXA10/HM40-3DiPSC-HOXA10-620_HOXC8-520-1004-1_HOXA10.tif is a low contrast image\n",
      "  io.imsave(file_path, im_c)\n",
      "/tmp/ipykernel_477766/1133171386.py:19: UserWarning: ../Acquisition/2024-11-18_Helena-Hox-9-10_spinning_2/CONTROL/HOXA10/HM40-3DiPSC-HOXA10-620_HOXC8-520-1005-1_HOXA10.tif is a low contrast image\n",
      "  io.imsave(file_path, im_c)\n",
      "/tmp/ipykernel_477766/1133171386.py:19: UserWarning: ../Acquisition/2024-11-18_Helena-Hox-9-10_spinning_2/CONTROL/HOXA10/HM40-3DiPSC-HOXA10-620_HOXC8-520-1007-1_HOXA10.tif is a low contrast image\n",
      "  io.imsave(file_path, im_c)\n"
     ]
    }
   ],
   "source": [
    "modality    = 'CONTROL'\n",
    "\n",
    "list_files  = [Path('/home/jacques/Documents/FISH/Data_analysis/pipeline_smfish/2024-11-18_Helena-Hox-9-10_spinning/Acquisition/03_2025/transfer_9458852_files_415095e1/1Z-FISH-CONTROL-HM40-HM17/2DiPSC/HM40-2DiPSC-HOXA10-620_HOXC8-522-1.tif'),\n",
    "               Path('/home/jacques/Documents/FISH/Data_analysis/pipeline_smfish/2024-11-18_Helena-Hox-9-10_spinning/Acquisition/03_2025/transfer_9458852_files_415095e1/1Z-FISH-CONTROL-HM40-HM17/2DiPSC/HM40-2DiPSC-HOXA10-620_HOXC8-523-1.tif'),\n",
    "               Path('/home/jacques/Documents/FISH/Data_analysis/pipeline_smfish/2024-11-18_Helena-Hox-9-10_spinning/Acquisition/03_2025/transfer_9458852_files_415095e1/1Z-FISH-CONTROL-HM40-HM17/2DiPSC/HM40-2DiPSC-HOXA10-620_HOXC8-524-1.tif'),\n",
    "               Path('/home/jacques/Documents/FISH/Data_analysis/pipeline_smfish/2024-11-18_Helena-Hox-9-10_spinning/Acquisition/03_2025/transfer_9458852_files_415095e1/1Z-FISH-CONTROL-HM40-HM17/3DiPSC/HM40-3DiPSC-HOXA10-620_HOXC8-520-1004-1.tif'),\n",
    "               Path('/home/jacques/Documents/FISH/Data_analysis/pipeline_smfish/2024-11-18_Helena-Hox-9-10_spinning/Acquisition/03_2025/transfer_9458852_files_415095e1/1Z-FISH-CONTROL-HM40-HM17/3DiPSC/HM40-3DiPSC-HOXA10-620_HOXC8-520-1005-1.tif'),     \n",
    "               Path('/home/jacques/Documents/FISH/Data_analysis/pipeline_smfish/2024-11-18_Helena-Hox-9-10_spinning/Acquisition/03_2025/transfer_9458852_files_415095e1/1Z-FISH-CONTROL-HM40-HM17/3DiPSC/HM40-3DiPSC-HOXA10-620_HOXC8-520-1007-1.tif'),\n",
    "            ] \n",
    "        \n",
    "for ind, chan in enumerate(channels_num):\n",
    "    folder_dirs = []\n",
    "    for ind_image, f_name in enumerate(list_files):                  # This cell separates the files in channels and stores them in the corresponding condition / channel folder        \n",
    "        \n",
    "        im        = io.imread(f_name)\n",
    "        im_c      = im[...,chan]\n",
    "        short_name= Path(f_name).stem\n",
    "        file_path = str(Path(f\"../Acquisition/{batch_name}/{modality}\")/ Path(channels[ind]) / Path(short_name + f'_{channels[ind]}.tif'))\n",
    "        io.imsave(file_path, im_c)\n",
    "        folder_dirs.append(file_path)\n",
    "    exec(f\"BATCH_{modality}_{channels[ind]} = folder_dirs\", globals())"
   ]
  },
  {
   "cell_type": "markdown",
   "metadata": {},
   "source": [
    "As we are working on 2D images, we will copy them into the Analysis folder (/Analysis/{batch_name}/{modality}/{chan}/{struc}/2D_train)\n",
    "in order to train the segmentation afterwards."
   ]
  },
  {
   "cell_type": "code",
   "execution_count": 23,
   "metadata": {},
   "outputs": [
    {
     "name": "stderr",
     "output_type": "stream",
     "text": [
      "/tmp/ipykernel_477766/1735395383.py:24: UserWarning: ../Analysis/2024-11-18_Helena-Hox-9-10_spinning_2/EXPERIMENT/DAPI/NUCLEI/train_2D/HM40-J3DIFF-NT6h-HOXA10-620_HOXC8-520-1002-1_MIP_DAPI_NUCLEI.tif is a low contrast image\n",
      "  io.imsave(new_file_add, im, imagej=True)\n",
      "/tmp/ipykernel_477766/1735395383.py:24: UserWarning: ../Analysis/2024-11-18_Helena-Hox-9-10_spinning_2/EXPERIMENT/DAPI/NUCLEI/train_2D/HM40-J3DIFF-NT24h-HOXA10-620_HOXC8-520-1005-1_MIP_DAPI_NUCLEI.tif is a low contrast image\n",
      "  io.imsave(new_file_add, im, imagej=True)\n",
      "/tmp/ipykernel_477766/1735395383.py:24: UserWarning: ../Analysis/2024-11-18_Helena-Hox-9-10_spinning_2/EXPERIMENT/DAPI/NUCLEI/train_2D/HM40-J3DIFF-NT48h-HOXA10-620_HOXC8-520-1008-1_MIP_DAPI_NUCLEI.tif is a low contrast image\n",
      "  io.imsave(new_file_add, im, imagej=True)\n",
      "/tmp/ipykernel_477766/1735395383.py:24: UserWarning: ../Analysis/2024-11-18_Helena-Hox-9-10_spinning_2/EXPERIMENT/DAPI/NUCLEI/train_2D/HM40-J3DIFF-GDF6h-HOXA10-620_HOXC8-522-1_MIP_DAPI_NUCLEI.tif is a low contrast image\n",
      "  io.imsave(new_file_add, im, imagej=True)\n",
      "/tmp/ipykernel_477766/1735395383.py:24: UserWarning: ../Analysis/2024-11-18_Helena-Hox-9-10_spinning_2/EXPERIMENT/DAPI/NUCLEI/train_2D/HM40-J3DIFF-GDF24h-HOXA10-620_HOXC8-525-1_MIP_DAPI_NUCLEI.tif is a low contrast image\n",
      "  io.imsave(new_file_add, im, imagej=True)\n",
      "/tmp/ipykernel_477766/1735395383.py:24: UserWarning: ../Analysis/2024-11-18_Helena-Hox-9-10_spinning_2/EXPERIMENT/DAPI/NUCLEI/train_2D/HM40-J3DIFF-GDF48h-HOXA10-620_HOXC8-528-1_MIP_DAPI_NUCLEI.tif is a low contrast image\n",
      "  io.imsave(new_file_add, im, imagej=True)\n",
      "/tmp/ipykernel_477766/1735395383.py:24: UserWarning: ../Analysis/2024-11-18_Helena-Hox-9-10_spinning_2/EXPERIMENT/DAPI/NUCLEI/train_2D/HM40-J3DIFF-FGFGDF6h-HOXA10-620_HOXC8-531-1_MIP_DAPI_NUCLEI.tif is a low contrast image\n",
      "  io.imsave(new_file_add, im, imagej=True)\n",
      "/tmp/ipykernel_477766/1735395383.py:24: UserWarning: ../Analysis/2024-11-18_Helena-Hox-9-10_spinning_2/EXPERIMENT/DAPI/NUCLEI/train_2D/HM40-J3DIFF-FGFGDF24h-HOXA10-620_HOXC8-534-1_MIP_DAPI_NUCLEI.tif is a low contrast image\n",
      "  io.imsave(new_file_add, im, imagej=True)\n",
      "/tmp/ipykernel_477766/1735395383.py:24: UserWarning: ../Analysis/2024-11-18_Helena-Hox-9-10_spinning_2/EXPERIMENT/DAPI/NUCLEI/train_2D/HM40-J3DIFF-FGFGDF48h-HOXA10-620_HOXC8-537-1_MIP_DAPI_NUCLEI.tif is a low contrast image\n",
      "  io.imsave(new_file_add, im, imagej=True)\n",
      "/tmp/ipykernel_477766/1735395383.py:24: UserWarning: ../Analysis/2024-11-18_Helena-Hox-9-10_spinning_2/CONTROL/DAPI/NUCLEI/train_2D/HM40-2DiPSC-HOXA10-620_HOXC8-522-1_MIP_DAPI_NUCLEI.tif is a low contrast image\n",
      "  io.imsave(new_file_add, im, imagej=True)\n",
      "/tmp/ipykernel_477766/1735395383.py:24: UserWarning: ../Analysis/2024-11-18_Helena-Hox-9-10_spinning_2/CONTROL/DAPI/NUCLEI/train_2D/HM40-2DiPSC-HOXA10-620_HOXC8-523-1_MIP_DAPI_NUCLEI.tif is a low contrast image\n",
      "  io.imsave(new_file_add, im, imagej=True)\n",
      "/tmp/ipykernel_477766/1735395383.py:24: UserWarning: ../Analysis/2024-11-18_Helena-Hox-9-10_spinning_2/CONTROL/DAPI/NUCLEI/train_2D/HM40-2DiPSC-HOXA10-620_HOXC8-524-1_MIP_DAPI_NUCLEI.tif is a low contrast image\n",
      "  io.imsave(new_file_add, im, imagej=True)\n",
      "/tmp/ipykernel_477766/1735395383.py:24: UserWarning: ../Analysis/2024-11-18_Helena-Hox-9-10_spinning_2/CONTROL/DAPI/NUCLEI/train_2D/HM40-3DiPSC-HOXA10-620_HOXC8-520-1004-1_MIP_DAPI_NUCLEI.tif is a low contrast image\n",
      "  io.imsave(new_file_add, im, imagej=True)\n",
      "/tmp/ipykernel_477766/1735395383.py:24: UserWarning: ../Analysis/2024-11-18_Helena-Hox-9-10_spinning_2/CONTROL/DAPI/NUCLEI/train_2D/HM40-3DiPSC-HOXA10-620_HOXC8-520-1005-1_MIP_DAPI_NUCLEI.tif is a low contrast image\n",
      "  io.imsave(new_file_add, im, imagej=True)\n",
      "/tmp/ipykernel_477766/1735395383.py:24: UserWarning: ../Analysis/2024-11-18_Helena-Hox-9-10_spinning_2/CONTROL/DAPI/NUCLEI/train_2D/HM40-3DiPSC-HOXA10-620_HOXC8-520-1007-1_MIP_DAPI_NUCLEI.tif is a low contrast image\n",
      "  io.imsave(new_file_add, im, imagej=True)\n"
     ]
    }
   ],
   "source": [
    "struc = 'NUCLEI'\n",
    " \n",
    "for modality in modalities:\n",
    "    \n",
    "        if modality == 'EXPERIMENT':\n",
    "            batch_mod_chan = BATCH_EXPERIMENT_DAPI\n",
    "        elif modality == 'CONTROL':\n",
    "            batch_mod_chan = BATCH_CONTROL_DAPI\n",
    "    \n",
    "        folder_struc          = Path(f\"../Analysis/{batch_name}/{modality}/DAPI/NUCLEI/\")\n",
    "        if not folder_struc.exists():\n",
    "            folder_struc.mkdir(parents=True)\n",
    "\n",
    "        folder_mod_chan_mip = Path(f\"../Analysis/{batch_name}/{modality}/DAPI/NUCLEI/train_2D\")\n",
    "        if not folder_mod_chan_mip.exists():\n",
    "            folder_mod_chan_mip.mkdir(parents=True)\n",
    "\n",
    "        batch_mod_chan_mip = []\n",
    "        for file_path in batch_mod_chan: \n",
    "            file_path = Path(file_path)\n",
    "            im = io.imread(file_path)\n",
    "            new_file_name = '_'.join(Path(file_path).stem.split('_')[:-1]) + f'_MIP_DAPI_NUCLEI.tif'\n",
    "            new_file_add  = str(folder_mod_chan_mip / Path(new_file_name))\n",
    "            io.imsave(new_file_add, im, imagej=True)\n",
    "            batch_mod_chan_mip.append(new_file_add)\n",
    "        \n",
    "        exec(f\"BATCH_{modality}_DAPI_NUCLEI_MIP = batch_mod_chan_mip\", globals())   ##### turn lower case variables into uppercase for tracking    "
   ]
  },
  {
   "cell_type": "markdown",
   "metadata": {},
   "source": [
    "Finally execute these last two cells to collect the constants.\n",
    "The convention is to write the constants that we want to pass by to the other notebooks in uppercase at the end of the notebook.\n",
    "This will create a json file that will be used to communicate between notebooks used in a same batch of experiments."
   ]
  },
  {
   "cell_type": "code",
   "execution_count": 24,
   "metadata": {},
   "outputs": [],
   "source": [
    "MODALITIES   = modalities\n",
    "CHANNELS     = channels\n",
    "BATCH_NAME   = batch_name\n",
    "CHANNELS_NUM = channels_num\n",
    "COLORS       = colors\n",
    "STRUCTURES   = strucs"
   ]
  },
  {
   "cell_type": "code",
   "execution_count": 25,
   "metadata": {},
   "outputs": [
    {
     "name": "stdout",
     "output_type": "stream",
     "text": [
      "Warning: File ../Analysis/2024-11-18_Helena-Hox-9-10_spinning_2/2024-11-18_Helena-Hox-9-10_spinning_2.json does not exist. Creating a new file.\n"
     ]
    }
   ],
   "source": [
    "constants2 = tk.collect_constants()\n",
    "tk.save_constants_and_commit_hash(constants2, BATCH_NAME, folder_path = Path(f\"../Analysis/{BATCH_NAME}\"))"
   ]
  },
  {
   "cell_type": "markdown",
   "metadata": {},
   "source": [
    "## END OF SCRIPT\n",
    "\n",
    "This notebook has to be adapted to the specific file formats. We left some legacy code at the end of the notebook\n",
    "containing examples of how to do this.\n"
   ]
  },
  {
   "cell_type": "code",
   "execution_count": null,
   "metadata": {},
   "outputs": [],
   "source": []
  },
  {
   "cell_type": "code",
   "execution_count": null,
   "metadata": {},
   "outputs": [],
   "source": []
  },
  {
   "cell_type": "code",
   "execution_count": 25,
   "metadata": {},
   "outputs": [],
   "source": [
    "# path_folder = fp.select_file(initialdir=None)"
   ]
  },
  {
   "cell_type": "markdown",
   "metadata": {},
   "source": [
    "for lif files:"
   ]
  },
  {
   "cell_type": "code",
   "execution_count": null,
   "metadata": {},
   "outputs": [],
   "source": [
    "# images_names, image_list = fp.read_lif_many_images(path_folder) # since it is a lif file, for nd2 files see and adapt method read_convert_np"
   ]
  },
  {
   "cell_type": "code",
   "execution_count": null,
   "metadata": {},
   "outputs": [],
   "source": [
    "# folder_path_batch = Path(f\"../Analysis/{batch_name}/temp_file\")\n",
    "# if not folder_path_batch.exists():\n",
    "#     folder_path_batch.mkdir(parents=True)"
   ]
  },
  {
   "cell_type": "code",
   "execution_count": 26,
   "metadata": {},
   "outputs": [],
   "source": [
    "# path_names = []\n",
    "# for ind, image in enumerate(image_list):\n",
    "#     filename = Path(f\"../Analysis/{batch_name}/temp_file\") / Path(images_names[ind]+'.tif')\n",
    "#     io.imsave(filename, image, imagej=True)\n",
    "#     path_names.append(filename)"
   ]
  },
  {
   "cell_type": "markdown",
   "metadata": {},
   "source": [
    "### Manual intervention required: change the channel numbers (for instance channel_dapi ) and verify that the channel corresponds to what you are looking for. "
   ]
  },
  {
   "cell_type": "code",
   "execution_count": 27,
   "metadata": {},
   "outputs": [],
   "source": [
    "# print(np.shape(image_list[0])) # dimensions of the images (#channels, # Z, #Y, #X)\n",
    "# channel_dapi = 0               # verify which channels is which \n",
    "# #channel_fish = 1\n",
    "# fig, ax = plt.subplots(figsize=(1,1))  \n",
    "# ax.imshow(np.max(image_list[0][channel_dapi,...], axis = 0)) # for 3D images\n",
    "# ax.set_axis_off();"
   ]
  },
  {
   "cell_type": "code",
   "execution_count": 28,
   "metadata": {},
   "outputs": [],
   "source": [
    "# channel_dapi = 0     # this line is useful to separate the channels\n",
    "# #channel_fish = 1\n",
    "# print(channels)\n",
    "# channels_num  = [channel_dapi]#, channel_fish]\n",
    "# print('corresponding channels :',  channels_num)"
   ]
  },
  {
   "cell_type": "markdown",
   "metadata": {},
   "source": [
    "##### For each condition: manually affect the experiments to each condition:\n",
    "   Among the list of image names, choose the ones that must be affected to each condition"
   ]
  },
  {
   "cell_type": "code",
   "execution_count": 29,
   "metadata": {},
   "outputs": [],
   "source": [
    "# print(images_names)\n",
    "# list_same_cond = [images_names[0], images_names[1], images_names[3]]   # Choose the images for a given condition.\n",
    "# indexes_ims    = [0, 1, 3]                                             # copy the indexes of the images \n",
    "# name_cond      = 'LNP'                                                 # the name of the condition/modalities must be among the modalities listed just before. "
   ]
  },
  {
   "cell_type": "code",
   "execution_count": 30,
   "metadata": {},
   "outputs": [],
   "source": [
    "# for ind_image, name in enumerate(list_same_cond):                      # This cell separates the files in channels and stores them in the corresponding condition / channel folder\n",
    "#     folder_dirs = []\n",
    "#     for ind, chan in enumerate(channels_num):\n",
    "#         im_c      = image_list[indexes_ims[ind]][chan,...]\n",
    "#         file_path = str(Path(f\"../Acquisition/{batch_name}/{name_cond}\")/ Path(channels[ind]) / Path(name + f'_{channels[ind]}.tif'))\n",
    "#         io.imsave(file_path, im_c)\n",
    "#         folder_dirs.append(file_path)\n",
    "        \n",
    "#     exec(f\"BATCH_{name_cond}_{channels[ind]} = folder_dirs\", globals())  # create the uppercased variables  (condition, channel) containing the list of all the associated files\n",
    "#                                                                          # for instance BATCH_LNP_DAPI        "
   ]
  },
  {
   "cell_type": "markdown",
   "metadata": {},
   "source": [
    "Once all the channels of each condition were affected in a specific folder as a separate .tif file, erase the /temp_file folder"
   ]
  },
  {
   "cell_type": "code",
   "execution_count": 31,
   "metadata": {},
   "outputs": [],
   "source": [
    "# import shutil\n",
    "# if os.path.exists(Path(f\"../Analysis/{batch_name}/temp_file\")):\n",
    "#     shutil.rmtree(Path(f\"../Analysis/{batch_name}/temp_file\"))  # Remove the folder and all its contents"
   ]
  },
  {
   "cell_type": "markdown",
   "metadata": {},
   "source": [
    "# B    \n",
    "Provide directly the files names with the good names on them. If the files are already separated in conditions and in different channels (one tiff per channel).\n",
    "Just reference them using the following synthax: BATCH_{condition}_{channel}, both conditions and channel in uppercase.\n",
    "\n",
    "Warning : naming convention. We will assume in the rest of the pipeline, that the files between the name channels have similar names, excepting for the last suffix\n",
    "which is for instance _DAPI or _FISH or _FISH0 or _FISH1 (you can decide on how to call them)"
   ]
  },
  {
   "cell_type": "code",
   "execution_count": 32,
   "metadata": {},
   "outputs": [],
   "source": [
    "# channels_num   = [0, 1]\n",
    "\n",
    "# BATCH_XPO1_FISH = [Path('/media/PBI_big_data/rna-imaging/data/SANOFI-RNA-delivery/2023-05-11_LNP-SignalComparison/acquisition/XPO/XPO-6Oligo/XPO-6Oligo_1_pos0_FISH.tif'),   \n",
    "#                   Path('/media/PBI_big_data/rna-imaging/data/SANOFI-RNA-delivery/2023-05-11_LNP-SignalComparison/acquisition/XPO/XPO-6Oligo/XPO-6Oligo_2_pos0_FISH.tif'),\n",
    "#                   Path('/media/PBI_big_data/rna-imaging/data/SANOFI-RNA-delivery/2023-05-11_LNP-SignalComparison/acquisition/XPO/XPO1-12Oligo/XPO1-12Oligo_1_pos0_FISH.tif'),\n",
    "#                   Path('/media/PBI_big_data/rna-imaging/data/SANOFI-RNA-delivery/2023-05-11_LNP-SignalComparison/acquisition/XPO/XPO1-12Oligo/XPO1-12Oligo_2_pos0_FISH.tif'),\n",
    "#                   Path('/media/PBI_big_data/rna-imaging/data/SANOFI-RNA-delivery/2023-05-11_LNP-SignalComparison/acquisition/XPO/XPO1-12Oligo/XPO1-12Oligo_3_pos0_FISH.tif'),\n",
    "#                   Path('/media/PBI_big_data/rna-imaging/data/SANOFI-RNA-delivery/2023-05-11_LNP-SignalComparison/acquisition/XPO/XPO1-18Oligo/XPO1-18Oligo_1_pos0_FISH.tif'),\n",
    "#                   Path('/media/PBI_big_data/rna-imaging/data/SANOFI-RNA-delivery/2023-05-11_LNP-SignalComparison/acquisition/XPO/XPO1-18Oligo/XPO1-18Oligo_2_pos0_FISH.tif'),\n",
    "#                   Path('/media/PBI_big_data/rna-imaging/data/SANOFI-RNA-delivery/2023-05-11_LNP-SignalComparison/acquisition/XPO/XPO1-18Oligo/XPO1-18Oligo_3_pos0_FISH.tif'), \n",
    "#                   Path('/media/PBI_big_data/rna-imaging/data/SANOFI-RNA-delivery/2023-05-11_LNP-SignalComparison/acquisition/XPO/XPO1-24Oligo/XPO1-24Oligo_2_pos0_FISH.tif'),\n",
    "#                   Path('/media/PBI_big_data/rna-imaging/data/SANOFI-RNA-delivery/2023-05-11_LNP-SignalComparison/acquisition/XPO/XPO1-24Oligo/XPO1-24Oligo_3_pos0_FISH.tif'),\n",
    "#                   Path('/media/PBI_big_data/rna-imaging/data/SANOFI-RNA-delivery/2023-05-11_LNP-SignalComparison/acquisition/XPO/XPO1-24Oligo/XPO1-24Oligo_4_pos0_FISH.tif'),\n",
    "#                   ]  \n",
    "\n",
    "# BATCH_XPO1_DAPI = [Path('/media/PBI_big_data/rna-imaging/data/SANOFI-RNA-delivery/2023-05-11_LNP-SignalComparison/acquisition/XPO/XPO-6Oligo/XPO-6Oligo_1_pos0_DAPI.tif'),   \n",
    "#                   Path('/media/PBI_big_data/rna-imaging/data/SANOFI-RNA-delivery/2023-05-11_LNP-SignalComparison/acquisition/XPO/XPO-6Oligo/XPO-6Oligo_2_pos0_DAPI.tif'),\n",
    "#                   Path('/media/PBI_big_data/rna-imaging/data/SANOFI-RNA-delivery/2023-05-11_LNP-SignalComparison/acquisition/XPO/XPO1-12Oligo/XPO1-12Oligo_1_pos0_DAPI.tif'),\n",
    "#                   Path('/media/PBI_big_data/rna-imaging/data/SANOFI-RNA-delivery/2023-05-11_LNP-SignalComparison/acquisition/XPO/XPO1-12Oligo/XPO1-12Oligo_2_pos0_DAPI.tif'),\n",
    "#                   Path('/media/PBI_big_data/rna-imaging/data/SANOFI-RNA-delivery/2023-05-11_LNP-SignalComparison/acquisition/XPO/XPO1-12Oligo/XPO1-12Oligo_3_pos0_DAPI.tif'),\n",
    "#                   Path('/media/PBI_big_data/rna-imaging/data/SANOFI-RNA-delivery/2023-05-11_LNP-SignalComparison/acquisition/XPO/XPO1-18Oligo/XPO1-18Oligo_1_pos0_DAPI.tif'),\n",
    "#                   Path('/media/PBI_big_data/rna-imaging/data/SANOFI-RNA-delivery/2023-05-11_LNP-SignalComparison/acquisition/XPO/XPO1-18Oligo/XPO1-18Oligo_2_pos0_DAPI.tif'),\n",
    "#                   Path('/media/PBI_big_data/rna-imaging/data/SANOFI-RNA-delivery/2023-05-11_LNP-SignalComparison/acquisition/XPO/XPO1-18Oligo/XPO1-18Oligo_3_pos0_DAPI.tif'),\n",
    "#                   Path('/media/PBI_big_data/rna-imaging/data/SANOFI-RNA-delivery/2023-05-11_LNP-SignalComparison/acquisition/XPO/XPO1-24Oligo/XPO1-24Oligo_2_pos0_DAPI.tif'),\n",
    "#                   Path('/media/PBI_big_data/rna-imaging/data/SANOFI-RNA-delivery/2023-05-11_LNP-SignalComparison/acquisition/XPO/XPO1-24Oligo/XPO1-24Oligo_3_pos0_DAPI.tif'),\n",
    "#                   Path('/media/PBI_big_data/rna-imaging/data/SANOFI-RNA-delivery/2023-05-11_LNP-SignalComparison/acquisition/XPO/XPO1-24Oligo/XPO1-24Oligo_4_pos0_DAPI.tif'),\n",
    "#                   ]  \n",
    "\n",
    "# for u in BATCH_XPO1_FISH:        # check those files exist:\n",
    "#      print(os.path.isfile(u))     \n",
    "# for u in BATCH_XPO1_DAPI:\n",
    "#      print(os.path.isfile(u))\n",
    "     \n",
    "# BATCH_EP_FISH = [Path('/media/PBI_big_data/rna-imaging/data/SANOFI-RNA-delivery/2023-05-11_LNP-SignalComparison/acquisition/Electroporation/Electroporation-1/Electro-1_1_pos0_FISH.tif'),  \n",
    "#                  Path('/media/PBI_big_data/rna-imaging/data/SANOFI-RNA-delivery/2023-05-11_LNP-SignalComparison/acquisition/Electroporation/Electroporation-1/Electro-1_2_pos0_FISH.tif'),  \n",
    "#                  Path('/media/PBI_big_data/rna-imaging/data/SANOFI-RNA-delivery/2023-05-11_LNP-SignalComparison/acquisition/Electroporation/Electroporation-1/Electro-1_3_pos0_FISH.tif'),\n",
    "#                  Path('/media/PBI_big_data/rna-imaging/data/SANOFI-RNA-delivery/2023-05-11_LNP-SignalComparison/acquisition/Electroporation/Electroporation-1/Electro-1_5_pos0_FISH.tif'),\n",
    "#                  Path('/media/PBI_big_data/rna-imaging/data/SANOFI-RNA-delivery/2023-05-11_LNP-SignalComparison/acquisition/Electroporation/Electroporation-1/Electro-1_6_pos0_FISH.tif'), ]\n",
    "\n",
    "# BATCH_EP_DAPI = [Path('/media/PBI_big_data/rna-imaging/data/SANOFI-RNA-delivery/2023-05-11_LNP-SignalComparison/acquisition/Electroporation/Electroporation-1/Electro-1_1_pos0_DAPI.tif'),  \n",
    "#                  Path('/media/PBI_big_data/rna-imaging/data/SANOFI-RNA-delivery/2023-05-11_LNP-SignalComparison/acquisition/Electroporation/Electroporation-1/Electro-1_2_pos0_DAPI.tif'),  \n",
    "#                  Path('/media/PBI_big_data/rna-imaging/data/SANOFI-RNA-delivery/2023-05-11_LNP-SignalComparison/acquisition/Electroporation/Electroporation-1/Electro-1_3_pos0_DAPI.tif'),\n",
    "#                  Path('/media/PBI_big_data/rna-imaging/data/SANOFI-RNA-delivery/2023-05-11_LNP-SignalComparison/acquisition/Electroporation/Electroporation-1/Electro-1_5_pos0_DAPI.tif'),\n",
    "#                  Path('/media/PBI_big_data/rna-imaging/data/SANOFI-RNA-delivery/2023-05-11_LNP-SignalComparison/acquisition/Electroporation/Electroporation-1/Electro-1_6_pos0_DAPI.tif'), ]\n",
    "\n",
    "# for u in BATCH_EP_FISH:\n",
    "#      print(os.path.isfile(u))\n",
    "# for u in BATCH_EP_DAPI:\n",
    "#      print(os.path.isfile(u))     \n",
    "     \n",
    "# BATCH_LNP_FISH = [Path('/media/PBI_big_data/rna-imaging/data/SANOFI-RNA-delivery/2023-05-11_LNP-SignalComparison/acquisition/LNP/LNP_0/LNP_0_1_pos0_FISH.tif'),\n",
    "#                   Path('/media/PBI_big_data/rna-imaging/data/SANOFI-RNA-delivery/2023-05-11_LNP-SignalComparison/acquisition/LNP/LNP_0/LNP_0_2_pos0_FISH.tif'),\n",
    "#                   Path('/media/PBI_big_data/rna-imaging/data/SANOFI-RNA-delivery/2023-05-11_LNP-SignalComparison/acquisition/LNP/LNP_0/LNP_0_3_pos0_FISH.tif'),  \n",
    "#                   Path('/media/PBI_big_data/rna-imaging/data/SANOFI-RNA-delivery/2023-05-11_LNP-SignalComparison/acquisition/LNP/LNP_4/LNP_4_1_pos0_FISH.tif'),\n",
    "#                   Path('/media/PBI_big_data/rna-imaging/data/SANOFI-RNA-delivery/2023-05-11_LNP-SignalComparison/acquisition/LNP/LNP_4/LNP_4_2_pos0_FISH.tif'),\n",
    "#                   Path('/media/PBI_big_data/rna-imaging/data/SANOFI-RNA-delivery/2023-05-11_LNP-SignalComparison/acquisition/LNP/LNP_4/LNP_4_3_pos0_FISH.tif'),\n",
    "#                   Path('/media/PBI_big_data/rna-imaging/data/SANOFI-RNA-delivery/2023-05-11_LNP-SignalComparison/acquisition/LNP/LNP_10/LNP_10_1_pos0_FISH.tif'),\n",
    "#                   Path('/media/PBI_big_data/rna-imaging/data/SANOFI-RNA-delivery/2023-05-11_LNP-SignalComparison/acquisition/LNP/LNP_10/LNP_10_2_pos0_FISH.tif'),\n",
    "#                   Path('/media/PBI_big_data/rna-imaging/data/SANOFI-RNA-delivery/2023-05-11_LNP-SignalComparison/acquisition/LNP/LNP_40/LNP_40_1_pos0_FISH.tif'),\n",
    "#                   Path('/media/PBI_big_data/rna-imaging/data/SANOFI-RNA-delivery/2023-05-11_LNP-SignalComparison/acquisition/LNP/LNP_40/LNP_40_2_pos0_FISH.tif'),\n",
    "#                   ]\n",
    "\n",
    "# BATCH_LNP_DAPI = [Path('/media/PBI_big_data/rna-imaging/data/SANOFI-RNA-delivery/2023-05-11_LNP-SignalComparison/acquisition/LNP/LNP_0/LNP_0_1_pos0_DAPI.tif'),\n",
    "#                   Path('/media/PBI_big_data/rna-imaging/data/SANOFI-RNA-delivery/2023-05-11_LNP-SignalComparison/acquisition/LNP/LNP_0/LNP_0_2_pos0_DAPI.tif'),\n",
    "#                   Path('/media/PBI_big_data/rna-imaging/data/SANOFI-RNA-delivery/2023-05-11_LNP-SignalComparison/acquisition/LNP/LNP_0/LNP_0_3_pos0_DAPI.tif'),\n",
    "#                   Path('/media/PBI_big_data/rna-imaging/data/SANOFI-RNA-delivery/2023-05-11_LNP-SignalComparison/acquisition/LNP/LNP_4/LNP_4_1_pos0_DAPI.tif'),\n",
    "#                   Path('/media/PBI_big_data/rna-imaging/data/SANOFI-RNA-delivery/2023-05-11_LNP-SignalComparison/acquisition/LNP/LNP_4/LNP_4_2_pos0_DAPI.tif'),\n",
    "#                   Path('/media/PBI_big_data/rna-imaging/data/SANOFI-RNA-delivery/2023-05-11_LNP-SignalComparison/acquisition/LNP/LNP_4/LNP_4_3_pos0_DAPI.tif'),\n",
    "#                   Path('/media/PBI_big_data/rna-imaging/data/SANOFI-RNA-delivery/2023-05-11_LNP-SignalComparison/acquisition/LNP/LNP_10/LNP_10_1_pos0_DAPI.tif'),\n",
    "#                   Path('/media/PBI_big_data/rna-imaging/data/SANOFI-RNA-delivery/2023-05-11_LNP-SignalComparison/acquisition/LNP/LNP_10/LNP_10_2_pos0_DAPI.tif'),\n",
    "#                   Path('/media/PBI_big_data/rna-imaging/data/SANOFI-RNA-delivery/2023-05-11_LNP-SignalComparison/acquisition/LNP/LNP_40/LNP_40_1_pos0_DAPI.tif'),\n",
    "#                   Path('/media/PBI_big_data/rna-imaging/data/SANOFI-RNA-delivery/2023-05-11_LNP-SignalComparison/acquisition/LNP/LNP_40/LNP_40_2_pos0_DAPI.tif'),\n",
    "#                   ]\n",
    " \n",
    "# for u in  BATCH_LNP_FISH:\n",
    "#      print(os.path.isfile(u))\n",
    "     \n",
    "# for u in BATCH_LNP_DAPI:\n",
    "#      print(os.path.isfile(u))"
   ]
  },
  {
   "cell_type": "markdown",
   "metadata": {},
   "source": [
    "Copy the folders locally to ../Acquisition/{batch_name}/{modality}/{channel}:"
   ]
  },
  {
   "cell_type": "code",
   "execution_count": 33,
   "metadata": {},
   "outputs": [],
   "source": [
    "# for mod in modalities:    \n",
    "#     for chan in channels:\n",
    "#         file_path = eval(f'BATCH_{mod}_{chan}')\n",
    "#         for file in file_path:\n",
    "#             im_c = io.imread(file)\n",
    "#             name = Path(file).name\n",
    "#             file_path = str(Path(f\"../Acquisition/{batch_name}/{mod}\")/ Path(chan) / name)\n",
    "#             io.imsave(file_path, im_c)"
   ]
  },
  {
   "cell_type": "markdown",
   "metadata": {},
   "source": [
    "# End of A or B"
   ]
  },
  {
   "cell_type": "markdown",
   "metadata": {},
   "source": [
    "#### Finally execute these last cells to collect the constants.\n",
    "#### The convention is to write the constants that we want to pass by to the other notebooks in uppercase at the end of the notebook.\n",
    "#### This will create a json file that will be used to communicate between notebooks used in a same batch of experiments."
   ]
  },
  {
   "cell_type": "code",
   "execution_count": null,
   "metadata": {},
   "outputs": [],
   "source": [
    "# MODALITIES   = modalities\n",
    "# CHANNELS     = channels\n",
    "# BATCH_NAME   = batch_name\n",
    "# CHANNELS_NUM = channels_num\n",
    "# COLORS       = colors\n",
    "# STRUCTURES   = strucs"
   ]
  },
  {
   "cell_type": "code",
   "execution_count": 34,
   "metadata": {},
   "outputs": [],
   "source": [
    "# constants2 = tk.collect_constants()\n",
    "# tk.save_constants_and_commit_hash(constants2, BATCH_NAME, folder_path = Path(f\"../Analysis/{BATCH_NAME}\"))"
   ]
  },
  {
   "cell_type": "code",
   "execution_count": null,
   "metadata": {},
   "outputs": [],
   "source": []
  }
 ],
 "metadata": {
  "kernelspec": {
   "display_name": "base_env_apifish",
   "language": "python",
   "name": "python3"
  },
  "language_info": {
   "codemirror_mode": {
    "name": "ipython",
    "version": 3
   },
   "file_extension": ".py",
   "mimetype": "text/x-python",
   "name": "python",
   "nbconvert_exporter": "python",
   "pygments_lexer": "ipython3",
   "version": "3.9.0"
  }
 },
 "nbformat": 4,
 "nbformat_minor": 2
}
