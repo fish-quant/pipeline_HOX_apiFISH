{
 "cells": [
  {
   "cell_type": "markdown",
   "metadata": {},
   "source": [
    "In this notebook we will match the mask numbers of the nuclei and the cell body. \n",
    "In order to do this, the segmentation notebook should have been run with struct = CELL and\n",
    "with struct = NUCLEI.\n",
    "\n",
    "23/04/25     Jacques Bourg @ Florian Muller lab. Institut Pasteur.\n",
    "\n",
    "<img src=\"./HOX_pipeline.png\" alt=\"LNP pipeline\" width=\"1200\" height=\"477\">"
   ]
  },
  {
   "cell_type": "code",
   "execution_count": 4,
   "metadata": {},
   "outputs": [],
   "source": [
    "import sys\n",
    "import os\n",
    "import numpy as np\n",
    "import napari\n",
    "from skimage import io\n",
    "from pathlib import Path\n",
    "import ipywidgets as widgets\n",
    "from IPython.display import display"
   ]
  },
  {
   "cell_type": "code",
   "execution_count": 5,
   "metadata": {},
   "outputs": [
    {
     "name": "stdout",
     "output_type": "stream",
     "text": [
      "The autoreload extension is already loaded. To reload it, use:\n",
      "  %reload_ext autoreload\n"
     ]
    }
   ],
   "source": [
    "%load_ext autoreload\n",
    "%autoreload 2\n",
    "\n",
    "base_dir = Path(\"../../src\").resolve()\n",
    "sys.path.append(str(base_dir))\n",
    "sys.path.append(str(base_dir / \"utils\"))\n",
    "sys.path.append(str(base_dir / \"segmentation\"))\n",
    "sys.path.append(str(base_dir / \"synthesis\"))\n",
    "\n",
    "from segmentation.refine_seg import Segmentation\n",
    "from segmentation.thresh_rois_int_size_napari_v3 import ImageThresholding_v3\n",
    "from synthesis.synthesize import Synthesis\n",
    "from utils.parameters_tracking import Parameter_tracking as Track\n",
    "from utils.file_handling import FileProcessor\n",
    "\n",
    "sg  = Segmentation()\n",
    "st  = Synthesis()\n",
    "tk  = Track()\n",
    "fp  = FileProcessor()"
   ]
  },
  {
   "cell_type": "code",
   "execution_count": 6,
   "metadata": {},
   "outputs": [
    {
     "data": {
      "application/vnd.jupyter.widget-view+json": {
       "model_id": "39ab9cd1b92b432884cc44942ea4abf8",
       "version_major": 2,
       "version_minor": 0
      },
      "text/plain": [
       "Dropdown(description='Select:', layout=Layout(min_width='150px', width='auto'), options=('.gitkeep', 'test2'),…"
      ]
     },
     "metadata": {},
     "output_type": "display_data"
    }
   ],
   "source": [
    "var = str(Path('../Analysis'))\n",
    "batch_folders = os.listdir(var)\n",
    "dropdown = widgets.Dropdown(options=batch_folders, description='Select:', layout=widgets.Layout(width='auto', min_width='150px'))\n",
    "display(dropdown)"
   ]
  },
  {
   "cell_type": "code",
   "execution_count": 7,
   "metadata": {},
   "outputs": [
    {
     "name": "stdout",
     "output_type": "stream",
     "text": [
      "test2\n"
     ]
    }
   ],
   "source": [
    "n         = np.where(np.array(batch_folders) == dropdown.value)[0][0]\n",
    "file_path = str(Path(var) / Path(batch_folders[n]) / Path(batch_folders[n] +'.json'))\n",
    "constants = tk.load_json(file_path)\n",
    "batch_name= constants['BATCH_NAME']; print(batch_name)"
   ]
  },
  {
   "cell_type": "code",
   "execution_count": 8,
   "metadata": {},
   "outputs": [
    {
     "data": {
      "application/vnd.jupyter.widget-view+json": {
       "model_id": "692ca77f8bad4b00b583bad8440c152c",
       "version_major": 2,
       "version_minor": 0
      },
      "text/plain": [
       "Dropdown(description='Select:', layout=Layout(min_width='150px', width='auto'), options=('EXPERIMENT', 'CONTRO…"
      ]
     },
     "metadata": {},
     "output_type": "display_data"
    }
   ],
   "source": [
    "modalities = constants['MODALITIES']\n",
    "dropdown2 = widgets.Dropdown(options=modalities, description='Select:', layout=widgets.Layout(width='auto', min_width='150px'))\n",
    "display(dropdown2)"
   ]
  },
  {
   "cell_type": "code",
   "execution_count": 9,
   "metadata": {},
   "outputs": [
    {
     "name": "stdout",
     "output_type": "stream",
     "text": [
      "EXPERIMENT\n"
     ]
    }
   ],
   "source": [
    "n2  = np.where(np.array(modalities) == dropdown2.value)[0][0] \n",
    "modality = modalities[n2]; print(modality)"
   ]
  },
  {
   "cell_type": "markdown",
   "metadata": {},
   "source": [
    "The cell statistics depend on the spot detection method, and therefore we will create a statistics folder for each method  "
   ]
  },
  {
   "cell_type": "code",
   "execution_count": 10,
   "metadata": {},
   "outputs": [
    {
     "data": {
      "application/vnd.jupyter.widget-view+json": {
       "model_id": "76ca71fac5eb48f8a457f741ec604682",
       "version_major": 2,
       "version_minor": 0
      },
      "text/plain": [
       "Dropdown(description='Select:', layout=Layout(min_width='150px', width='auto'), options=('UFISH', 'BIGFISH'), …"
      ]
     },
     "metadata": {},
     "output_type": "display_data"
    }
   ],
   "source": [
    "detection_methods = ['UFISH','BIGFISH']\n",
    "dropdown8         = widgets.Dropdown(options=detection_methods, description='Select:', layout=widgets.Layout(width='auto', min_width='150px'))\n",
    "display(dropdown8)"
   ]
  },
  {
   "cell_type": "code",
   "execution_count": 11,
   "metadata": {},
   "outputs": [
    {
     "name": "stdout",
     "output_type": "stream",
     "text": [
      "BIGFISH\n"
     ]
    }
   ],
   "source": [
    "n8     = np.where(np.array(detection_methods) == dropdown8.value)[0][0]\n",
    "meth   = detection_methods[n8]; print(meth)"
   ]
  },
  {
   "cell_type": "markdown",
   "metadata": {},
   "source": [
    "Model selection"
   ]
  },
  {
   "cell_type": "code",
   "execution_count": 12,
   "metadata": {},
   "outputs": [
    {
     "name": "stdout",
     "output_type": "stream",
     "text": [
      "Selected folder: /home/jacques/Documents/FISH/Data_analysis/pipeline_smfish_in_apifish/pipeline_HOX_apiFISH/HOX_pipeline/Analysis/test2/EXPERIMENT/DAPI/NUCLEI/train_2D/models\n"
     ]
    },
    {
     "data": {
      "application/vnd.jupyter.widget-view+json": {
       "model_id": "db986ffbd00142cfb379e02d1561c5b8",
       "version_major": 2,
       "version_minor": 0
      },
      "text/plain": [
       "Dropdown(description='Select:', layout=Layout(min_width='150px', width='auto'), options=('CP_20250616_142322',…"
      ]
     },
     "metadata": {},
     "output_type": "display_data"
    }
   ],
   "source": [
    "folder_models          = fp.select_folder(initialdir = str(Path(f'../Analysis/{batch_name}/{modality}/DAPI/NUCLEI/train_2D/')), title=\"Select the path to the cell pose models folder (ex  .../FISH/.../train2D/models) \")     \n",
    "batch_models           = os.listdir(folder_models)\n",
    "batch_models_filtered  = [el for el in batch_models if Path(el).suffix == '']\n",
    "dropdown_model         = widgets.Dropdown(options=batch_models_filtered, description='Select:', layout=widgets.Layout(width='auto', min_width='150px'))\n",
    "display(dropdown_model)"
   ]
  },
  {
   "cell_type": "code",
   "execution_count": 13,
   "metadata": {},
   "outputs": [
    {
     "name": "stdout",
     "output_type": "stream",
     "text": [
      "CP_20250616_142322\n"
     ]
    }
   ],
   "source": [
    "n4    = np.where((np.array(batch_models) == dropdown_model.value))[0][0]\n",
    "model = batch_models[n4]; print(model)"
   ]
  },
  {
   "cell_type": "code",
   "execution_count": 14,
   "metadata": {},
   "outputs": [],
   "source": [
    "pretrained_model   = Path(folder_models) / Path(model)\n",
    "batch_mod_chan_mip = constants[f'BATCH_{modality}_DAPI_NUCLEI_MIP']\n",
    "max_px_thresh      = 200**2\n",
    "batch              = [Path(el).resolve() for el in batch_mod_chan_mip]"
   ]
  },
  {
   "cell_type": "code",
   "execution_count": 15,
   "metadata": {},
   "outputs": [],
   "source": [
    "mask_nuc_list_path = constants[f'MASK_{modality}_DAPI_NUCLEI_LIST_PATH']\n",
    "mask_contours_path = constants[f'MASK_{modality}_DAPI_NUCLEI_CONTOURS_PATH']\n",
    "dict_masks_nuc     = fp.load_masks_distributed_files(mask_nuc_list_path)"
   ]
  },
  {
   "cell_type": "markdown",
   "metadata": {},
   "source": [
    "We will now clean the cell/ nuclei masks based on area an intensity criteria."
   ]
  },
  {
   "cell_type": "code",
   "execution_count": 16,
   "metadata": {},
   "outputs": [],
   "source": [
    "mask_nuclei_clean_folder_path   = Path(f\"../Analysis/{batch_name}/{modality}/DAPI/NUCLEI/masks_cleaned\") # create folder for clean nuclei masks\n",
    "if not mask_nuclei_clean_folder_path.exists():\n",
    "    mask_nuclei_clean_folder_path.mkdir(parents=True)"
   ]
  },
  {
   "cell_type": "code",
   "execution_count": 17,
   "metadata": {},
   "outputs": [],
   "source": [
    "im_thr = ImageThresholding_v3(batch, pretrained_model, BATCH_NAME=batch_name, maw_px_thresh=max_px_thresh, MASK_NUC_LIST_PATH= mask_nuc_list_path, MASK_CONTOURS_LIST_PATH=mask_contours_path)\n",
    "im_thr.run()"
   ]
  },
  {
   "cell_type": "markdown",
   "metadata": {},
   "source": [
    "After closing the app start from here on."
   ]
  },
  {
   "cell_type": "code",
   "execution_count": 18,
   "metadata": {},
   "outputs": [],
   "source": [
    "mask_thresh_area_path    = mask_nuclei_clean_folder_path / Path(f\"{batch_name}_masks_thresh_area.npy\")\n",
    "mask_removed_labels_path = mask_nuclei_clean_folder_path / Path(f\"{batch_name}_masks_removed.npy\")\n",
    "\n",
    "np.save(mask_thresh_area_path, im_thr.dict_thresh_i_pixa)     \n",
    "np.save(mask_removed_labels_path, im_thr.dict_labels_to_rem)    # store intermediary files."
   ]
  },
  {
   "cell_type": "code",
   "execution_count": 19,
   "metadata": {},
   "outputs": [],
   "source": [
    "mask_cell_clean_folder_path   = Path(f\"../Analysis/{batch_name}/{modality}/DAPI/CELL/masks_cleaned\")  # create folder for clean cell masks\n",
    "if not mask_cell_clean_folder_path.exists():\n",
    "    mask_cell_clean_folder_path.mkdir(parents=True)\n",
    "    \n",
    "mask_nuclei_cleaned_list_path = mask_nuclei_clean_folder_path / Path(f\"{batch_name}_masks_{modality}_DAPI_NUCLEI.npy\")\n",
    "mask_cell_cleaned_list_path   = mask_cell_clean_folder_path   / Path(f\"{batch_name}_masks_{modality}_DAPI_CELL.npy\") "
   ]
  },
  {
   "cell_type": "code",
   "execution_count": 20,
   "metadata": {},
   "outputs": [
    {
     "name": "stdout",
     "output_type": "stream",
     "text": [
      "../Analysis/test2/EXPERIMENT/DAPI/CELL/stats\n",
      "../Analysis/test2/EXPERIMENT/DAPI/CELL/stats/BIGFISH\n",
      "../Analysis/test2/EXPERIMENT/DAPI/CELL/stats/BIGFISH/FISH0\n",
      "../Analysis/test2/EXPERIMENT/DAPI/CELL/stats/BIGFISH/FISH1\n"
     ]
    }
   ],
   "source": [
    "# before starting: create stats for each gene channel:\n",
    "  \n",
    "stats_folder = Path(f\"../Analysis/{batch_name}/{modality}/DAPI/CELL/stats\")    # create the folder masks stats (for the cells)\n",
    "if not stats_folder.exists():\n",
    "    stats_folder.mkdir(parents=True)\n",
    "print(stats_folder)     \n",
    "\n",
    "stats_folder_meth = Path(f\"../Analysis/{batch_name}/{modality}/DAPI/CELL/stats/{meth}\")    # create the folder masks stats (for the cells)\n",
    "if not stats_folder_meth.exists():\n",
    "    stats_folder_meth.mkdir(parents=True)\n",
    "print(stats_folder_meth)\n",
    "\n",
    "\n",
    "for chan_f_t in constants['CHANNELS']:\n",
    "    if chan_f_t != 'DAPI':\n",
    "        stats_gene_folder_meth = Path(f\"../Analysis/{batch_name}/{modality}/DAPI/CELL/stats/{meth}/{chan_f_t}\")    # create the folder masks stats (for the cells)\n",
    "        if not stats_gene_folder_meth.exists():\n",
    "            stats_gene_folder_meth.mkdir(parents=True)\n",
    "        print(stats_gene_folder_meth)\n",
    "\n",
    "        mask_nuc_list_path = constants[f'MASK_{modality}_DAPI_NUCLEI_LIST_PATH']\n",
    "        file_ref_mask_stats = stats_gene_folder_meth / f'masks_stats_refs.npy'\n",
    "        fp.save_masks_stats_distributed_files_init(file_ref_mask_stats, mask_nuc_list_path, col_name='Cell_ID')  # numpy_file_add: str,  mask_path: str, col_name='Cell_ID'  \n",
    "        \n",
    "        exec(f\"MASK_{modality}_CELL_STATS_{meth}_{chan_f_t}_LIST_PATH = file_ref_mask_stats\", globals())"
   ]
  },
  {
   "cell_type": "code",
   "execution_count": 22,
   "metadata": {},
   "outputs": [],
   "source": [
    "exec(f\"MASK_{modality}_DAPI_NUCLEI_CLEANED_LIST_PATH = mask_nuclei_cleaned_list_path\", globals())\n",
    "exec(f\"MASK_{modality}_DAPI_CELL_CLEANED_LIST_PATH = mask_cell_cleaned_list_path\", globals())\n",
    "exec(f\"MASK_{modality}_DAPI_NUCLEI_REMOVED_LABELS_LIST_PATH = mask_removed_labels_path\", globals())"
   ]
  },
  {
   "cell_type": "code",
   "execution_count": 23,
   "metadata": {},
   "outputs": [],
   "source": [
    "constants2 = tk.collect_constants()\n",
    "tk.save_constants_and_commit_hash(constants2, batch_name, folder_path = Path(f\"../Analysis/{batch_name}\"))"
   ]
  },
  {
   "cell_type": "code",
   "execution_count": 24,
   "metadata": {},
   "outputs": [],
   "source": [
    "constants = tk.load_json(file_path)"
   ]
  },
  {
   "cell_type": "markdown",
   "metadata": {},
   "source": [
    "Run for each gene:"
   ]
  },
  {
   "cell_type": "code",
   "execution_count": 25,
   "metadata": {},
   "outputs": [
    {
     "data": {
      "application/vnd.jupyter.widget-view+json": {
       "model_id": "459324ac4e6e47f380844b2316dbe43a",
       "version_major": 2,
       "version_minor": 0
      },
      "text/plain": [
       "Dropdown(description='Select:', layout=Layout(min_width='150px', width='auto'), options=('DAPI', 'FISH0', 'FIS…"
      ]
     },
     "metadata": {},
     "output_type": "display_data"
    }
   ],
   "source": [
    "channels_fish = constants['CHANNELS'] #   choose a FISH channel, DAPI doesn't make sense\n",
    "dropdown_f = widgets.Dropdown(options=channels_fish, description='Select:', layout=widgets.Layout(width='auto', min_width='150px'))\n",
    "display(dropdown_f)"
   ]
  },
  {
   "cell_type": "code",
   "execution_count": 29,
   "metadata": {},
   "outputs": [
    {
     "name": "stdout",
     "output_type": "stream",
     "text": [
      "FISH1\n"
     ]
    }
   ],
   "source": [
    "n_fish = np.where(np.array(channels_fish) == dropdown_f.value)[0][0]\n",
    "chan_f = channels_fish[n_fish]; print(chan_f)"
   ]
  },
  {
   "cell_type": "code",
   "execution_count": 30,
   "metadata": {},
   "outputs": [
    {
     "name": "stderr",
     "output_type": "stream",
     "text": [
      "/home/jacques/miniconda3/envs/base_env_apifish/lib/python3.10/site-packages/skimage/_shared/utils.py:328: UserWarning: /home/jacques/Documents/FISH/Data_analysis/pipeline_smfish_in_apifish/pipeline_HOX_apiFISH/HOX_pipeline/Analysis/test2/EXPERIMENT/DAPI/NUCLEI/masks_cleaned/HM40-J3DIFF-NT6h-HOXA10-620_HOXC8-520-1002-1.png is a low contrast image\n",
      "  return func(*args, **kwargs)\n",
      "/home/jacques/miniconda3/envs/base_env_apifish/lib/python3.10/site-packages/skimage/_shared/utils.py:328: UserWarning: /home/jacques/Documents/FISH/Data_analysis/pipeline_smfish_in_apifish/pipeline_HOX_apiFISH/HOX_pipeline/Analysis/test2/EXPERIMENT/DAPI/NUCLEI/masks_cleaned/HM40-J3DIFF-NT24h-HOXA10-620_HOXC8-520-1005-1.png is a low contrast image\n",
      "  return func(*args, **kwargs)\n",
      "/home/jacques/miniconda3/envs/base_env_apifish/lib/python3.10/site-packages/skimage/_shared/utils.py:328: UserWarning: /home/jacques/Documents/FISH/Data_analysis/pipeline_smfish_in_apifish/pipeline_HOX_apiFISH/HOX_pipeline/Analysis/test2/EXPERIMENT/DAPI/NUCLEI/masks_cleaned/HM40-J3DIFF-NT48h-HOXA10-620_HOXC8-520-1008-1.png is a low contrast image\n",
      "  return func(*args, **kwargs)\n",
      "/home/jacques/miniconda3/envs/base_env_apifish/lib/python3.10/site-packages/skimage/_shared/utils.py:328: UserWarning: /home/jacques/Documents/FISH/Data_analysis/pipeline_smfish_in_apifish/pipeline_HOX_apiFISH/HOX_pipeline/Analysis/test2/EXPERIMENT/DAPI/NUCLEI/masks_cleaned/HM40-J3DIFF-GDF6h-HOXA10-620_HOXC8-522-1.png is a low contrast image\n",
      "  return func(*args, **kwargs)\n",
      "/home/jacques/miniconda3/envs/base_env_apifish/lib/python3.10/site-packages/skimage/_shared/utils.py:328: UserWarning: /home/jacques/Documents/FISH/Data_analysis/pipeline_smfish_in_apifish/pipeline_HOX_apiFISH/HOX_pipeline/Analysis/test2/EXPERIMENT/DAPI/NUCLEI/masks_cleaned/HM40-J3DIFF-GDF24h-HOXA10-620_HOXC8-525-1.png is a low contrast image\n",
      "  return func(*args, **kwargs)\n",
      "/home/jacques/miniconda3/envs/base_env_apifish/lib/python3.10/site-packages/skimage/_shared/utils.py:328: UserWarning: /home/jacques/Documents/FISH/Data_analysis/pipeline_smfish_in_apifish/pipeline_HOX_apiFISH/HOX_pipeline/Analysis/test2/EXPERIMENT/DAPI/NUCLEI/masks_cleaned/HM40-J3DIFF-GDF48h-HOXA10-620_HOXC8-528-1.png is a low contrast image\n",
      "  return func(*args, **kwargs)\n",
      "/home/jacques/miniconda3/envs/base_env_apifish/lib/python3.10/site-packages/skimage/_shared/utils.py:328: UserWarning: /home/jacques/Documents/FISH/Data_analysis/pipeline_smfish_in_apifish/pipeline_HOX_apiFISH/HOX_pipeline/Analysis/test2/EXPERIMENT/DAPI/NUCLEI/masks_cleaned/HM40-J3DIFF-FGFGDF6h-HOXA10-620_HOXC8-531-1.png is a low contrast image\n",
      "  return func(*args, **kwargs)\n",
      "/home/jacques/miniconda3/envs/base_env_apifish/lib/python3.10/site-packages/skimage/_shared/utils.py:328: UserWarning: /home/jacques/Documents/FISH/Data_analysis/pipeline_smfish_in_apifish/pipeline_HOX_apiFISH/HOX_pipeline/Analysis/test2/EXPERIMENT/DAPI/NUCLEI/masks_cleaned/HM40-J3DIFF-FGFGDF24h-HOXA10-620_HOXC8-534-1.png is a low contrast image\n",
      "  return func(*args, **kwargs)\n",
      "/home/jacques/miniconda3/envs/base_env_apifish/lib/python3.10/site-packages/skimage/_shared/utils.py:328: UserWarning: /home/jacques/Documents/FISH/Data_analysis/pipeline_smfish_in_apifish/pipeline_HOX_apiFISH/HOX_pipeline/Analysis/test2/EXPERIMENT/DAPI/NUCLEI/masks_cleaned/HM40-J3DIFF-FGFGDF48h-HOXA10-620_HOXC8-537-1.png is a low contrast image\n",
      "  return func(*args, **kwargs)\n",
      "/home/jacques/miniconda3/envs/base_env_apifish/lib/python3.10/site-packages/skimage/_shared/utils.py:328: UserWarning: /home/jacques/Documents/FISH/Data_analysis/pipeline_smfish_in_apifish/pipeline_HOX_apiFISH/HOX_pipeline/Analysis/test2/EXPERIMENT/DAPI/CELL/masks_cleaned/HM40-J3DIFF-NT6h-HOXA10-620_HOXC8-520-1002-1.png is a low contrast image\n",
      "  return func(*args, **kwargs)\n",
      "/home/jacques/miniconda3/envs/base_env_apifish/lib/python3.10/site-packages/skimage/_shared/utils.py:328: UserWarning: /home/jacques/Documents/FISH/Data_analysis/pipeline_smfish_in_apifish/pipeline_HOX_apiFISH/HOX_pipeline/Analysis/test2/EXPERIMENT/DAPI/CELL/masks_cleaned/HM40-J3DIFF-NT24h-HOXA10-620_HOXC8-520-1005-1.png is a low contrast image\n",
      "  return func(*args, **kwargs)\n",
      "/home/jacques/miniconda3/envs/base_env_apifish/lib/python3.10/site-packages/skimage/_shared/utils.py:328: UserWarning: /home/jacques/Documents/FISH/Data_analysis/pipeline_smfish_in_apifish/pipeline_HOX_apiFISH/HOX_pipeline/Analysis/test2/EXPERIMENT/DAPI/CELL/masks_cleaned/HM40-J3DIFF-NT48h-HOXA10-620_HOXC8-520-1008-1.png is a low contrast image\n",
      "  return func(*args, **kwargs)\n",
      "/home/jacques/miniconda3/envs/base_env_apifish/lib/python3.10/site-packages/skimage/_shared/utils.py:328: UserWarning: /home/jacques/Documents/FISH/Data_analysis/pipeline_smfish_in_apifish/pipeline_HOX_apiFISH/HOX_pipeline/Analysis/test2/EXPERIMENT/DAPI/CELL/masks_cleaned/HM40-J3DIFF-GDF6h-HOXA10-620_HOXC8-522-1.png is a low contrast image\n",
      "  return func(*args, **kwargs)\n",
      "/home/jacques/miniconda3/envs/base_env_apifish/lib/python3.10/site-packages/skimage/_shared/utils.py:328: UserWarning: /home/jacques/Documents/FISH/Data_analysis/pipeline_smfish_in_apifish/pipeline_HOX_apiFISH/HOX_pipeline/Analysis/test2/EXPERIMENT/DAPI/CELL/masks_cleaned/HM40-J3DIFF-GDF24h-HOXA10-620_HOXC8-525-1.png is a low contrast image\n",
      "  return func(*args, **kwargs)\n",
      "/home/jacques/miniconda3/envs/base_env_apifish/lib/python3.10/site-packages/skimage/_shared/utils.py:328: UserWarning: /home/jacques/Documents/FISH/Data_analysis/pipeline_smfish_in_apifish/pipeline_HOX_apiFISH/HOX_pipeline/Analysis/test2/EXPERIMENT/DAPI/CELL/masks_cleaned/HM40-J3DIFF-GDF48h-HOXA10-620_HOXC8-528-1.png is a low contrast image\n",
      "  return func(*args, **kwargs)\n",
      "/home/jacques/miniconda3/envs/base_env_apifish/lib/python3.10/site-packages/skimage/_shared/utils.py:328: UserWarning: /home/jacques/Documents/FISH/Data_analysis/pipeline_smfish_in_apifish/pipeline_HOX_apiFISH/HOX_pipeline/Analysis/test2/EXPERIMENT/DAPI/CELL/masks_cleaned/HM40-J3DIFF-FGFGDF6h-HOXA10-620_HOXC8-531-1.png is a low contrast image\n",
      "  return func(*args, **kwargs)\n",
      "/home/jacques/miniconda3/envs/base_env_apifish/lib/python3.10/site-packages/skimage/_shared/utils.py:328: UserWarning: /home/jacques/Documents/FISH/Data_analysis/pipeline_smfish_in_apifish/pipeline_HOX_apiFISH/HOX_pipeline/Analysis/test2/EXPERIMENT/DAPI/CELL/masks_cleaned/HM40-J3DIFF-FGFGDF24h-HOXA10-620_HOXC8-534-1.png is a low contrast image\n",
      "  return func(*args, **kwargs)\n",
      "/home/jacques/miniconda3/envs/base_env_apifish/lib/python3.10/site-packages/skimage/_shared/utils.py:328: UserWarning: /home/jacques/Documents/FISH/Data_analysis/pipeline_smfish_in_apifish/pipeline_HOX_apiFISH/HOX_pipeline/Analysis/test2/EXPERIMENT/DAPI/CELL/masks_cleaned/HM40-J3DIFF-FGFGDF48h-HOXA10-620_HOXC8-537-1.png is a low contrast image\n",
      "  return func(*args, **kwargs)\n"
     ]
    }
   ],
   "source": [
    "file_ref_mask_stats           = constants[f'MASK_{modality}_CELL_STATS_{meth}_{chan_f}_LIST_PATH']\n",
    "mask_cells_list_path          = constants[f'MASK_{modality}_DAPI_CELL_LIST_PATH']\n",
    "dict_masks_cells              = fp.load_masks_distributed_files(mask_cells_list_path)\n",
    "dict_mask_cells_to_rem        = np.load(mask_removed_labels_path, allow_pickle=True)[()]\n",
    "dic_masks_cell_stats          = fp.load_pd_distributed_files(file_ref_mask_stats)\n",
    "\n",
    "batch_mod_chan_mip            = constants[f'BATCH_{modality}_DAPI_NUCLEI_MIP']\n",
    "\n",
    "dict_mask_cells_clean         = {}\n",
    "dict_mask_nuc_clean           = {}\n",
    "viewer1                       = napari.Viewer(title=\"Clean nuclei\")\n",
    "\n",
    "counter         = 0\n",
    "for ind, file in enumerate(batch_mod_chan_mip):\n",
    "    file        = Path(file)\n",
    "    im          = io.imread(file)\n",
    "    base_name   = '_'.join(file.stem.split('_')[:-3])\n",
    "    \n",
    "    masks_cells        = dict_masks_cells[base_name]                             #cleaning\n",
    "    masks_cells_clean  = sg.remove_labels_from_masks(masks_cells, label_list=dict_mask_cells_to_rem[base_name])\n",
    "    masks_nuc          = dict_masks_nuc[base_name]\n",
    "    masks_nuc_clean    = sg.remove_labels_from_masks(masks_nuc, label_list=dict_mask_cells_to_rem[base_name])\n",
    "\n",
    "    df_stats_cells     = dic_masks_cell_stats[base_name]\n",
    "    df_stats_cells     = st.roi_selection_account(df_stats_cells, dict_mask_cells_to_rem[base_name])\n",
    "    dic_masks_cell_stats[base_name] = df_stats_cells\n",
    "\n",
    "    viewer1.add_image(im, rgb=False, name=f\"DAPI  {base_name}\")\n",
    "    viewer1.add_labels(masks_nuc, name=f\"Nuclei {base_name}\", opacity=.2, blending='translucent')\n",
    "    viewer1.add_labels(masks_nuc_clean, name=f\"Nuclei cleaned{base_name}\", opacity=.2, blending='translucent')    \n",
    "    viewer1.add_labels(masks_cells, name=f\"Cells {base_name}\", opacity=.8, blending='translucent')\n",
    "    viewer1.add_labels(masks_cells_clean, name=f\"Cells cleaned {base_name}\", opacity=.8, blending='translucent')\n",
    " \n",
    "    if counter != 0:\n",
    "        viewer1.layers[f\"DAPI  {base_name}\"].visible          = False\n",
    "        viewer1.layers[f\"Nuclei {base_name}\"].visible         = False\n",
    "        viewer1.layers[f\"Nuclei cleaned{base_name}\"].visible  = False \n",
    "        viewer1.layers[f\"Cells {base_name}\"].visible          = False \n",
    "        viewer1.layers[f\"Cells cleaned {base_name}\"].visible   = False \n",
    "\n",
    "    counter +=1    \n",
    "    dict_mask_cells_clean[base_name] = masks_cells_clean\n",
    "    dict_mask_nuc_clean[base_name]   = masks_nuc_clean\n",
    "\n",
    "fp.save_masks_distributed_files(mask_nuclei_cleaned_list_path, dict_mask_nuc_clean)\n",
    "fp.save_masks_distributed_files(mask_cell_cleaned_list_path, dict_mask_cells_clean)\n",
    "fp.save_masks_stats_distributed_files_modif(file_ref_mask_stats,  dic_masks_cell_stats)"
   ]
  },
  {
   "cell_type": "code",
   "execution_count": 31,
   "metadata": {},
   "outputs": [],
   "source": [
    "exec(f\"MASK_{modality}_DAPI_NUCLEI_CLEANED_LIST_PATH = mask_nuclei_cleaned_list_path\", globals())\n",
    "exec(f\"MASK_{modality}_DAPI_CELL_CLEANED_LIST_PATH = mask_cell_cleaned_list_path\", globals())\n",
    "exec(f\"MASK_{modality}_DAPI_NUCLEI_REMOVED_LABELS_LIST_PATH = mask_removed_labels_path\", globals())"
   ]
  },
  {
   "cell_type": "markdown",
   "metadata": {},
   "source": [
    "end of run for each gene"
   ]
  },
  {
   "cell_type": "code",
   "execution_count": 32,
   "metadata": {},
   "outputs": [],
   "source": [
    "constants2 = tk.collect_constants()\n",
    "tk.save_constants_and_commit_hash(constants2, batch_name, folder_path = Path(f\"../Analysis/{batch_name}\"))"
   ]
  },
  {
   "cell_type": "code",
   "execution_count": null,
   "metadata": {},
   "outputs": [],
   "source": []
  }
 ],
 "metadata": {
  "kernelspec": {
   "display_name": "base_env_apifish",
   "language": "python",
   "name": "base_env_apifish"
  },
  "language_info": {
   "codemirror_mode": {
    "name": "ipython",
    "version": 3
   },
   "file_extension": ".py",
   "mimetype": "text/x-python",
   "name": "python",
   "nbconvert_exporter": "python",
   "pygments_lexer": "ipython3",
   "version": "3.10.16"
  }
 },
 "nbformat": 4,
 "nbformat_minor": 2
}
